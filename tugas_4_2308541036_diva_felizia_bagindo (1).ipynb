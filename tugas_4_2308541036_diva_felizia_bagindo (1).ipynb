{
  "nbformat": 4,
  "nbformat_minor": 0,
  "metadata": {
    "colab": {
      "provenance": []
    },
    "kernelspec": {
      "name": "python3",
      "display_name": "Python 3"
    },
    "language_info": {
      "name": "python"
    }
  },
  "cells": [
    {
      "cell_type": "markdown",
      "source": [
        "# 2.12 List di Pyhton"
      ],
      "metadata": {
        "id": "FzqgUY9MRwoQ"
      }
    },
    {
      "cell_type": "code",
      "execution_count": 1,
      "metadata": {
        "colab": {
          "base_uri": "https://localhost:8080/"
        },
        "id": "AuYXa02D8fpr",
        "outputId": "00985191-ade3-4c60-b98f-2d13ffa2c9a8"
      },
      "outputs": [
        {
          "output_type": "stream",
          "name": "stdout",
          "text": [
            "['tas', 'dompet', 'buku', 'kotak pensil']\n"
          ]
        }
      ],
      "source": [
        "# 2.12 List di Pyhton\n",
        "barang_36 = ['tas', 'dompet', 'buku', 'kotak pensil']\n",
        "print(barang_36)"
      ]
    },
    {
      "cell_type": "code",
      "source": [
        "print(barang_36[0])"
      ],
      "metadata": {
        "colab": {
          "base_uri": "https://localhost:8080/"
        },
        "id": "v9nBcz_19vLe",
        "outputId": "fa3d651a-7f36-4967-90d9-356806671fcb"
      },
      "execution_count": 2,
      "outputs": [
        {
          "output_type": "stream",
          "name": "stdout",
          "text": [
            "tas\n"
          ]
        }
      ]
    },
    {
      "cell_type": "code",
      "source": [
        "print(barang_36[2])"
      ],
      "metadata": {
        "colab": {
          "base_uri": "https://localhost:8080/"
        },
        "id": "Sdn5odLS93cO",
        "outputId": "bcabaa7b-38ef-47eb-c271-e6664bd523aa"
      },
      "execution_count": 3,
      "outputs": [
        {
          "output_type": "stream",
          "name": "stdout",
          "text": [
            "buku\n"
          ]
        }
      ]
    },
    {
      "cell_type": "code",
      "source": [
        "print(barang_36[-1])"
      ],
      "metadata": {
        "colab": {
          "base_uri": "https://localhost:8080/"
        },
        "id": "JpxgtDeb96hP",
        "outputId": "b323fdbb-5c29-4e79-b1b6-e4d602b80ac5"
      },
      "execution_count": 4,
      "outputs": [
        {
          "output_type": "stream",
          "name": "stdout",
          "text": [
            "kotak pensil\n"
          ]
        }
      ]
    },
    {
      "cell_type": "code",
      "source": [
        "print(barang_36[-2])"
      ],
      "metadata": {
        "colab": {
          "base_uri": "https://localhost:8080/"
        },
        "id": "qq2P0tvG9-lv",
        "outputId": "b4cbcb04-9846-4137-8e71-13e36f825ef9"
      },
      "execution_count": 5,
      "outputs": [
        {
          "output_type": "stream",
          "name": "stdout",
          "text": [
            "buku\n"
          ]
        }
      ]
    },
    {
      "cell_type": "code",
      "source": [
        "# merubah list\n",
        "barang_36[0] = 'parfum'\n",
        "print(barang_36)"
      ],
      "metadata": {
        "colab": {
          "base_uri": "https://localhost:8080/"
        },
        "id": "0Sqou4Vk-NX7",
        "outputId": "9732689f-fc5f-4577-da44-649547ba3396"
      },
      "execution_count": 6,
      "outputs": [
        {
          "output_type": "stream",
          "name": "stdout",
          "text": [
            "['parfum', 'dompet', 'buku', 'kotak pensil']\n"
          ]
        }
      ]
    },
    {
      "cell_type": "code",
      "source": [
        "print(barang_36[0:3])"
      ],
      "metadata": {
        "colab": {
          "base_uri": "https://localhost:8080/"
        },
        "id": "PwL5m2ij-RgV",
        "outputId": "27189a32-48dd-423c-a916-ebe57fe8cb71"
      },
      "execution_count": 7,
      "outputs": [
        {
          "output_type": "stream",
          "name": "stdout",
          "text": [
            "['parfum', 'dompet', 'buku']\n"
          ]
        }
      ]
    },
    {
      "cell_type": "code",
      "source": [
        "# tidak merubah list\n",
        "print(barang_36)"
      ],
      "metadata": {
        "colab": {
          "base_uri": "https://localhost:8080/"
        },
        "id": "j5Z8jvX8-dvm",
        "outputId": "86875b41-dcb3-448c-8129-059d2a0c21d6"
      },
      "execution_count": 8,
      "outputs": [
        {
          "output_type": "stream",
          "name": "stdout",
          "text": [
            "['parfum', 'dompet', 'buku', 'kotak pensil']\n"
          ]
        }
      ]
    },
    {
      "cell_type": "code",
      "source": [
        "kendaraan_36 = ['motor', 'mobil', 'bus', 'truk', 'bajaj']\n",
        "print(kendaraan_36)"
      ],
      "metadata": {
        "colab": {
          "base_uri": "https://localhost:8080/"
        },
        "id": "C-1WI_i2-r0V",
        "outputId": "8d7b15ed-38cf-4782-9d6f-7cdeb97a9da9"
      },
      "execution_count": 9,
      "outputs": [
        {
          "output_type": "stream",
          "name": "stdout",
          "text": [
            "['motor', 'mobil', 'bus', 'truk', 'bajaj']\n"
          ]
        }
      ]
    },
    {
      "cell_type": "code",
      "source": [
        "print(kendaraan_36[1])"
      ],
      "metadata": {
        "colab": {
          "base_uri": "https://localhost:8080/"
        },
        "id": "te1TtxIF_MW9",
        "outputId": "80b6dd99-94b1-4f26-f09d-8bda11b756f2"
      },
      "execution_count": 10,
      "outputs": [
        {
          "output_type": "stream",
          "name": "stdout",
          "text": [
            "mobil\n"
          ]
        }
      ]
    },
    {
      "cell_type": "code",
      "source": [
        "print(kendaraan_36[-1])"
      ],
      "metadata": {
        "colab": {
          "base_uri": "https://localhost:8080/"
        },
        "id": "YOYgWBte_vI2",
        "outputId": "6cb3f4cf-9ffa-4d42-b60f-24432aa000b0"
      },
      "execution_count": 11,
      "outputs": [
        {
          "output_type": "stream",
          "name": "stdout",
          "text": [
            "bajaj\n"
          ]
        }
      ]
    },
    {
      "cell_type": "code",
      "source": [
        "print(kendaraan_36[-3])"
      ],
      "metadata": {
        "colab": {
          "base_uri": "https://localhost:8080/"
        },
        "id": "Gm7GKq_tAXKc",
        "outputId": "a7d37f57-d276-4c4d-f22f-52a84493a384"
      },
      "execution_count": 12,
      "outputs": [
        {
          "output_type": "stream",
          "name": "stdout",
          "text": [
            "bus\n"
          ]
        }
      ]
    },
    {
      "cell_type": "code",
      "source": [
        "# merubah list\n",
        "kendaraan_36[1] = 'becak'\n",
        "print(kendaraan_36)"
      ],
      "metadata": {
        "colab": {
          "base_uri": "https://localhost:8080/"
        },
        "id": "gzXFWWbyAkA0",
        "outputId": "a8eb9551-b001-484a-d7f1-fb7235c94a57"
      },
      "execution_count": 13,
      "outputs": [
        {
          "output_type": "stream",
          "name": "stdout",
          "text": [
            "['motor', 'becak', 'bus', 'truk', 'bajaj']\n"
          ]
        }
      ]
    },
    {
      "cell_type": "code",
      "source": [
        "print(kendaraan_36[1:4])"
      ],
      "metadata": {
        "colab": {
          "base_uri": "https://localhost:8080/"
        },
        "id": "QfdH0XrNA6f2",
        "outputId": "0c5a43a5-fecc-4cd1-b593-de80cdb10541"
      },
      "execution_count": 14,
      "outputs": [
        {
          "output_type": "stream",
          "name": "stdout",
          "text": [
            "['becak', 'bus', 'truk']\n"
          ]
        }
      ]
    },
    {
      "cell_type": "code",
      "source": [
        "# tidak merubah list\n",
        "print(kendaraan_36)"
      ],
      "metadata": {
        "colab": {
          "base_uri": "https://localhost:8080/"
        },
        "id": "V-rf49FeBABE",
        "outputId": "112f1c84-901f-4db0-e366-36f44edb461b"
      },
      "execution_count": 15,
      "outputs": [
        {
          "output_type": "stream",
          "name": "stdout",
          "text": [
            "['motor', 'becak', 'bus', 'truk', 'bajaj']\n"
          ]
        }
      ]
    },
    {
      "cell_type": "code",
      "source": [
        "huruf_36 = ['a', 'c', 'd', 'e', 'g']\n",
        "print(huruf_36)"
      ],
      "metadata": {
        "colab": {
          "base_uri": "https://localhost:8080/"
        },
        "id": "N233SU2SB7d0",
        "outputId": "dbd66f78-be3b-41d7-f42c-de74c3b16976"
      },
      "execution_count": 16,
      "outputs": [
        {
          "output_type": "stream",
          "name": "stdout",
          "text": [
            "['a', 'c', 'd', 'e', 'g']\n"
          ]
        }
      ]
    },
    {
      "cell_type": "code",
      "source": [
        "print(huruf_36[-3])"
      ],
      "metadata": {
        "colab": {
          "base_uri": "https://localhost:8080/"
        },
        "id": "I_8B3wA7CPNV",
        "outputId": "88b753bd-f074-4e7c-a8cf-ef56d38404e6"
      },
      "execution_count": 17,
      "outputs": [
        {
          "output_type": "stream",
          "name": "stdout",
          "text": [
            "d\n"
          ]
        }
      ]
    },
    {
      "cell_type": "code",
      "source": [
        "print(huruf_36[-5])"
      ],
      "metadata": {
        "colab": {
          "base_uri": "https://localhost:8080/"
        },
        "id": "4v8ZA5NLCYQr",
        "outputId": "07a9bf4b-25ca-482d-d032-c15dbda6e913"
      },
      "execution_count": 18,
      "outputs": [
        {
          "output_type": "stream",
          "name": "stdout",
          "text": [
            "a\n"
          ]
        }
      ]
    },
    {
      "cell_type": "code",
      "source": [
        "print(huruf_36[1:4])"
      ],
      "metadata": {
        "colab": {
          "base_uri": "https://localhost:8080/"
        },
        "id": "Hk50aGTBChb3",
        "outputId": "5d7524a5-0237-4612-f44e-dac3ee4d8a85"
      },
      "execution_count": 19,
      "outputs": [
        {
          "output_type": "stream",
          "name": "stdout",
          "text": [
            "['c', 'd', 'e']\n"
          ]
        }
      ]
    },
    {
      "cell_type": "code",
      "source": [
        "print(huruf_36[1:5])"
      ],
      "metadata": {
        "colab": {
          "base_uri": "https://localhost:8080/"
        },
        "id": "ypASDwqGCoHs",
        "outputId": "28209112-1356-4647-84df-57258eda1ede"
      },
      "execution_count": 20,
      "outputs": [
        {
          "output_type": "stream",
          "name": "stdout",
          "text": [
            "['c', 'd', 'e', 'g']\n"
          ]
        }
      ]
    },
    {
      "cell_type": "code",
      "source": [
        "print(huruf_36[0:-4])"
      ],
      "metadata": {
        "colab": {
          "base_uri": "https://localhost:8080/"
        },
        "id": "zhTN-VsqC0g-",
        "outputId": "536f2e5f-d4dc-446b-8a05-bd84e3ee6a21"
      },
      "execution_count": 21,
      "outputs": [
        {
          "output_type": "stream",
          "name": "stdout",
          "text": [
            "['a']\n"
          ]
        }
      ]
    },
    {
      "cell_type": "code",
      "source": [
        "print(huruf_36[1:-4])"
      ],
      "metadata": {
        "colab": {
          "base_uri": "https://localhost:8080/"
        },
        "id": "DG5_faaSC6ri",
        "outputId": "0258c420-e87b-4ac3-d871-74c11ff8e91d"
      },
      "execution_count": 22,
      "outputs": [
        {
          "output_type": "stream",
          "name": "stdout",
          "text": [
            "[]\n"
          ]
        }
      ]
    },
    {
      "cell_type": "code",
      "source": [
        "bangun_ruang_36 = ['kubus', 'balok', 'kerucut', 'silinder', 'limas', 'prisma']\n",
        "print(bangun_ruang_36)\n",
        "print('----------------------------------------------------------------')\n",
        "print(bangun_ruang_36[0])\n",
        "print(bangun_ruang_36[2])\n",
        "print(bangun_ruang_36[1:5])\n",
        "print(bangun_ruang_36[0:-3])\n",
        "print(bangun_ruang_36[1:-6])\n",
        "print('================================================================')\n",
        "# merubah list\n",
        "bangun_ruang_36[0] = 'bola'\n",
        "print(bangun_ruang_36)\n",
        "print('----------------------------------------------------------------')\n",
        "print(bangun_ruang_36[0:3])\n",
        "print(bangun_ruang_36[1:-6])\n",
        "print(bangun_ruang_36[2])\n",
        "print(bangun_ruang_36[1:5])\n",
        "print(bangun_ruang_36[0:-3])\n",
        "# tidak merubah list\n",
        "print(bangun_ruang_36)\n"
      ],
      "metadata": {
        "colab": {
          "base_uri": "https://localhost:8080/"
        },
        "id": "KrbucKC-DAow",
        "outputId": "6cebbf06-8c49-4c55-ad20-ad595382f389"
      },
      "execution_count": 23,
      "outputs": [
        {
          "output_type": "stream",
          "name": "stdout",
          "text": [
            "['kubus', 'balok', 'kerucut', 'silinder', 'limas', 'prisma']\n",
            "----------------------------------------------------------------\n",
            "kubus\n",
            "kerucut\n",
            "['balok', 'kerucut', 'silinder', 'limas']\n",
            "['kubus', 'balok', 'kerucut']\n",
            "[]\n",
            "================================================================\n",
            "['bola', 'balok', 'kerucut', 'silinder', 'limas', 'prisma']\n",
            "----------------------------------------------------------------\n",
            "['bola', 'balok', 'kerucut']\n",
            "[]\n",
            "kerucut\n",
            "['balok', 'kerucut', 'silinder', 'limas']\n",
            "['bola', 'balok', 'kerucut']\n",
            "['bola', 'balok', 'kerucut', 'silinder', 'limas', 'prisma']\n"
          ]
        }
      ]
    },
    {
      "cell_type": "code",
      "source": [
        "logika_matematika_36 = ['negasi', 'konjungsi', 'disjungsi', 'implikasi', 'biimplikasi']\n",
        "print(logika_matematika_36)\n",
        "print('-------------------------------------------------------------------------------')\n",
        "print(logika_matematika_36[0])\n",
        "print(logika_matematika_36[3])\n",
        "print(logika_matematika_36[2:4])\n",
        "print(logika_matematika_36[0:-3])\n",
        "print(logika_matematika_36[1:-2])\n",
        "print('===============================================================================')\n",
        "# merubah list\n",
        "logika_matematika_36[3] = 'tautologi'\n",
        "print(logika_matematika_36)\n",
        "print('-------------------------------------------------------------------------------')\n",
        "print(logika_matematika_36[3])\n",
        "print(logika_matematika_36[2:4])\n",
        "print(logika_matematika_36[0:-3])\n",
        "print(logika_matematika_36[1:-2])\n",
        "# tidak merubah list\n",
        "print(logika_matematika_36)"
      ],
      "metadata": {
        "colab": {
          "base_uri": "https://localhost:8080/"
        },
        "id": "aXEb_5fZiAzz",
        "outputId": "dbedf92c-2679-47b3-e7ee-1c6c061f2143"
      },
      "execution_count": 24,
      "outputs": [
        {
          "output_type": "stream",
          "name": "stdout",
          "text": [
            "['negasi', 'konjungsi', 'disjungsi', 'implikasi', 'biimplikasi']\n",
            "-------------------------------------------------------------------------------\n",
            "negasi\n",
            "implikasi\n",
            "['disjungsi', 'implikasi']\n",
            "['negasi', 'konjungsi']\n",
            "['konjungsi', 'disjungsi']\n",
            "===============================================================================\n",
            "['negasi', 'konjungsi', 'disjungsi', 'tautologi', 'biimplikasi']\n",
            "-------------------------------------------------------------------------------\n",
            "tautologi\n",
            "['disjungsi', 'tautologi']\n",
            "['negasi', 'konjungsi']\n",
            "['konjungsi', 'disjungsi']\n",
            "['negasi', 'konjungsi', 'disjungsi', 'tautologi', 'biimplikasi']\n"
          ]
        }
      ]
    },
    {
      "cell_type": "code",
      "source": [
        "instrumen_musik_36 = ['gitar', 'piano', 'biola', 'drum', 'saxophone', 'suling']\n",
        "print(instrumen_musik_36)\n",
        "print('-----------------------------------------------------------------------')\n",
        "print(instrumen_musik_36[1])\n",
        "print(instrumen_musik_36[3])\n",
        "print(instrumen_musik_36[2:5])\n",
        "print(instrumen_musik_36[0:-3])\n",
        "print(instrumen_musik_36[1:-4])\n",
        "print('=======================================================================')\n",
        "# merubah list\n",
        "instrumen_musik_36[1] = 'kolintang'\n",
        "print(instrumen_musik_36)\n",
        "print('-----------------------------------------------------------------------')\n",
        "print(instrumen_musik_36[1])\n",
        "print(instrumen_musik_36[3])\n",
        "print(instrumen_musik_36[2:5])\n",
        "print(instrumen_musik_36[0:-3])\n",
        "print(instrumen_musik_36[1:-4])\n",
        "# tidak merubah list\n",
        "print(instrumen_musik_36)"
      ],
      "metadata": {
        "colab": {
          "base_uri": "https://localhost:8080/"
        },
        "id": "YZcXgYHSE2kl",
        "outputId": "13302be5-1eda-4d88-d18e-c20dd2fcbd60"
      },
      "execution_count": 25,
      "outputs": [
        {
          "output_type": "stream",
          "name": "stdout",
          "text": [
            "['gitar', 'piano', 'biola', 'drum', 'saxophone', 'suling']\n",
            "-----------------------------------------------------------------------\n",
            "piano\n",
            "drum\n",
            "['biola', 'drum', 'saxophone']\n",
            "['gitar', 'piano', 'biola']\n",
            "['piano']\n",
            "=======================================================================\n",
            "['gitar', 'kolintang', 'biola', 'drum', 'saxophone', 'suling']\n",
            "-----------------------------------------------------------------------\n",
            "kolintang\n",
            "drum\n",
            "['biola', 'drum', 'saxophone']\n",
            "['gitar', 'kolintang', 'biola']\n",
            "['kolintang']\n",
            "['gitar', 'kolintang', 'biola', 'drum', 'saxophone', 'suling']\n"
          ]
        }
      ]
    },
    {
      "cell_type": "code",
      "source": [
        "hukum_himpunan_36 = ['hukum identitas', 'hukum komplemen', 'hukum involusi', 'hukum komutatif', 'hukum distributif', 'hukum idempoten', 'hukum asosiatif', 'hukum absorpsi']\n",
        "print(hukum_himpunan_36)\n",
        "print('-----------------------------------------------------------------------------------------------------------------------------------------------------------------------')\n",
        "print(hukum_himpunan_36[0])\n",
        "print(hukum_himpunan_36[5])\n",
        "print(hukum_himpunan_36[3:5])\n",
        "print(hukum_himpunan_36[0:-6])\n",
        "print(hukum_himpunan_36[1:-7])\n",
        "print('=======================================================================================================================================================================')\n",
        "# merubah list\n",
        "hukum_himpunan_36[5] = 'hukum De Morgan'\n",
        "print(hukum_himpunan_36)\n",
        "print('-----------------------------------------------------------------------------------------------------------------------------------------------------------------------')\n",
        "print(hukum_himpunan_36[1])\n",
        "print(hukum_himpunan_36[5])\n",
        "print(hukum_himpunan_36[3:5])\n",
        "print(hukum_himpunan_36[0:-4])\n",
        "print(hukum_himpunan_36[1:-3])\n",
        "# tidak merubah list\n",
        "print(hukum_himpunan_36)"
      ],
      "metadata": {
        "colab": {
          "base_uri": "https://localhost:8080/"
        },
        "id": "hsBNiy9B9BUT",
        "outputId": "a45ea396-ed8f-4216-ea9b-de6061362665"
      },
      "execution_count": 26,
      "outputs": [
        {
          "output_type": "stream",
          "name": "stdout",
          "text": [
            "['hukum identitas', 'hukum komplemen', 'hukum involusi', 'hukum komutatif', 'hukum distributif', 'hukum idempoten', 'hukum asosiatif', 'hukum absorpsi']\n",
            "-----------------------------------------------------------------------------------------------------------------------------------------------------------------------\n",
            "hukum identitas\n",
            "hukum idempoten\n",
            "['hukum komutatif', 'hukum distributif']\n",
            "['hukum identitas', 'hukum komplemen']\n",
            "[]\n",
            "=======================================================================================================================================================================\n",
            "['hukum identitas', 'hukum komplemen', 'hukum involusi', 'hukum komutatif', 'hukum distributif', 'hukum De Morgan', 'hukum asosiatif', 'hukum absorpsi']\n",
            "-----------------------------------------------------------------------------------------------------------------------------------------------------------------------\n",
            "hukum komplemen\n",
            "hukum De Morgan\n",
            "['hukum komutatif', 'hukum distributif']\n",
            "['hukum identitas', 'hukum komplemen', 'hukum involusi', 'hukum komutatif']\n",
            "['hukum komplemen', 'hukum involusi', 'hukum komutatif', 'hukum distributif']\n",
            "['hukum identitas', 'hukum komplemen', 'hukum involusi', 'hukum komutatif', 'hukum distributif', 'hukum De Morgan', 'hukum asosiatif', 'hukum absorpsi']\n"
          ]
        }
      ]
    },
    {
      "cell_type": "markdown",
      "source": [
        "# 2.13 Metode List"
      ],
      "metadata": {
        "id": "W1Moos2hRRYx"
      }
    },
    {
      "cell_type": "code",
      "source": [
        "#2.13 Metode List\n",
        "hewan_36 = ['Kelinci', 'Kuda', 'Kambing']\n",
        "hewan_36.append('Kerbau')\n",
        "print(hewan_36)"
      ],
      "metadata": {
        "colab": {
          "base_uri": "https://localhost:8080/"
        },
        "id": "vd1kSPy5K79E",
        "outputId": "2c4b1299-58f5-4efa-f2c6-ed51b6c519e5"
      },
      "execution_count": 27,
      "outputs": [
        {
          "output_type": "stream",
          "name": "stdout",
          "text": [
            "['Kelinci', 'Kuda', 'Kambing', 'Kerbau']\n"
          ]
        }
      ]
    },
    {
      "cell_type": "code",
      "source": [
        "hewan_36.insert(0, 'Kijang')\n",
        "print(hewan_36)"
      ],
      "metadata": {
        "colab": {
          "base_uri": "https://localhost:8080/"
        },
        "id": "lQ01yEUDEER9",
        "outputId": "8fbec92a-722e-4afe-af18-fb4e5a415bdf"
      },
      "execution_count": 28,
      "outputs": [
        {
          "output_type": "stream",
          "name": "stdout",
          "text": [
            "['Kijang', 'Kelinci', 'Kuda', 'Kambing', 'Kerbau']\n"
          ]
        }
      ]
    },
    {
      "cell_type": "code",
      "source": [
        "hewan_36.remove('Kuda')\n",
        "print(hewan_36)"
      ],
      "metadata": {
        "colab": {
          "base_uri": "https://localhost:8080/"
        },
        "id": "i4qbgevyegmc",
        "outputId": "cfd48b3d-d1fa-4ff7-b4b7-22723fb38805"
      },
      "execution_count": 29,
      "outputs": [
        {
          "output_type": "stream",
          "name": "stdout",
          "text": [
            "['Kijang', 'Kelinci', 'Kambing', 'Kerbau']\n"
          ]
        }
      ]
    },
    {
      "cell_type": "code",
      "source": [
        "print('Kuda' in hewan_36)"
      ],
      "metadata": {
        "colab": {
          "base_uri": "https://localhost:8080/"
        },
        "id": "LO_KgUpbexjj",
        "outputId": "badce9bb-c178-4bd6-b4bb-5ab5243673d3"
      },
      "execution_count": 30,
      "outputs": [
        {
          "output_type": "stream",
          "name": "stdout",
          "text": [
            "False\n"
          ]
        }
      ]
    },
    {
      "cell_type": "code",
      "source": [
        "print('Kijang' in hewan_36)"
      ],
      "metadata": {
        "colab": {
          "base_uri": "https://localhost:8080/"
        },
        "id": "Ab6fYZE0e6m1",
        "outputId": "a7873fc3-b2b0-4458-ab12-4b478b487c80"
      },
      "execution_count": 31,
      "outputs": [
        {
          "output_type": "stream",
          "name": "stdout",
          "text": [
            "True\n"
          ]
        }
      ]
    },
    {
      "cell_type": "code",
      "source": [
        "print(len(hewan_36))"
      ],
      "metadata": {
        "colab": {
          "base_uri": "https://localhost:8080/"
        },
        "id": "MXZudp6MfDlR",
        "outputId": "f81825c3-916f-400f-81d4-32912e81e4ee"
      },
      "execution_count": 32,
      "outputs": [
        {
          "output_type": "stream",
          "name": "stdout",
          "text": [
            "4\n"
          ]
        }
      ]
    },
    {
      "cell_type": "code",
      "source": [
        "name_36 = ['Diva', 'Fely', 'Zia']\n",
        "name_36.append('Bagindo')\n",
        "print(name_36)\n",
        "print('---------------------------------------------')\n",
        "name_36.insert(0,'Ziya')\n",
        "print(name_36)\n",
        "print('---------------------------------------------')\n",
        "name_36.remove('Fely')\n",
        "print(name_36)\n",
        "print('---------------------------------------------')\n",
        "print('Fely' in name_36)\n",
        "print('---------------------------------------------')\n",
        "print('Ziya' in name_36)\n",
        "print('---------------------------------------------')\n",
        "print(len(name_36))"
      ],
      "metadata": {
        "colab": {
          "base_uri": "https://localhost:8080/"
        },
        "id": "RMUVM3nNfKwc",
        "outputId": "8ecfb54a-f148-4277-cb55-0e3bfece8804"
      },
      "execution_count": 33,
      "outputs": [
        {
          "output_type": "stream",
          "name": "stdout",
          "text": [
            "['Diva', 'Fely', 'Zia', 'Bagindo']\n",
            "---------------------------------------------\n",
            "['Ziya', 'Diva', 'Fely', 'Zia', 'Bagindo']\n",
            "---------------------------------------------\n",
            "['Ziya', 'Diva', 'Zia', 'Bagindo']\n",
            "---------------------------------------------\n",
            "False\n",
            "---------------------------------------------\n",
            "True\n",
            "---------------------------------------------\n",
            "4\n"
          ]
        }
      ]
    },
    {
      "cell_type": "code",
      "source": [
        "bilangan_36 = ['4', '6', '8', '10', '12', '14']\n",
        "bilangan_36.append('16')\n",
        "print(bilangan_36)\n",
        "print('---------------------------------------------')\n",
        "bilangan_36.insert(0,'2')\n",
        "print(bilangan_36)\n",
        "print('---------------------------------------------')\n",
        "bilangan_36.remove('8')\n",
        "print(bilangan_36)\n",
        "print('---------------------------------------------')\n",
        "print('8' in bilangan_36)\n",
        "print('---------------------------------------------')\n",
        "print('2' in bilangan_36)\n",
        "print('---------------------------------------------')\n",
        "print(len(bilangan_36))"
      ],
      "metadata": {
        "colab": {
          "base_uri": "https://localhost:8080/"
        },
        "id": "IOGXsdOBwa59",
        "outputId": "79861ae6-4da0-4d99-8334-a6f94ee28861"
      },
      "execution_count": 34,
      "outputs": [
        {
          "output_type": "stream",
          "name": "stdout",
          "text": [
            "['4', '6', '8', '10', '12', '14', '16']\n",
            "---------------------------------------------\n",
            "['2', '4', '6', '8', '10', '12', '14', '16']\n",
            "---------------------------------------------\n",
            "['2', '4', '6', '10', '12', '14', '16']\n",
            "---------------------------------------------\n",
            "False\n",
            "---------------------------------------------\n",
            "True\n",
            "---------------------------------------------\n",
            "7\n"
          ]
        }
      ]
    },
    {
      "cell_type": "code",
      "source": [
        "kota_36 = ['Jambi', 'Jakarta', 'Jayapura', 'Jember', 'Jepara', 'Jatibarang']\n",
        "kota_36.append('Jombang')\n",
        "print(kota_36)\n",
        "print('------------------------------------------------------------------------------------------------')\n",
        "kota_36.insert(1,'Yogyakarta')\n",
        "print(kota_36)\n",
        "print('------------------------------------------------------------------------------------------------')\n",
        "kota_36.remove('Jakarta')\n",
        "print(kota_36)\n",
        "print('------------------------------------------------------------------------------------------------')\n",
        "print('Jakarta' in kota_36)\n",
        "print('------------------------------------------------------------------------------------------------')\n",
        "print('Yogyakarta' in kota_36)\n",
        "print('------------------------------------------------------------------------------------------------')\n",
        "print(len(kota_36))"
      ],
      "metadata": {
        "colab": {
          "base_uri": "https://localhost:8080/"
        },
        "id": "S5VujAXgKfeo",
        "outputId": "b73f871d-3ed1-4d2c-fd9c-22350c9ba8c2"
      },
      "execution_count": 35,
      "outputs": [
        {
          "output_type": "stream",
          "name": "stdout",
          "text": [
            "['Jambi', 'Jakarta', 'Jayapura', 'Jember', 'Jepara', 'Jatibarang', 'Jombang']\n",
            "------------------------------------------------------------------------------------------------\n",
            "['Jambi', 'Yogyakarta', 'Jakarta', 'Jayapura', 'Jember', 'Jepara', 'Jatibarang', 'Jombang']\n",
            "------------------------------------------------------------------------------------------------\n",
            "['Jambi', 'Yogyakarta', 'Jayapura', 'Jember', 'Jepara', 'Jatibarang', 'Jombang']\n",
            "------------------------------------------------------------------------------------------------\n",
            "False\n",
            "------------------------------------------------------------------------------------------------\n",
            "True\n",
            "------------------------------------------------------------------------------------------------\n",
            "7\n"
          ]
        }
      ]
    },
    {
      "cell_type": "code",
      "source": [
        "bunga_36 = ['Mawar Merah', 'Melati', 'Melur', 'Marigold', 'Matahari']\n",
        "bunga_36.append('Muflier')\n",
        "print(bunga_36)\n",
        "print('----------------------------------------------------------------------------------------')\n",
        "bunga_36.insert(0,'Mawar Putih')\n",
        "print(bunga_36)\n",
        "print('----------------------------------------------------------------------------------------')\n",
        "bunga_36.remove('Mawar Merah')\n",
        "print(bunga_36)\n",
        "print('----------------------------------------------------------------------------------------')\n",
        "print('Mawar Merah' in bunga_36)\n",
        "print('----------------------------------------------------------------------------------------')\n",
        "print('Mawar Putih' in bunga_36)\n",
        "print('----------------------------------------------------------------------------------------')\n",
        "print(len(bunga_36))"
      ],
      "metadata": {
        "colab": {
          "base_uri": "https://localhost:8080/"
        },
        "id": "4dQGJKHpPeBF",
        "outputId": "1387d940-072a-4820-ecea-ad29f9449d63"
      },
      "execution_count": 36,
      "outputs": [
        {
          "output_type": "stream",
          "name": "stdout",
          "text": [
            "['Mawar Merah', 'Melati', 'Melur', 'Marigold', 'Matahari', 'Muflier']\n",
            "----------------------------------------------------------------------------------------\n",
            "['Mawar Putih', 'Mawar Merah', 'Melati', 'Melur', 'Marigold', 'Matahari', 'Muflier']\n",
            "----------------------------------------------------------------------------------------\n",
            "['Mawar Putih', 'Melati', 'Melur', 'Marigold', 'Matahari', 'Muflier']\n",
            "----------------------------------------------------------------------------------------\n",
            "False\n",
            "----------------------------------------------------------------------------------------\n",
            "True\n",
            "----------------------------------------------------------------------------------------\n",
            "6\n"
          ]
        }
      ]
    },
    {
      "cell_type": "markdown",
      "source": [
        "# 2.14 For Loop\n"
      ],
      "metadata": {
        "id": "C54EBeLBRfO0"
      }
    },
    {
      "cell_type": "code",
      "source": [
        "# 2.14 For Loop\n",
        "umbi_batang_36 = ['kentang', 'talas', 'suweg', 'ubi jalar']\n",
        "for jenis in umbi_batang_36:\n",
        "  print(jenis)"
      ],
      "metadata": {
        "colab": {
          "base_uri": "https://localhost:8080/"
        },
        "id": "wSStW5Nyf_Uo",
        "outputId": "98a6b086-0b01-41d2-a112-0c8b3cf8a2dc"
      },
      "execution_count": 37,
      "outputs": [
        {
          "output_type": "stream",
          "name": "stdout",
          "text": [
            "kentang\n",
            "talas\n",
            "suweg\n",
            "ubi jalar\n"
          ]
        }
      ]
    },
    {
      "cell_type": "code",
      "source": [
        "i = 0\n",
        "while i < len(umbi_batang_36):\n",
        "  print(umbi_batang_36[i])\n",
        "  i+=1"
      ],
      "metadata": {
        "colab": {
          "base_uri": "https://localhost:8080/"
        },
        "id": "cLquOsbslL9v",
        "outputId": "56ad5e8e-0535-4549-aa1c-e7807b8c715f"
      },
      "execution_count": 38,
      "outputs": [
        {
          "output_type": "stream",
          "name": "stdout",
          "text": [
            "kentang\n",
            "talas\n",
            "suweg\n",
            "ubi jalar\n"
          ]
        }
      ]
    },
    {
      "cell_type": "code",
      "source": [
        "i = 0\n",
        "while i < len(umbi_batang_36):\n",
        "  print(umbi_batang_36[i])\n",
        "  i+=2"
      ],
      "metadata": {
        "colab": {
          "base_uri": "https://localhost:8080/"
        },
        "id": "8fPwzj7ylsKm",
        "outputId": "6e555b4a-cb39-4b3a-bf77-45fa1364a93c"
      },
      "execution_count": 39,
      "outputs": [
        {
          "output_type": "stream",
          "name": "stdout",
          "text": [
            "kentang\n",
            "suweg\n"
          ]
        }
      ]
    },
    {
      "cell_type": "code",
      "source": [
        "print('----Bilangan Ganjil Kurang dari 15----')\n",
        "bil_ganjil_36 = ['1', '3', '5', '7', '9', '11', '13']\n",
        "for jumlah in bil_ganjil_36:\n",
        "  print(jumlah)"
      ],
      "metadata": {
        "colab": {
          "base_uri": "https://localhost:8080/"
        },
        "id": "6lu6eMQGl_Qk",
        "outputId": "97fedcda-998a-40cc-8c1a-885744ec1d0d"
      },
      "execution_count": 40,
      "outputs": [
        {
          "output_type": "stream",
          "name": "stdout",
          "text": [
            "----Bilangan Ganjil Kurang dari 15----\n",
            "1\n",
            "3\n",
            "5\n",
            "7\n",
            "9\n",
            "11\n",
            "13\n"
          ]
        }
      ]
    },
    {
      "cell_type": "code",
      "source": [
        "i = 0\n",
        "while i < len(bil_ganjil_36):\n",
        "  print(bil_ganjil_36[i])\n",
        "  i+=3"
      ],
      "metadata": {
        "colab": {
          "base_uri": "https://localhost:8080/"
        },
        "id": "s-KtvbMMn9Ru",
        "outputId": "5036db08-a782-4a5d-a378-2b7e9610df1a"
      },
      "execution_count": 41,
      "outputs": [
        {
          "output_type": "stream",
          "name": "stdout",
          "text": [
            "1\n",
            "7\n",
            "13\n"
          ]
        }
      ]
    },
    {
      "cell_type": "code",
      "source": [
        "i = 0\n",
        "while i < len(bil_ganjil_36):\n",
        "  print(bil_ganjil_36[i])\n",
        "  i+=2"
      ],
      "metadata": {
        "colab": {
          "base_uri": "https://localhost:8080/"
        },
        "id": "HpWUXy_Go9lI",
        "outputId": "672edd27-a22e-4bc2-c4f4-acfa87ff210f"
      },
      "execution_count": 42,
      "outputs": [
        {
          "output_type": "stream",
          "name": "stdout",
          "text": [
            "1\n",
            "5\n",
            "9\n",
            "13\n"
          ]
        }
      ]
    },
    {
      "cell_type": "code",
      "source": [
        "i = 0\n",
        "while i < len(bil_ganjil_36):\n",
        "  print(bil_ganjil_36[i])\n",
        "  i+=4"
      ],
      "metadata": {
        "colab": {
          "base_uri": "https://localhost:8080/"
        },
        "id": "RS7TP8D3pgl1",
        "outputId": "6ad0976e-7f9d-47ed-983f-5954d31c5988"
      },
      "execution_count": 43,
      "outputs": [
        {
          "output_type": "stream",
          "name": "stdout",
          "text": [
            "1\n",
            "9\n"
          ]
        }
      ]
    },
    {
      "cell_type": "code",
      "source": [
        "print('************Daftar Minuman************')\n",
        "list_minuman_36 = ['susu', 'teh manis', 'kopi', 'jus alpukat', 'milkshake', 'es buah', 'es campur']\n",
        "\n",
        "for menu in list_minuman_36:\n",
        "     print (menu)"
      ],
      "metadata": {
        "id": "UpHCGY5rrLm_",
        "colab": {
          "base_uri": "https://localhost:8080/"
        },
        "outputId": "a0b3bf99-c50d-4b89-a333-77e471c321b7"
      },
      "execution_count": 44,
      "outputs": [
        {
          "output_type": "stream",
          "name": "stdout",
          "text": [
            "************Daftar Minuman************\n",
            "susu\n",
            "teh manis\n",
            "kopi\n",
            "jus alpukat\n",
            "milkshake\n",
            "es buah\n",
            "es campur\n"
          ]
        }
      ]
    },
    {
      "cell_type": "code",
      "source": [
        "i = 0\n",
        "while i < len(list_minuman_36):\n",
        "  print(list_minuman_36[i])\n",
        "  i+=4"
      ],
      "metadata": {
        "colab": {
          "base_uri": "https://localhost:8080/"
        },
        "id": "2X4lbZfUolKt",
        "outputId": "fd2c73b8-88d7-4253-fc8e-dfbbf36f192b"
      },
      "execution_count": 45,
      "outputs": [
        {
          "output_type": "stream",
          "name": "stdout",
          "text": [
            "susu\n",
            "milkshake\n"
          ]
        }
      ]
    },
    {
      "cell_type": "code",
      "source": [
        "i = 0\n",
        "while i < len(list_minuman_36):\n",
        "  print(list_minuman_36[i])\n",
        "  i+=2"
      ],
      "metadata": {
        "colab": {
          "base_uri": "https://localhost:8080/"
        },
        "id": "dS_kLzz8rMmu",
        "outputId": "39fc0c20-3d37-4a38-81a6-c382ac10bb3f"
      },
      "execution_count": 46,
      "outputs": [
        {
          "output_type": "stream",
          "name": "stdout",
          "text": [
            "susu\n",
            "kopi\n",
            "milkshake\n",
            "es campur\n"
          ]
        }
      ]
    },
    {
      "cell_type": "code",
      "source": [
        "i = 0\n",
        "while i < len(list_minuman_36):\n",
        "  print(list_minuman_36[i])\n",
        "  i+=3"
      ],
      "metadata": {
        "colab": {
          "base_uri": "https://localhost:8080/"
        },
        "id": "P7MeQmB0tBZn",
        "outputId": "96574ad4-8cc3-42fd-9dac-ed7c9602de2c"
      },
      "execution_count": 47,
      "outputs": [
        {
          "output_type": "stream",
          "name": "stdout",
          "text": [
            "susu\n",
            "jus alpukat\n",
            "es campur\n"
          ]
        }
      ]
    },
    {
      "cell_type": "code",
      "source": [
        "print('-----Macam-Macam Segitiga-----')\n",
        "macam_macam_segitiga_36 = ['segitiga sama sisi', 'segitiga sama kaki', 'segitiga sembarang', 'segitiga lancip', 'segitiga tumpul', 'segitiga siku-siku']\n",
        "for jenis in macam_macam_segitiga_36:\n",
        "  print(jenis)\n",
        "print('========================================================================')\n",
        "i = 0\n",
        "while i < len(macam_macam_segitiga_36):\n",
        "  print(macam_macam_segitiga_36[i])\n",
        "  i+=3\n",
        "print('========================================================================')\n",
        "i = 0\n",
        "while i < len(macam_macam_segitiga_36):\n",
        "  print(macam_macam_segitiga_36[i])\n",
        "  i+=1\n",
        "print('========================================================================')\n",
        "i = 0\n",
        "while i < len(macam_macam_segitiga_36):\n",
        "  print(macam_macam_segitiga_36[i])\n",
        "  i+=5"
      ],
      "metadata": {
        "colab": {
          "base_uri": "https://localhost:8080/"
        },
        "id": "EGDGZPRTtJIi",
        "outputId": "f6ce02d2-1be5-4a0e-d886-6423b2fb70c9"
      },
      "execution_count": 48,
      "outputs": [
        {
          "output_type": "stream",
          "name": "stdout",
          "text": [
            "-----Macam-Macam Segitiga-----\n",
            "segitiga sama sisi\n",
            "segitiga sama kaki\n",
            "segitiga sembarang\n",
            "segitiga lancip\n",
            "segitiga tumpul\n",
            "segitiga siku-siku\n",
            "========================================================================\n",
            "segitiga sama sisi\n",
            "segitiga lancip\n",
            "========================================================================\n",
            "segitiga sama sisi\n",
            "segitiga sama kaki\n",
            "segitiga sembarang\n",
            "segitiga lancip\n",
            "segitiga tumpul\n",
            "segitiga siku-siku\n",
            "========================================================================\n",
            "segitiga sama sisi\n",
            "segitiga siku-siku\n"
          ]
        }
      ]
    },
    {
      "cell_type": "code",
      "source": [
        "math_functions_36 = ['fungsi linear', 'fungsi kuadrat', 'fungsi eksponensial', 'fungsi trigonometri']\n",
        "for fungsi in math_functions_36:\n",
        "    print(fungsi)\n",
        "print('========================================================================')\n",
        "i = 0\n",
        "while i < len(math_functions_36):\n",
        "  print(math_functions_36[i])\n",
        "  i+=1\n",
        "print('========================================================================')\n",
        "i = 0\n",
        "while i < len(math_functions_36):\n",
        "  print(math_functions_36[i])\n",
        "  i+=2\n"
      ],
      "metadata": {
        "id": "OvfAkTO9vE6M",
        "colab": {
          "base_uri": "https://localhost:8080/"
        },
        "outputId": "ffa0dcf5-2136-4d96-9f3c-d8ff7baecb15"
      },
      "execution_count": 49,
      "outputs": [
        {
          "output_type": "stream",
          "name": "stdout",
          "text": [
            "fungsi linear\n",
            "fungsi kuadrat\n",
            "fungsi eksponensial\n",
            "fungsi trigonometri\n",
            "========================================================================\n",
            "fungsi linear\n",
            "fungsi kuadrat\n",
            "fungsi eksponensial\n",
            "fungsi trigonometri\n",
            "========================================================================\n",
            "fungsi linear\n",
            "fungsi eksponensial\n"
          ]
        }
      ]
    },
    {
      "cell_type": "code",
      "source": [
        "analytic_geometry_concepts_36 = ['titik', 'garis', 'lingkaran', 'parabola', 'elips']\n",
        "for konsep in analytic_geometry_concepts_36:\n",
        "    print(konsep)\n",
        "print('========================================================================')\n",
        "i = 0\n",
        "while i < len(analytic_geometry_concepts_36):\n",
        "  print(analytic_geometry_concepts_36[i])\n",
        "  i+=2\n",
        "print('========================================================================')\n",
        "i = 0\n",
        "while i < len(analytic_geometry_concepts_36):\n",
        "  print(analytic_geometry_concepts_36[i])\n",
        "  i+=3"
      ],
      "metadata": {
        "colab": {
          "base_uri": "https://localhost:8080/"
        },
        "id": "tkmyfKoiDYgm",
        "outputId": "06be66bb-caee-4043-bbd6-b418b8c7fe13"
      },
      "execution_count": 50,
      "outputs": [
        {
          "output_type": "stream",
          "name": "stdout",
          "text": [
            "titik\n",
            "garis\n",
            "lingkaran\n",
            "parabola\n",
            "elips\n",
            "========================================================================\n",
            "titik\n",
            "lingkaran\n",
            "elips\n",
            "========================================================================\n",
            "titik\n",
            "parabola\n"
          ]
        }
      ]
    }
  ]
}