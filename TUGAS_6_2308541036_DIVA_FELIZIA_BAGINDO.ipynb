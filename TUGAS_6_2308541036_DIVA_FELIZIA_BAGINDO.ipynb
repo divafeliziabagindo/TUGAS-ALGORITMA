{
  "nbformat": 4,
  "nbformat_minor": 0,
  "metadata": {
    "colab": {
      "provenance": []
    },
    "kernelspec": {
      "name": "python3",
      "display_name": "Python 3"
    },
    "language_info": {
      "name": "python"
    }
  },
  "cells": [
    {
      "cell_type": "markdown",
      "source": [
        "# 2.20 Numpy\n"
      ],
      "metadata": {
        "id": "BQNTPogEPRYZ"
      }
    },
    {
      "cell_type": "code",
      "source": [
        "import numpy as np\n",
        "#mengimpor numpy serta menggunakan nama alias np agar tidak kepanjangan dalam mengetik"
      ],
      "metadata": {
        "id": "uhzNEuQkPjd1"
      },
      "execution_count": 1,
      "outputs": []
    },
    {
      "cell_type": "markdown",
      "source": [
        "# 2.20.1 Perintah Dasar pada Numpy"
      ],
      "metadata": {
        "id": "IL6st-cgPd2S"
      }
    },
    {
      "cell_type": "code",
      "execution_count": 2,
      "metadata": {
        "colab": {
          "base_uri": "https://localhost:8080/"
        },
        "id": "rbejSIUFJD8Y",
        "outputId": "b1a23d44-fec6-4b6a-a656-fbeafd4896cf"
      },
      "outputs": [
        {
          "output_type": "stream",
          "name": "stdout",
          "text": [
            "Output array 1 dimensi: \n",
            "[ 2  4  6  8 10]\n",
            "----------------------------------------------\n",
            "Output array 2 dimensi: \n",
            "[[12 14 16 18]\n",
            " [20 18 16 14]]\n",
            "----------------------------------------------\n",
            "Output array 3 dimensi: \n",
            "[[[ 2  4  6  8]\n",
            "  [10 12 14 16]]\n",
            "\n",
            " [[18 20 18 16]\n",
            "  [14 12 10  8]]\n",
            "\n",
            " [[ 4  6  8 10]\n",
            "  [12 14 16 18]]]\n",
            "----------------------------------------------\n",
            "Output data array b dengan indeks 2 adalah: \n",
            "6\n",
            "Output data array b dengan indeks 4 adalah: \n",
            "10\n",
            "Output data array b dengan indeks 3 adalah: \n",
            "8\n"
          ]
        }
      ],
      "source": [
        "import numpy as np\n",
        "# membuat array dengan numpy\n",
        "print('Output array 1 dimensi: ')\n",
        "b_36 = np.array([2,4,6,8,10])\n",
        "print(b_36)\n",
        "print('----------------------------------------------')\n",
        "\n",
        "print('Output array 2 dimensi: ')\n",
        "c_36 = np.array([[12,14,16,18],[20,18,16,14]])\n",
        "print(c_36)\n",
        "print('----------------------------------------------')\n",
        "\n",
        "print('Output array 3 dimensi: ')\n",
        "d_36 = np.array([[[2,4,6,8],[10,12,14,16]],\n",
        "                  [[18,20,18,16],[14,12,10,8]],\n",
        "                  [[4,6,8,10],[12,14,16,18]]])\n",
        "print(d_36)\n",
        "print('----------------------------------------------')\n",
        "\n",
        "#mengakses data array\n",
        "print('Output data array b dengan indeks 2 adalah: ')\n",
        "print(b_36[2])           #mengakses data pada array pada numpy sama seperti list\n",
        "print('Output data array b dengan indeks 4 adalah: ')\n",
        "print(b_36[4])\n",
        "print('Output data array b dengan indeks 3 adalah: ')\n",
        "print(b_36[3])"
      ]
    },
    {
      "cell_type": "code",
      "source": [
        "b_36.ndim #ndim digunakan untuk mengecek dimensi pada array"
      ],
      "metadata": {
        "colab": {
          "base_uri": "https://localhost:8080/"
        },
        "id": "0JeNkb-1JvS0",
        "outputId": "8099e639-a7e7-4cb0-cea9-9957aaa8c722"
      },
      "execution_count": 3,
      "outputs": [
        {
          "output_type": "execute_result",
          "data": {
            "text/plain": [
              "1"
            ]
          },
          "metadata": {},
          "execution_count": 3
        }
      ]
    },
    {
      "cell_type": "code",
      "source": [
        "c_36.ndim"
      ],
      "metadata": {
        "colab": {
          "base_uri": "https://localhost:8080/"
        },
        "id": "2FX2OfnhZ2MW",
        "outputId": "c9947e1f-6854-417e-8288-7285dc5fab94"
      },
      "execution_count": 4,
      "outputs": [
        {
          "output_type": "execute_result",
          "data": {
            "text/plain": [
              "2"
            ]
          },
          "metadata": {},
          "execution_count": 4
        }
      ]
    },
    {
      "cell_type": "code",
      "source": [
        "d_36.ndim"
      ],
      "metadata": {
        "colab": {
          "base_uri": "https://localhost:8080/"
        },
        "id": "getRAK19aMZB",
        "outputId": "8f261e83-d222-4dd2-e3fa-9e63923f1251"
      },
      "execution_count": 5,
      "outputs": [
        {
          "output_type": "execute_result",
          "data": {
            "text/plain": [
              "3"
            ]
          },
          "metadata": {},
          "execution_count": 5
        }
      ]
    },
    {
      "cell_type": "code",
      "source": [
        "b_36.shape"
      ],
      "metadata": {
        "colab": {
          "base_uri": "https://localhost:8080/"
        },
        "id": "YOZNJa7TaO0l",
        "outputId": "2e9050f0-8eb3-4715-e186-d3c11e858b13"
      },
      "execution_count": 6,
      "outputs": [
        {
          "output_type": "execute_result",
          "data": {
            "text/plain": [
              "(5,)"
            ]
          },
          "metadata": {},
          "execution_count": 6
        }
      ]
    },
    {
      "cell_type": "code",
      "source": [
        "c_36.shape"
      ],
      "metadata": {
        "colab": {
          "base_uri": "https://localhost:8080/"
        },
        "id": "AVflQn9saR7w",
        "outputId": "e11a1608-636d-4521-da0f-5112b955dd3f"
      },
      "execution_count": 7,
      "outputs": [
        {
          "output_type": "execute_result",
          "data": {
            "text/plain": [
              "(2, 4)"
            ]
          },
          "metadata": {},
          "execution_count": 7
        }
      ]
    },
    {
      "cell_type": "code",
      "source": [
        "d_36.shape #shape digunakan untuk mengecek dimensi, baris dan kolom suatu array"
      ],
      "metadata": {
        "colab": {
          "base_uri": "https://localhost:8080/"
        },
        "id": "z_YNQrnDaUnO",
        "outputId": "5a616a72-f7c8-4551-d417-14ea1e95bbf7"
      },
      "execution_count": 8,
      "outputs": [
        {
          "output_type": "execute_result",
          "data": {
            "text/plain": [
              "(3, 2, 4)"
            ]
          },
          "metadata": {},
          "execution_count": 8
        }
      ]
    },
    {
      "cell_type": "code",
      "source": [
        "import numpy as np\n",
        "print('Output array 1 dimensi: ')\n",
        "x_36 = np.array([1,3,5,7,9])\n",
        "print(x_36)\n",
        "print('----------------------------------------------')\n",
        "\n",
        "print('Output array 2 dimensi: ')\n",
        "y_36 = np.array([[11,13,15,17],[19,21,23,25]])\n",
        "print(y_36)\n",
        "print('----------------------------------------------')\n",
        "\n",
        "print('Output array 3 dimensi: ')\n",
        "z_36 = np.array([[[1,3,5,7],[9,11,13,15]],\n",
        "                  [[17,19,17,15],[13,11,9,7]],\n",
        "                  [[3,5,7,9],[11,13,15,17]]])\n",
        "print(z_36)\n",
        "print('----------------------------------------------')\n",
        "\n",
        "#mengakses data array\n",
        "print('Output data array x dengan indeks 1 adalah: ')\n",
        "print(x_36[1])\n",
        "print('Output data array x dengan indeks 3 adalah: ')\n",
        "print(x_36[3])\n",
        "print('Output data array x dengan indeks 4 adalah: ')\n",
        "print(x_36[4])"
      ],
      "metadata": {
        "colab": {
          "base_uri": "https://localhost:8080/"
        },
        "id": "9XjqLp2xTfc2",
        "outputId": "05361bea-7801-4e89-c512-462a1366b621"
      },
      "execution_count": 9,
      "outputs": [
        {
          "output_type": "stream",
          "name": "stdout",
          "text": [
            "Output array 1 dimensi: \n",
            "[1 3 5 7 9]\n",
            "----------------------------------------------\n",
            "Output array 2 dimensi: \n",
            "[[11 13 15 17]\n",
            " [19 21 23 25]]\n",
            "----------------------------------------------\n",
            "Output array 3 dimensi: \n",
            "[[[ 1  3  5  7]\n",
            "  [ 9 11 13 15]]\n",
            "\n",
            " [[17 19 17 15]\n",
            "  [13 11  9  7]]\n",
            "\n",
            " [[ 3  5  7  9]\n",
            "  [11 13 15 17]]]\n",
            "----------------------------------------------\n",
            "Output data array x dengan indeks 1 adalah: \n",
            "3\n",
            "Output data array x dengan indeks 3 adalah: \n",
            "7\n",
            "Output data array x dengan indeks 4 adalah: \n",
            "9\n"
          ]
        }
      ]
    },
    {
      "cell_type": "code",
      "source": [
        "x_36.ndim"
      ],
      "metadata": {
        "colab": {
          "base_uri": "https://localhost:8080/"
        },
        "id": "DoTD7MejV78o",
        "outputId": "fe910dc6-faeb-4050-e889-b215bf370f40"
      },
      "execution_count": 10,
      "outputs": [
        {
          "output_type": "execute_result",
          "data": {
            "text/plain": [
              "1"
            ]
          },
          "metadata": {},
          "execution_count": 10
        }
      ]
    },
    {
      "cell_type": "code",
      "source": [
        "y_36.ndim"
      ],
      "metadata": {
        "colab": {
          "base_uri": "https://localhost:8080/"
        },
        "id": "Fw6HGfoWWWn0",
        "outputId": "2eb752ae-dfe9-402e-908c-54d0b271b337"
      },
      "execution_count": 11,
      "outputs": [
        {
          "output_type": "execute_result",
          "data": {
            "text/plain": [
              "2"
            ]
          },
          "metadata": {},
          "execution_count": 11
        }
      ]
    },
    {
      "cell_type": "code",
      "source": [
        "z_36.ndim"
      ],
      "metadata": {
        "colab": {
          "base_uri": "https://localhost:8080/"
        },
        "id": "c9T3hbQfWa4G",
        "outputId": "ecdcb746-c120-4b37-c8f7-1103511e4532"
      },
      "execution_count": 12,
      "outputs": [
        {
          "output_type": "execute_result",
          "data": {
            "text/plain": [
              "3"
            ]
          },
          "metadata": {},
          "execution_count": 12
        }
      ]
    },
    {
      "cell_type": "code",
      "source": [
        "x_36.shape"
      ],
      "metadata": {
        "colab": {
          "base_uri": "https://localhost:8080/"
        },
        "id": "NaaGQsw7We4n",
        "outputId": "f7621315-66c1-4fc8-8ddf-5d091d98a58b"
      },
      "execution_count": 13,
      "outputs": [
        {
          "output_type": "execute_result",
          "data": {
            "text/plain": [
              "(5,)"
            ]
          },
          "metadata": {},
          "execution_count": 13
        }
      ]
    },
    {
      "cell_type": "code",
      "source": [
        "y_36.shape"
      ],
      "metadata": {
        "colab": {
          "base_uri": "https://localhost:8080/"
        },
        "id": "7xmoZzj9WiSj",
        "outputId": "007acc23-342c-4e27-96e8-e0be76193222"
      },
      "execution_count": 14,
      "outputs": [
        {
          "output_type": "execute_result",
          "data": {
            "text/plain": [
              "(2, 4)"
            ]
          },
          "metadata": {},
          "execution_count": 14
        }
      ]
    },
    {
      "cell_type": "code",
      "source": [
        "z_36.shape"
      ],
      "metadata": {
        "colab": {
          "base_uri": "https://localhost:8080/"
        },
        "id": "0Ar03-DdWlR_",
        "outputId": "8fca8042-a33f-493c-cc19-cf7d99caf97d"
      },
      "execution_count": 15,
      "outputs": [
        {
          "output_type": "execute_result",
          "data": {
            "text/plain": [
              "(3, 2, 4)"
            ]
          },
          "metadata": {},
          "execution_count": 15
        }
      ]
    },
    {
      "cell_type": "markdown",
      "source": [
        "# 2.20.2 Memanggil Anggota, Kolom dan Baris dengan Numpy"
      ],
      "metadata": {
        "id": "cRLDlzteWuVL"
      }
    },
    {
      "cell_type": "code",
      "source": [
        "e_36 = np.array([[1,3,5,7],[9,11,13,15],[17,19,21,23]]) #menginisialisasi variabel\n",
        "print(e_36)                                             #mencetak array"
      ],
      "metadata": {
        "colab": {
          "base_uri": "https://localhost:8080/"
        },
        "id": "edPBM3AzaYEn",
        "outputId": "da45048f-b309-4f46-8f09-cffdd9da3ec4"
      },
      "execution_count": 16,
      "outputs": [
        {
          "output_type": "stream",
          "name": "stdout",
          "text": [
            "[[ 1  3  5  7]\n",
            " [ 9 11 13 15]\n",
            " [17 19 21 23]]\n"
          ]
        }
      ]
    },
    {
      "cell_type": "code",
      "source": [
        "e_36[0,3] #indeks pada python selalu dimulai dari 0, maka ini akan mencetak elemen array e yang berada di baris 1 kolom 4"
      ],
      "metadata": {
        "colab": {
          "base_uri": "https://localhost:8080/"
        },
        "id": "Xou8lNWgcLWf",
        "outputId": "56565d79-8508-4b48-f3e7-fdd035f6faba"
      },
      "execution_count": 17,
      "outputs": [
        {
          "output_type": "execute_result",
          "data": {
            "text/plain": [
              "7"
            ]
          },
          "metadata": {},
          "execution_count": 17
        }
      ]
    },
    {
      "cell_type": "code",
      "source": [
        "e_36[1,3] #mencetak elemen array e yang berada di baris 2 kolom 4"
      ],
      "metadata": {
        "colab": {
          "base_uri": "https://localhost:8080/"
        },
        "id": "k6M5babnX8Oq",
        "outputId": "339993c1-08fc-4281-f8b5-7174a48ea218"
      },
      "execution_count": 18,
      "outputs": [
        {
          "output_type": "execute_result",
          "data": {
            "text/plain": [
              "15"
            ]
          },
          "metadata": {},
          "execution_count": 18
        }
      ]
    },
    {
      "cell_type": "code",
      "source": [
        "e_36[1,:] #untuk mencetak semua elemen pada baris kedua"
      ],
      "metadata": {
        "colab": {
          "base_uri": "https://localhost:8080/"
        },
        "id": "ficD8tabcS7A",
        "outputId": "b9006807-bdc3-468c-e297-3e7c942c7d48"
      },
      "execution_count": 19,
      "outputs": [
        {
          "output_type": "execute_result",
          "data": {
            "text/plain": [
              "array([ 9, 11, 13, 15])"
            ]
          },
          "metadata": {},
          "execution_count": 19
        }
      ]
    },
    {
      "cell_type": "code",
      "source": [
        "e_36[:,2] #untuk mencetak semua elemen pada kolom ketiga"
      ],
      "metadata": {
        "colab": {
          "base_uri": "https://localhost:8080/"
        },
        "id": "nt6GlE27dNzf",
        "outputId": "78a7c77e-cc48-4724-f87d-061c9569bead"
      },
      "execution_count": 20,
      "outputs": [
        {
          "output_type": "execute_result",
          "data": {
            "text/plain": [
              "array([ 5, 13, 21])"
            ]
          },
          "metadata": {},
          "execution_count": 20
        }
      ]
    },
    {
      "cell_type": "code",
      "source": [
        "e_36[0,1:3]"
      ],
      "metadata": {
        "colab": {
          "base_uri": "https://localhost:8080/"
        },
        "id": "ups_pkGGdbcb",
        "outputId": "977b819e-97a6-48a5-e59a-68309ede321f"
      },
      "execution_count": 21,
      "outputs": [
        {
          "output_type": "execute_result",
          "data": {
            "text/plain": [
              "array([3, 5])"
            ]
          },
          "metadata": {},
          "execution_count": 21
        }
      ]
    },
    {
      "cell_type": "code",
      "source": [
        "e_36[0,0:3:2]  #untuk baris pertama, kolom pertama sampai kolom tiga dengan loncatan dua"
      ],
      "metadata": {
        "colab": {
          "base_uri": "https://localhost:8080/"
        },
        "id": "WUXK2f0HdsAU",
        "outputId": "69bec011-f0a7-41d8-88f9-6f3196733d13"
      },
      "execution_count": 22,
      "outputs": [
        {
          "output_type": "execute_result",
          "data": {
            "text/plain": [
              "array([1, 5])"
            ]
          },
          "metadata": {},
          "execution_count": 22
        }
      ]
    },
    {
      "cell_type": "code",
      "source": [
        "e_36[0,0] = 55 #ketika ingin mengubah suatu elemen pada array\n",
        "print(e_36) #untuk mencetak perintah"
      ],
      "metadata": {
        "colab": {
          "base_uri": "https://localhost:8080/"
        },
        "id": "ODIM-jTrd9jC",
        "outputId": "b40d1794-4dcd-4105-9747-84ffa336e34a"
      },
      "execution_count": 23,
      "outputs": [
        {
          "output_type": "stream",
          "name": "stdout",
          "text": [
            "[[55  3  5  7]\n",
            " [ 9 11 13 15]\n",
            " [17 19 21 23]]\n"
          ]
        }
      ]
    },
    {
      "cell_type": "code",
      "source": [
        "e_36[0,0] = 155\n",
        "print(e_36)"
      ],
      "metadata": {
        "colab": {
          "base_uri": "https://localhost:8080/"
        },
        "id": "yChanleWhE_w",
        "outputId": "3c4d2499-07db-40e7-af89-f3b01b675801"
      },
      "execution_count": 24,
      "outputs": [
        {
          "output_type": "stream",
          "name": "stdout",
          "text": [
            "[[155   3   5   7]\n",
            " [  9  11  13  15]\n",
            " [ 17  19  21  23]]\n"
          ]
        }
      ]
    },
    {
      "cell_type": "code",
      "source": [
        "k_36 = np.array([[14,15,16,17],[18,19,20,21],[22,23,24,25]])\n",
        "print(k_36)\n",
        "print('=================================================================')\n",
        "\n",
        "print(k_36[0,3])\n",
        "print('=================================================================')\n",
        "\n",
        "print(k_36[1,3])\n",
        "print('=================================================================')\n",
        "\n",
        "print(k_36[1,:])\n",
        "print('=================================================================')\n",
        "\n",
        "print(k_36[:,2])\n",
        "print('=================================================================')\n",
        "\n",
        "print(k_36[0,1:3])\n",
        "print('=================================================================')\n",
        "\n",
        "print(k_36[0,0:3:2])\n",
        "print('=================================================================')\n",
        "\n",
        "k_36[0,0] = 40\n",
        "print(k_36)"
      ],
      "metadata": {
        "colab": {
          "base_uri": "https://localhost:8080/"
        },
        "id": "kp-bClT7aZ2X",
        "outputId": "1713c6d5-25fd-491b-d4b3-9a6abf8072a8"
      },
      "execution_count": 25,
      "outputs": [
        {
          "output_type": "stream",
          "name": "stdout",
          "text": [
            "[[14 15 16 17]\n",
            " [18 19 20 21]\n",
            " [22 23 24 25]]\n",
            "=================================================================\n",
            "17\n",
            "=================================================================\n",
            "21\n",
            "=================================================================\n",
            "[18 19 20 21]\n",
            "=================================================================\n",
            "[16 20 24]\n",
            "=================================================================\n",
            "[15 16]\n",
            "=================================================================\n",
            "[14 16]\n",
            "=================================================================\n",
            "[[40 15 16 17]\n",
            " [18 19 20 21]\n",
            " [22 23 24 25]]\n"
          ]
        }
      ]
    },
    {
      "cell_type": "markdown",
      "source": [
        "## 2.20.3 Matrix pada Numpy"
      ],
      "metadata": {
        "id": "X2mvom4ucOAy"
      }
    },
    {
      "cell_type": "markdown",
      "source": [
        "beberapa perintah dalam Numpy untuk membuat matrix"
      ],
      "metadata": {
        "id": "hGRZ1DPFdJGB"
      }
    },
    {
      "cell_type": "code",
      "source": [
        "#np.ones((...,...))\n",
        "#mencetak matriks dengan anggota 1, dengan baris dan kolom sesuai dengan yang diperintahkan\n",
        "print('Output matriks anggota 1 dengan baris 3 dan kolom 4: ')\n",
        "np.ones((3,4))"
      ],
      "metadata": {
        "colab": {
          "base_uri": "https://localhost:8080/"
        },
        "id": "lhQmpuDUhfhV",
        "outputId": "de8d4654-21b9-4b8e-a6af-94590464d73a"
      },
      "execution_count": 26,
      "outputs": [
        {
          "output_type": "stream",
          "name": "stdout",
          "text": [
            "Output matriks anggota 1 dengan baris 3 dan kolom 4: \n"
          ]
        },
        {
          "output_type": "execute_result",
          "data": {
            "text/plain": [
              "array([[1., 1., 1., 1.],\n",
              "       [1., 1., 1., 1.],\n",
              "       [1., 1., 1., 1.]])"
            ]
          },
          "metadata": {},
          "execution_count": 26
        }
      ]
    },
    {
      "cell_type": "code",
      "source": [
        "#np.zeros((...,...))\n",
        "#mencetak matriks dengan anggota 0, dengan baris dan kolom sesuai dengan yang diperintahkan\n",
        "print('Output matriks anggota 0 dengan baris 4 dan kolom 3: ')\n",
        "np.zeros((4,3))"
      ],
      "metadata": {
        "colab": {
          "base_uri": "https://localhost:8080/"
        },
        "id": "b9gqhZcnhr1m",
        "outputId": "bb810ec3-1553-46e3-dbae-4d03ed5f03e6"
      },
      "execution_count": 27,
      "outputs": [
        {
          "output_type": "stream",
          "name": "stdout",
          "text": [
            "Output matriks anggota 0 dengan baris 4 dan kolom 3: \n"
          ]
        },
        {
          "output_type": "execute_result",
          "data": {
            "text/plain": [
              "array([[0., 0., 0.],\n",
              "       [0., 0., 0.],\n",
              "       [0., 0., 0.],\n",
              "       [0., 0., 0.]])"
            ]
          },
          "metadata": {},
          "execution_count": 27
        }
      ]
    },
    {
      "cell_type": "code",
      "source": [
        "#np.identity((...,...))\n",
        "#mencetak matriks identitas, dengan baris dan kolom sesuai dengan yang diperintahkan\n",
        "print('Output matriks identitas 5 x 5 : ')\n",
        "np.identity(5)"
      ],
      "metadata": {
        "colab": {
          "base_uri": "https://localhost:8080/"
        },
        "id": "ReA6CA_tijZM",
        "outputId": "7ef359ce-32bc-4ed4-ef99-98929f3dfb7d"
      },
      "execution_count": 28,
      "outputs": [
        {
          "output_type": "stream",
          "name": "stdout",
          "text": [
            "Output matriks identitas 5 x 5 : \n"
          ]
        },
        {
          "output_type": "execute_result",
          "data": {
            "text/plain": [
              "array([[1., 0., 0., 0., 0.],\n",
              "       [0., 1., 0., 0., 0.],\n",
              "       [0., 0., 1., 0., 0.],\n",
              "       [0., 0., 0., 1., 0.],\n",
              "       [0., 0., 0., 0., 1.]])"
            ]
          },
          "metadata": {},
          "execution_count": 28
        }
      ]
    },
    {
      "cell_type": "code",
      "source": [
        "#np.ones(...,...,...)\n",
        "#mencetak matriks dengan anggota 1, dengan jumlah, baris dan kolom sesuai dengan yang iperintahkan\n",
        "print('Output matriks anggota 1 dengan jumlah matriks 3, 4 baris dan 5 kolom: ')\n",
        "print(np.ones((3,4,5)))"
      ],
      "metadata": {
        "colab": {
          "base_uri": "https://localhost:8080/"
        },
        "id": "qhyvQE8qgRqV",
        "outputId": "0edc77b5-66e4-426d-aaac-c5a560c9440b"
      },
      "execution_count": 29,
      "outputs": [
        {
          "output_type": "stream",
          "name": "stdout",
          "text": [
            "Output matriks anggota 1 dengan jumlah matriks 3, 4 baris dan 5 kolom: \n",
            "[[[1. 1. 1. 1. 1.]\n",
            "  [1. 1. 1. 1. 1.]\n",
            "  [1. 1. 1. 1. 1.]\n",
            "  [1. 1. 1. 1. 1.]]\n",
            "\n",
            " [[1. 1. 1. 1. 1.]\n",
            "  [1. 1. 1. 1. 1.]\n",
            "  [1. 1. 1. 1. 1.]\n",
            "  [1. 1. 1. 1. 1.]]\n",
            "\n",
            " [[1. 1. 1. 1. 1.]\n",
            "  [1. 1. 1. 1. 1.]\n",
            "  [1. 1. 1. 1. 1.]\n",
            "  [1. 1. 1. 1. 1.]]]\n"
          ]
        }
      ]
    },
    {
      "cell_type": "code",
      "source": [
        "#np.full((...,...),...)\n",
        "#mencetak matriks dengan anggota pada indeks keempat, dengan jumlah, baris dan kolom sesuai yang diperintahkan\n",
        "print('Output matriks anggota 9 dengan 4 baris dan 3 kolom: ')\n",
        "np.full((4,3),9)"
      ],
      "metadata": {
        "colab": {
          "base_uri": "https://localhost:8080/"
        },
        "id": "i2r-Pjevi7v8",
        "outputId": "f32accd8-3d93-4020-c5ce-2bfc7ee164a6"
      },
      "execution_count": 30,
      "outputs": [
        {
          "output_type": "stream",
          "name": "stdout",
          "text": [
            "Output matriks anggota 9 dengan 4 baris dan 3 kolom: \n"
          ]
        },
        {
          "output_type": "execute_result",
          "data": {
            "text/plain": [
              "array([[9, 9, 9],\n",
              "       [9, 9, 9],\n",
              "       [9, 9, 9],\n",
              "       [9, 9, 9]])"
            ]
          },
          "metadata": {},
          "execution_count": 30
        }
      ]
    },
    {
      "cell_type": "code",
      "source": [
        "#np.random.rand(...,...)\n",
        "#mencetak matriks yang anggotanya random\n",
        "print('Output matriks anggota random dengan 4 baris dan 3 kolom: ')\n",
        "print(np.random.rand(4,3))"
      ],
      "metadata": {
        "colab": {
          "base_uri": "https://localhost:8080/"
        },
        "id": "q0gt4n5Dj_81",
        "outputId": "96087213-d63d-4cb1-9df2-af616ab4ddf9"
      },
      "execution_count": 31,
      "outputs": [
        {
          "output_type": "stream",
          "name": "stdout",
          "text": [
            "Output matriks anggota random dengan 4 baris dan 3 kolom: \n",
            "[[0.03676805 0.6999509  0.704989  ]\n",
            " [0.6806176  0.10219893 0.77109648]\n",
            " [0.84179636 0.74373232 0.2379246 ]\n",
            " [0.79854766 0.37843675 0.79550058]]\n"
          ]
        }
      ]
    },
    {
      "cell_type": "code",
      "source": [
        "#np.random.randit(...,..., size=(...,...))\n",
        "#mencetak matriks yang anggotanya acak dengan tipe data integer acak dari ukuran yang diberikan\n",
        "print('Output matriks anggota random integer 1-10 dengan 3 baris dan 4 kolom: ')\n",
        "print(np.random.randint(1,10,size=(3,4)))"
      ],
      "metadata": {
        "colab": {
          "base_uri": "https://localhost:8080/"
        },
        "id": "3x76a1mgkqX6",
        "outputId": "79820fb6-b076-471c-a95a-9396cc02ea5e"
      },
      "execution_count": 32,
      "outputs": [
        {
          "output_type": "stream",
          "name": "stdout",
          "text": [
            "Output matriks anggota random integer 1-10 dengan 3 baris dan 4 kolom: \n",
            "[[5 1 1 8]\n",
            " [2 5 6 1]\n",
            " [8 2 8 1]]\n"
          ]
        }
      ]
    },
    {
      "cell_type": "code",
      "source": [
        "print('Output matriks anggota 1 dengan baris 4 dan kolom 5 : ')\n",
        "print(np.ones((4,5)))\n",
        "\n",
        "print()\n",
        "\n",
        "print('Output matriks anggota 0 dengan baris 5 dan kolom 4: ')\n",
        "print(np.zeros((5,4)))\n",
        "\n",
        "print()\n",
        "\n",
        "print('Output matriks identitas 6 x 6: ')\n",
        "print(np.identity(6))\n",
        "\n",
        "print()\n",
        "\n",
        "print('Output matriks anggota 1 dengan jumlah matriks 4, 5 baris dan 6 kolom : ')\n",
        "print(np.ones((4,5,6)))\n",
        "\n",
        "print()\n",
        "\n",
        "print('Output matriks anggota 10 dengan 5 baris dan 4 kolom : ')\n",
        "print(np.full((5,4),10))\n",
        "\n",
        "print()\n",
        "\n",
        "print('Output matriks anggota random dengan 5 baris dan 4 kolom : ')\n",
        "print(np.random.rand(5,4))\n",
        "\n",
        "print()\n",
        "\n",
        "print('Output matriks anggota random integer 1-15 dengan 4 baris dan 5 kolom : ')\n",
        "print(np.random.randint(1,15,size=(4,5)))"
      ],
      "metadata": {
        "colab": {
          "base_uri": "https://localhost:8080/"
        },
        "id": "BBkhEX6amyjq",
        "outputId": "ea93af38-25c3-4ccb-94fe-c990b752dd42"
      },
      "execution_count": 33,
      "outputs": [
        {
          "output_type": "stream",
          "name": "stdout",
          "text": [
            "Output matriks anggota 1 dengan baris 4 dan kolom 5 : \n",
            "[[1. 1. 1. 1. 1.]\n",
            " [1. 1. 1. 1. 1.]\n",
            " [1. 1. 1. 1. 1.]\n",
            " [1. 1. 1. 1. 1.]]\n",
            "\n",
            "Output matriks anggota 0 dengan baris 5 dan kolom 4: \n",
            "[[0. 0. 0. 0.]\n",
            " [0. 0. 0. 0.]\n",
            " [0. 0. 0. 0.]\n",
            " [0. 0. 0. 0.]\n",
            " [0. 0. 0. 0.]]\n",
            "\n",
            "Output matriks identitas 6 x 6: \n",
            "[[1. 0. 0. 0. 0. 0.]\n",
            " [0. 1. 0. 0. 0. 0.]\n",
            " [0. 0. 1. 0. 0. 0.]\n",
            " [0. 0. 0. 1. 0. 0.]\n",
            " [0. 0. 0. 0. 1. 0.]\n",
            " [0. 0. 0. 0. 0. 1.]]\n",
            "\n",
            "Output matriks anggota 1 dengan jumlah matriks 4, 5 baris dan 6 kolom : \n",
            "[[[1. 1. 1. 1. 1. 1.]\n",
            "  [1. 1. 1. 1. 1. 1.]\n",
            "  [1. 1. 1. 1. 1. 1.]\n",
            "  [1. 1. 1. 1. 1. 1.]\n",
            "  [1. 1. 1. 1. 1. 1.]]\n",
            "\n",
            " [[1. 1. 1. 1. 1. 1.]\n",
            "  [1. 1. 1. 1. 1. 1.]\n",
            "  [1. 1. 1. 1. 1. 1.]\n",
            "  [1. 1. 1. 1. 1. 1.]\n",
            "  [1. 1. 1. 1. 1. 1.]]\n",
            "\n",
            " [[1. 1. 1. 1. 1. 1.]\n",
            "  [1. 1. 1. 1. 1. 1.]\n",
            "  [1. 1. 1. 1. 1. 1.]\n",
            "  [1. 1. 1. 1. 1. 1.]\n",
            "  [1. 1. 1. 1. 1. 1.]]\n",
            "\n",
            " [[1. 1. 1. 1. 1. 1.]\n",
            "  [1. 1. 1. 1. 1. 1.]\n",
            "  [1. 1. 1. 1. 1. 1.]\n",
            "  [1. 1. 1. 1. 1. 1.]\n",
            "  [1. 1. 1. 1. 1. 1.]]]\n",
            "\n",
            "Output matriks anggota 10 dengan 5 baris dan 4 kolom : \n",
            "[[10 10 10 10]\n",
            " [10 10 10 10]\n",
            " [10 10 10 10]\n",
            " [10 10 10 10]\n",
            " [10 10 10 10]]\n",
            "\n",
            "Output matriks anggota random dengan 5 baris dan 4 kolom : \n",
            "[[0.67355444 0.64608481 0.46788276 0.91398261]\n",
            " [0.15007461 0.15555908 0.32739319 0.90248182]\n",
            " [0.49221995 0.58366824 0.62984042 0.36473986]\n",
            " [0.80868741 0.19604939 0.57167803 0.70767976]\n",
            " [0.87396437 0.35096853 0.01892892 0.61444012]]\n",
            "\n",
            "Output matriks anggota random integer 1-15 dengan 4 baris dan 5 kolom : \n",
            "[[ 5  2  5 11  5]\n",
            " [ 2  3  9  6 14]\n",
            " [10  8 14  1 11]\n",
            " [ 9  8  2  9 14]]\n"
          ]
        }
      ]
    },
    {
      "cell_type": "markdown",
      "source": [
        "latihan buat matriks ukuran 10 x 10 dengan Numpy"
      ],
      "metadata": {
        "id": "SrXp9t8cmITt"
      }
    },
    {
      "cell_type": "code",
      "source": [
        "#membuat base matriks\n",
        "d_36 = np.zeros((10,10))\n",
        "print(d_36)"
      ],
      "metadata": {
        "colab": {
          "base_uri": "https://localhost:8080/"
        },
        "id": "1xq3fHO6kyvZ",
        "outputId": "0387344b-9468-4956-d607-d439216dcb51"
      },
      "execution_count": 34,
      "outputs": [
        {
          "output_type": "stream",
          "name": "stdout",
          "text": [
            "[[0. 0. 0. 0. 0. 0. 0. 0. 0. 0.]\n",
            " [0. 0. 0. 0. 0. 0. 0. 0. 0. 0.]\n",
            " [0. 0. 0. 0. 0. 0. 0. 0. 0. 0.]\n",
            " [0. 0. 0. 0. 0. 0. 0. 0. 0. 0.]\n",
            " [0. 0. 0. 0. 0. 0. 0. 0. 0. 0.]\n",
            " [0. 0. 0. 0. 0. 0. 0. 0. 0. 0.]\n",
            " [0. 0. 0. 0. 0. 0. 0. 0. 0. 0.]\n",
            " [0. 0. 0. 0. 0. 0. 0. 0. 0. 0.]\n",
            " [0. 0. 0. 0. 0. 0. 0. 0. 0. 0.]\n",
            " [0. 0. 0. 0. 0. 0. 0. 0. 0. 0.]]\n"
          ]
        }
      ]
    },
    {
      "cell_type": "code",
      "source": [
        "#membuat base diagonal utama\n",
        "i_36 = np.identity(10)\n",
        "print(i_36)"
      ],
      "metadata": {
        "colab": {
          "base_uri": "https://localhost:8080/"
        },
        "id": "c9kg520El300",
        "outputId": "336c556e-6d48-4922-e5cd-3946111529da"
      },
      "execution_count": 35,
      "outputs": [
        {
          "output_type": "stream",
          "name": "stdout",
          "text": [
            "[[1. 0. 0. 0. 0. 0. 0. 0. 0. 0.]\n",
            " [0. 1. 0. 0. 0. 0. 0. 0. 0. 0.]\n",
            " [0. 0. 1. 0. 0. 0. 0. 0. 0. 0.]\n",
            " [0. 0. 0. 1. 0. 0. 0. 0. 0. 0.]\n",
            " [0. 0. 0. 0. 1. 0. 0. 0. 0. 0.]\n",
            " [0. 0. 0. 0. 0. 1. 0. 0. 0. 0.]\n",
            " [0. 0. 0. 0. 0. 0. 1. 0. 0. 0.]\n",
            " [0. 0. 0. 0. 0. 0. 0. 1. 0. 0.]\n",
            " [0. 0. 0. 0. 0. 0. 0. 0. 1. 0.]\n",
            " [0. 0. 0. 0. 0. 0. 0. 0. 0. 1.]]\n"
          ]
        }
      ]
    },
    {
      "cell_type": "code",
      "source": [
        "#mengganti diagonal dengan angka 9\n",
        "v_36 = 9*i_36\n",
        "print(v_36)"
      ],
      "metadata": {
        "colab": {
          "base_uri": "https://localhost:8080/"
        },
        "id": "J4JYhsCRm5t8",
        "outputId": "4906e647-027f-4171-e855-eac7b0eeb3c6"
      },
      "execution_count": 36,
      "outputs": [
        {
          "output_type": "stream",
          "name": "stdout",
          "text": [
            "[[9. 0. 0. 0. 0. 0. 0. 0. 0. 0.]\n",
            " [0. 9. 0. 0. 0. 0. 0. 0. 0. 0.]\n",
            " [0. 0. 9. 0. 0. 0. 0. 0. 0. 0.]\n",
            " [0. 0. 0. 9. 0. 0. 0. 0. 0. 0.]\n",
            " [0. 0. 0. 0. 9. 0. 0. 0. 0. 0.]\n",
            " [0. 0. 0. 0. 0. 9. 0. 0. 0. 0.]\n",
            " [0. 0. 0. 0. 0. 0. 9. 0. 0. 0.]\n",
            " [0. 0. 0. 0. 0. 0. 0. 9. 0. 0.]\n",
            " [0. 0. 0. 0. 0. 0. 0. 0. 9. 0.]\n",
            " [0. 0. 0. 0. 0. 0. 0. 0. 0. 9.]]\n"
          ]
        }
      ]
    },
    {
      "cell_type": "code",
      "source": [
        "a_36 = np.ones((8,8))    #membuat matriks 8 x 8 untuk bagian dalam matriks 10 x 10\n",
        "f_36 = np.identity(8)*8  #membuat matriks identitas pada matriks 8 x 8\n",
        "e_36 = a_36+f_36         #menggabungkan hasil a dan f\n",
        "print(e_36)"
      ],
      "metadata": {
        "colab": {
          "base_uri": "https://localhost:8080/"
        },
        "id": "eeAtNv9EnAON",
        "outputId": "2819b7f3-381a-41bd-bdc7-c7dedefee49a"
      },
      "execution_count": 37,
      "outputs": [
        {
          "output_type": "stream",
          "name": "stdout",
          "text": [
            "[[9. 1. 1. 1. 1. 1. 1. 1.]\n",
            " [1. 9. 1. 1. 1. 1. 1. 1.]\n",
            " [1. 1. 9. 1. 1. 1. 1. 1.]\n",
            " [1. 1. 1. 9. 1. 1. 1. 1.]\n",
            " [1. 1. 1. 1. 9. 1. 1. 1.]\n",
            " [1. 1. 1. 1. 1. 9. 1. 1.]\n",
            " [1. 1. 1. 1. 1. 1. 9. 1.]\n",
            " [1. 1. 1. 1. 1. 1. 1. 9.]]\n"
          ]
        }
      ]
    },
    {
      "cell_type": "code",
      "source": [
        "v_36[1:-1,1:-1] = e_36 #update v yaitu baris kedua sampai 9 menjadi e\n",
        "print(v_36)"
      ],
      "metadata": {
        "colab": {
          "base_uri": "https://localhost:8080/"
        },
        "id": "n341pZ82njTL",
        "outputId": "9f0d4f99-aeb4-44bb-e9aa-4d3f231c5d6c"
      },
      "execution_count": 38,
      "outputs": [
        {
          "output_type": "stream",
          "name": "stdout",
          "text": [
            "[[9. 0. 0. 0. 0. 0. 0. 0. 0. 0.]\n",
            " [0. 9. 1. 1. 1. 1. 1. 1. 1. 0.]\n",
            " [0. 1. 9. 1. 1. 1. 1. 1. 1. 0.]\n",
            " [0. 1. 1. 9. 1. 1. 1. 1. 1. 0.]\n",
            " [0. 1. 1. 1. 9. 1. 1. 1. 1. 0.]\n",
            " [0. 1. 1. 1. 1. 9. 1. 1. 1. 0.]\n",
            " [0. 1. 1. 1. 1. 1. 9. 1. 1. 0.]\n",
            " [0. 1. 1. 1. 1. 1. 1. 9. 1. 0.]\n",
            " [0. 1. 1. 1. 1. 1. 1. 1. 9. 0.]\n",
            " [0. 0. 0. 0. 0. 0. 0. 0. 0. 9.]]\n"
          ]
        }
      ]
    },
    {
      "cell_type": "code",
      "source": [
        "l_36 = np.identity(6)*9     #membuat matriks identitas  6 x 6 dengan diagonal 9\n",
        "v_36[2:-2,2:-2] = l_36      #update v yaitu baris ketiga sampai 8 menjadi l\n",
        "print(v_36)"
      ],
      "metadata": {
        "colab": {
          "base_uri": "https://localhost:8080/"
        },
        "id": "I_terWavoabX",
        "outputId": "c4a2472d-402d-44da-a940-5995642e335d"
      },
      "execution_count": 39,
      "outputs": [
        {
          "output_type": "stream",
          "name": "stdout",
          "text": [
            "[[9. 0. 0. 0. 0. 0. 0. 0. 0. 0.]\n",
            " [0. 9. 1. 1. 1. 1. 1. 1. 1. 0.]\n",
            " [0. 1. 9. 0. 0. 0. 0. 0. 1. 0.]\n",
            " [0. 1. 0. 9. 0. 0. 0. 0. 1. 0.]\n",
            " [0. 1. 0. 0. 9. 0. 0. 0. 1. 0.]\n",
            " [0. 1. 0. 0. 0. 9. 0. 0. 1. 0.]\n",
            " [0. 1. 0. 0. 0. 0. 9. 0. 1. 0.]\n",
            " [0. 1. 0. 0. 0. 0. 0. 9. 1. 0.]\n",
            " [0. 1. 1. 1. 1. 1. 1. 1. 9. 0.]\n",
            " [0. 0. 0. 0. 0. 0. 0. 0. 0. 9.]]\n"
          ]
        }
      ]
    },
    {
      "cell_type": "code",
      "source": [
        "z_36 = np.ones((4,4))*2    #membuat matriks 4 x 4 dengan elemen 2\n",
        "b_36 = np.identity(4)*7    #membuat identitas 4 x 4 dengan elemen 7\n",
        "g_36 = z_36 + b_36         #menggabungkan hasil z dan b\n",
        "print(g_36)"
      ],
      "metadata": {
        "colab": {
          "base_uri": "https://localhost:8080/"
        },
        "id": "J6KorRKDqNTl",
        "outputId": "fb8bca1e-57f9-48bc-d15f-bbfea78547be"
      },
      "execution_count": 40,
      "outputs": [
        {
          "output_type": "stream",
          "name": "stdout",
          "text": [
            "[[9. 2. 2. 2.]\n",
            " [2. 9. 2. 2.]\n",
            " [2. 2. 9. 2.]\n",
            " [2. 2. 2. 9.]]\n"
          ]
        }
      ]
    },
    {
      "cell_type": "code",
      "source": [
        "v_36[3:-3,3:-3] = g_36   #update v yaitu baris keempat sampai 7 menjadi g\n",
        "print(v_36)"
      ],
      "metadata": {
        "colab": {
          "base_uri": "https://localhost:8080/"
        },
        "id": "RYFSCwlYq2kF",
        "outputId": "511d029f-d167-45bc-ae47-9c1638dbc59c"
      },
      "execution_count": 41,
      "outputs": [
        {
          "output_type": "stream",
          "name": "stdout",
          "text": [
            "[[9. 0. 0. 0. 0. 0. 0. 0. 0. 0.]\n",
            " [0. 9. 1. 1. 1. 1. 1. 1. 1. 0.]\n",
            " [0. 1. 9. 0. 0. 0. 0. 0. 1. 0.]\n",
            " [0. 1. 0. 9. 2. 2. 2. 0. 1. 0.]\n",
            " [0. 1. 0. 2. 9. 2. 2. 0. 1. 0.]\n",
            " [0. 1. 0. 2. 2. 9. 2. 0. 1. 0.]\n",
            " [0. 1. 0. 2. 2. 2. 9. 0. 1. 0.]\n",
            " [0. 1. 0. 0. 0. 0. 0. 9. 1. 0.]\n",
            " [0. 1. 1. 1. 1. 1. 1. 1. 9. 0.]\n",
            " [0. 0. 0. 0. 0. 0. 0. 0. 0. 9.]]\n"
          ]
        }
      ]
    },
    {
      "cell_type": "code",
      "source": [
        "n_36 = np.identity(2)*9    #membuat matriks identitas 2 x 2 dengan diagonal 9\n",
        "print(n_36)"
      ],
      "metadata": {
        "colab": {
          "base_uri": "https://localhost:8080/"
        },
        "id": "Nkz19qIErHC_",
        "outputId": "11966bd2-090b-4e5b-eac7-527f59fb414c"
      },
      "execution_count": 42,
      "outputs": [
        {
          "output_type": "stream",
          "name": "stdout",
          "text": [
            "[[9. 0.]\n",
            " [0. 9.]]\n"
          ]
        }
      ]
    },
    {
      "cell_type": "code",
      "source": [
        "v_36[4:-4,4:-4] = n_36    #update v yaitu baris kelima sampai 6 menjadi n\n",
        "print(n_36)"
      ],
      "metadata": {
        "id": "hgjwiEzKrdIz",
        "colab": {
          "base_uri": "https://localhost:8080/"
        },
        "outputId": "38ff59a1-6d1e-401f-a956-d4e57f21b85f"
      },
      "execution_count": 43,
      "outputs": [
        {
          "output_type": "stream",
          "name": "stdout",
          "text": [
            "[[9. 0.]\n",
            " [0. 9.]]\n"
          ]
        }
      ]
    },
    {
      "cell_type": "markdown",
      "source": [
        "# 2.20.4 Copy pada Numpy"
      ],
      "metadata": {
        "id": "QqLf_700tbN9"
      }
    },
    {
      "cell_type": "code",
      "source": [
        "# Kasus yang tidak diinginkan\n",
        "k_36 = np.array([2,3,5,7,11]) #menginisialisasi array k\n",
        "print(k_36)"
      ],
      "metadata": {
        "colab": {
          "base_uri": "https://localhost:8080/"
        },
        "id": "iyTuJpEjtgD8",
        "outputId": "d453fca9-64ce-490b-c5a1-4d86484cae23"
      },
      "execution_count": 44,
      "outputs": [
        {
          "output_type": "stream",
          "name": "stdout",
          "text": [
            "[ 2  3  5  7 11]\n"
          ]
        }
      ]
    },
    {
      "cell_type": "code",
      "source": [
        "l_36 = k_36       #array l sama dengan k\n",
        "print(l_36)"
      ],
      "metadata": {
        "colab": {
          "base_uri": "https://localhost:8080/"
        },
        "id": "rTJUeYc1uW1V",
        "outputId": "6bf8df6d-405b-404e-b1db-23c20b15073f"
      },
      "execution_count": 45,
      "outputs": [
        {
          "output_type": "stream",
          "name": "stdout",
          "text": [
            "[ 2  3  5  7 11]\n"
          ]
        }
      ]
    },
    {
      "cell_type": "code",
      "source": [
        "l_36[0] = 16     #mengubah array l dengan indeks 0 menjadi 16\n",
        "print(l_36)"
      ],
      "metadata": {
        "colab": {
          "base_uri": "https://localhost:8080/"
        },
        "id": "QyAyd3EhuhwR",
        "outputId": "6c8bc13b-1509-4618-a706-a4f5bf76b318"
      },
      "execution_count": 46,
      "outputs": [
        {
          "output_type": "stream",
          "name": "stdout",
          "text": [
            "[16  3  5  7 11]\n"
          ]
        }
      ]
    },
    {
      "cell_type": "code",
      "source": [
        "print(k_36)     #karena k = l, maka output yang tercetak akan sama"
      ],
      "metadata": {
        "colab": {
          "base_uri": "https://localhost:8080/"
        },
        "id": "VF6S2-s6uvLm",
        "outputId": "f3172e1c-804c-4269-96a1-9480839cc345"
      },
      "execution_count": 47,
      "outputs": [
        {
          "output_type": "stream",
          "name": "stdout",
          "text": [
            "[16  3  5  7 11]\n"
          ]
        }
      ]
    },
    {
      "cell_type": "code",
      "source": [
        "m_36 = np.array([2,3,5,7,11])  #menginisialisasi array dengan m\n",
        "print(m_36)"
      ],
      "metadata": {
        "colab": {
          "base_uri": "https://localhost:8080/"
        },
        "id": "-fcMXu6Wu52g",
        "outputId": "7b7ef7f6-63d3-49c8-a3f3-f3b4fe3f9613"
      },
      "execution_count": 48,
      "outputs": [
        {
          "output_type": "stream",
          "name": "stdout",
          "text": [
            "[ 2  3  5  7 11]\n"
          ]
        }
      ]
    },
    {
      "cell_type": "code",
      "source": [
        "n_36 = m_36.copy()      #mengcopy array m ke n\n",
        "print(n_36)"
      ],
      "metadata": {
        "colab": {
          "base_uri": "https://localhost:8080/"
        },
        "id": "oKRwuyBnvKKC",
        "outputId": "00801269-22f6-467f-e835-273476f28eeb"
      },
      "execution_count": 49,
      "outputs": [
        {
          "output_type": "stream",
          "name": "stdout",
          "text": [
            "[ 2  3  5  7 11]\n"
          ]
        }
      ]
    },
    {
      "cell_type": "code",
      "source": [
        "n_36[0] = 16            #mengubah array n dengan indeks 0 menjadi 16\n",
        "print(n_36)"
      ],
      "metadata": {
        "colab": {
          "base_uri": "https://localhost:8080/"
        },
        "id": "6RaUw5c0vh3r",
        "outputId": "e71f6de1-5768-43d4-b8a2-cc165abf28cc"
      },
      "execution_count": 50,
      "outputs": [
        {
          "output_type": "stream",
          "name": "stdout",
          "text": [
            "[16  3  5  7 11]\n"
          ]
        }
      ]
    },
    {
      "cell_type": "code",
      "source": [
        "print(m_36)            #karena array m dicopy ke n, maka elemen pada array m tidak ikut berubah"
      ],
      "metadata": {
        "colab": {
          "base_uri": "https://localhost:8080/"
        },
        "id": "F_kJbTwEv7Df",
        "outputId": "1a972d92-940c-4bf5-a07b-39f7a34d3861"
      },
      "execution_count": 51,
      "outputs": [
        {
          "output_type": "stream",
          "name": "stdout",
          "text": [
            "[ 2  3  5  7 11]\n"
          ]
        }
      ]
    },
    {
      "cell_type": "code",
      "source": [
        "# Kasus yang tidak diinginkan\n",
        "x_36 = np.array([11,12,13,14,15])\n",
        "print(x_36)\n",
        "\n",
        "y_36 = x_36\n",
        "print(y_36)\n",
        "\n",
        "y_36[0] = 8\n",
        "print(y_36)\n",
        "\n",
        "print (x_36)"
      ],
      "metadata": {
        "colab": {
          "base_uri": "https://localhost:8080/"
        },
        "id": "nTSdHWBuwCP0",
        "outputId": "99b923cc-0e54-4d7d-ad9f-eee25042ec48"
      },
      "execution_count": 52,
      "outputs": [
        {
          "output_type": "stream",
          "name": "stdout",
          "text": [
            "[11 12 13 14 15]\n",
            "[11 12 13 14 15]\n",
            "[ 8 12 13 14 15]\n",
            "[ 8 12 13 14 15]\n"
          ]
        }
      ]
    },
    {
      "cell_type": "code",
      "source": [
        "z_36 = np.array([11,12,13,14,15])\n",
        "print(z_36)\n",
        "\n",
        "a_36 = z_36.copy()\n",
        "print(a_36)\n",
        "\n",
        "a_36[0] = 8\n",
        "print(a_36)\n",
        "\n",
        "print(z_36)"
      ],
      "metadata": {
        "colab": {
          "base_uri": "https://localhost:8080/"
        },
        "id": "covllpb-yka7",
        "outputId": "4bc5ef14-5644-44c7-b325-3d2149b2c67c"
      },
      "execution_count": 53,
      "outputs": [
        {
          "output_type": "stream",
          "name": "stdout",
          "text": [
            "[11 12 13 14 15]\n",
            "[11 12 13 14 15]\n",
            "[ 8 12 13 14 15]\n",
            "[11 12 13 14 15]\n"
          ]
        }
      ]
    },
    {
      "cell_type": "markdown",
      "source": [
        "## 2.20.5 Operasi Matematika pada numpy"
      ],
      "metadata": {
        "id": "l9ZCXNG_zqTj"
      }
    },
    {
      "cell_type": "code",
      "source": [
        "#operasi skalar dengan matriks\n",
        "print('Ini adalah matriks yang akan dioperasikan :')\n",
        "f_36 = np.array([1,2,3,4,5])      #menginisialisasi array f\n",
        "print(f_36)\n",
        "g_36 = np.array([6,7,8,9,10])     #menginisialisasi array g\n",
        "print(g_36)\n",
        "\n",
        "print('Berikut ini hasil dari penjumlahan matriks f dan g: ')\n",
        "print(f_36+g_36)\n",
        "\n",
        "print('Berikut ini hasil dari pengurangan matriks f dan g: ')\n",
        "print(f_36-g_36)\n",
        "\n",
        "print('Berikut ini hasil dari perkalian matriks f dan g: ')\n",
        "print(f_36*g_36)\n",
        "\n",
        "print('Berikut ini hasil dari pembagian matriks f dan g: ')\n",
        "print(f_36/g_36)\n",
        "\n",
        "print('Berikut ini hasil dari matriks g dipangkatkan f: ')\n",
        "print(g_36**f_36)"
      ],
      "metadata": {
        "colab": {
          "base_uri": "https://localhost:8080/"
        },
        "id": "UCSte5-VzaqG",
        "outputId": "ca960e2c-d9c2-4894-e60c-a6043a7ed56b"
      },
      "execution_count": 54,
      "outputs": [
        {
          "output_type": "stream",
          "name": "stdout",
          "text": [
            "Ini adalah matriks yang akan dioperasikan :\n",
            "[1 2 3 4 5]\n",
            "[ 6  7  8  9 10]\n",
            "Berikut ini hasil dari penjumlahan matriks f dan g: \n",
            "[ 7  9 11 13 15]\n",
            "Berikut ini hasil dari pengurangan matriks f dan g: \n",
            "[-5 -5 -5 -5 -5]\n",
            "Berikut ini hasil dari perkalian matriks f dan g: \n",
            "[ 6 14 24 36 50]\n",
            "Berikut ini hasil dari pembagian matriks f dan g: \n",
            "[0.16666667 0.28571429 0.375      0.44444444 0.5       ]\n",
            "Berikut ini hasil dari matriks g dipangkatkan f: \n",
            "[     6     49    512   6561 100000]\n"
          ]
        }
      ]
    },
    {
      "cell_type": "code",
      "source": [
        "print('===Selamat datang di operasi skalar matriks===')\n",
        "print('Ini adalah matriks yang akan dioperasikan :')\n",
        "i_36 = np.array([1,1,2,3,5])      #menginisialisasi array i\n",
        "print(i_36)\n",
        "j_36 = np.array([8,13,21,34,55])     #menginisialisasi array j\n",
        "print(j_36)\n",
        "\n",
        "print('Berikut ini hasil dari penjumlahan matriks i dan j: ')\n",
        "print(i_36+j_36)\n",
        "\n",
        "print('Berikut ini hasil dari pengurangan matriks i dan j: ')\n",
        "print(i_36-j_36)\n",
        "\n",
        "print('Berikut ini hasil dari perkalian matriks i dan j: ')\n",
        "print(i_36*j_36)\n",
        "\n",
        "print('Berikut ini hasil dari pembagian matriks i dan j: ')\n",
        "print(i_36/j_36)\n",
        "\n",
        "print('Berikut ini hasil dari matriks i dipangkatkan j: ')\n",
        "print(i_36**j_36)\n",
        "print('===Terima kasih===')"
      ],
      "metadata": {
        "colab": {
          "base_uri": "https://localhost:8080/"
        },
        "id": "bEyg26idqmTi",
        "outputId": "b058311d-46e0-4d7c-8a26-34771438f79d"
      },
      "execution_count": 55,
      "outputs": [
        {
          "output_type": "stream",
          "name": "stdout",
          "text": [
            "===Selamat datang di operasi skalar matriks===\n",
            "Ini adalah matriks yang akan dioperasikan :\n",
            "[1 1 2 3 5]\n",
            "[ 8 13 21 34 55]\n",
            "Berikut ini hasil dari penjumlahan matriks i dan j: \n",
            "[ 9 14 23 37 60]\n",
            "Berikut ini hasil dari pengurangan matriks i dan j: \n",
            "[ -7 -12 -19 -31 -50]\n",
            "Berikut ini hasil dari perkalian matriks i dan j: \n",
            "[  8  13  42 102 275]\n",
            "Berikut ini hasil dari pembagian matriks i dan j: \n",
            "[0.125      0.07692308 0.0952381  0.08823529 0.09090909]\n",
            "Berikut ini hasil dari matriks i dipangkatkan j: \n",
            "[                1                 1           2097152 16677181699666569\n",
            " -3178808521666707]\n",
            "===Terima kasih===\n"
          ]
        }
      ]
    },
    {
      "cell_type": "code",
      "source": [
        "print('Ini adalah matriks yang akan dioperasikan :')\n",
        "a_36 = np.array([6,7,8,9,10])       #menginisialisasi array a\n",
        "print(a_36)\n",
        "\n",
        "\n",
        "print('Berikut ini hasil dari penjumlahan matriks a ditambah 2: ')\n",
        "print(a_36+2)\n",
        "\n",
        "print('Berikut ini hasil dari pengurangan matriks a dikurang 2: ')\n",
        "print(a_36-2)\n",
        "\n",
        "print('Berikut ini hasil dari perkalian matriks a dikali 2: ')\n",
        "print(a_36*2)\n",
        "\n",
        "print('Berikut ini hasil dari pembagian matriks a dibagi 2: ')\n",
        "print(a_36/2)\n",
        "\n",
        "print('Berikut ini hasil dari matriks a dipangkatkan 2: ')\n",
        "print(a_36**2)"
      ],
      "metadata": {
        "colab": {
          "base_uri": "https://localhost:8080/"
        },
        "id": "Mo2VbuTa2Qhb",
        "outputId": "69b69ae9-ee4b-4e77-ed3a-57b4331c25ff"
      },
      "execution_count": 56,
      "outputs": [
        {
          "output_type": "stream",
          "name": "stdout",
          "text": [
            "Ini adalah matriks yang akan dioperasikan :\n",
            "[ 6  7  8  9 10]\n",
            "Berikut ini hasil dari penjumlahan matriks a ditambah 2: \n",
            "[ 8  9 10 11 12]\n",
            "Berikut ini hasil dari pengurangan matriks a dikurang 2: \n",
            "[4 5 6 7 8]\n",
            "Berikut ini hasil dari perkalian matriks a dikali 2: \n",
            "[12 14 16 18 20]\n",
            "Berikut ini hasil dari pembagian matriks a dibagi 2: \n",
            "[3.  3.5 4.  4.5 5. ]\n",
            "Berikut ini hasil dari matriks a dipangkatkan 2: \n",
            "[ 36  49  64  81 100]\n"
          ]
        }
      ]
    },
    {
      "cell_type": "code",
      "source": [
        "print('Ini adalah matriks yang akan dioperasikan :')\n",
        "d_36 = np.array([12,14,16,18,20,22,24,26,28])       #menginisialisasi array d\n",
        "print(d_36)\n",
        "\n",
        "\n",
        "print('Berikut ini hasil dari penjumlahan matriks d ditambah 2: ')\n",
        "print(d_36+2)\n",
        "\n",
        "print('Berikut ini hasil dari pengurangan matriks d dikurang 2: ')\n",
        "print(d_36-2)\n",
        "\n",
        "print('Berikut ini hasil dari perkalian matriks d dikali 2: ')\n",
        "print(d_36*2)\n",
        "\n",
        "print('Berikut ini hasil dari pembagian matriks d dibagi 2: ')\n",
        "print(d_36/2)\n",
        "\n",
        "print('Berikut ini hasil dari matriks d dipangkatkan 2: ')\n",
        "print(d_36**2)"
      ],
      "metadata": {
        "colab": {
          "base_uri": "https://localhost:8080/"
        },
        "id": "Fa3EttnQ34CV",
        "outputId": "08fe62b3-b193-4094-ce09-74e30b0efdcb"
      },
      "execution_count": 57,
      "outputs": [
        {
          "output_type": "stream",
          "name": "stdout",
          "text": [
            "Ini adalah matriks yang akan dioperasikan :\n",
            "[12 14 16 18 20 22 24 26 28]\n",
            "Berikut ini hasil dari penjumlahan matriks d ditambah 2: \n",
            "[14 16 18 20 22 24 26 28 30]\n",
            "Berikut ini hasil dari pengurangan matriks d dikurang 2: \n",
            "[10 12 14 16 18 20 22 24 26]\n",
            "Berikut ini hasil dari perkalian matriks d dikali 2: \n",
            "[24 28 32 36 40 44 48 52 56]\n",
            "Berikut ini hasil dari pembagian matriks d dibagi 2: \n",
            "[ 6.  7.  8.  9. 10. 11. 12. 13. 14.]\n",
            "Berikut ini hasil dari matriks d dipangkatkan 2: \n",
            "[144 196 256 324 400 484 576 676 784]\n"
          ]
        }
      ]
    },
    {
      "cell_type": "code",
      "source": [
        "# Fungsi Trigonometri pada Numpy\n",
        "#Numpy menyediakan fungsi sin(), cos() dan tan() yang mengambil nilai dalam radian dan menghasilkan nilai sin, cos, dan tan yang seharusnya.\n",
        "\n",
        "#a. np.cos(a)   => untuk mencari nilai cos masing-masing elemen pada a\n",
        "#b. np.sin(a)   => untuk mencari nilai sin masing-masing elemen pada a\n",
        "#c. np.tan(a)   => untuk mencari nilai tan masing-masing elemen pada a\n",
        "#d. np.sinh(a)  => untuk mencari nilai invers/hiperbolik sin masing-masing elemen pada a\n",
        "#e. np.cosh(a)  => untuk mencari nilai invers/hiperbolik cos masing-masing elemen pada a\n",
        "#f. np.tanh(a)  => untuk mencari nilai invers/hiperbolik tan masing-masing elemen pada a\n",
        "#g. np.sqrt(a)  => untuk mencari nilai akar kuadrat masing-masing elemen pada a\n",
        "\n",
        "#Contoh 1 menemukan nilai sinus pi/2\n",
        "o_36 = np.sin(np.pi/2)\n",
        "print(o_36)\n",
        "print('-----------------------------------------------------------')\n",
        "#Contoh 2 menemukan nilai sinus untuk semua nilai di dataSudut\n",
        "dataSudut_36 = np.array([np.pi/2, np.pi/3, np.pi/4, np.pi/5])\n",
        "p_36 = np.sin(dataSudut_36)\n",
        "print(p_36)\n",
        "print('-----------------------------------------------------------')\n",
        "#Contoh 3 mengubah semua nilai dalam array berikut menjadi radian\n",
        "sudutDerajat_36 = np.array([90, 180, 270, 360])\n",
        "q_36 = np.deg2rad(sudutDerajat_36)\n",
        "print(q_36)\n",
        "print('-----------------------------------------------------------')\n",
        "#Contoh 4 mengubah semua nilai dalam array berikut menjadi derajat\n",
        "sudutRadian_36 = np.array([np.pi/2, np.pi, 1.5*np.pi, 2*np.pi])\n",
        "r_36 = np.rad2deg(sudutRadian_36)\n",
        "print(r_36)"
      ],
      "metadata": {
        "colab": {
          "base_uri": "https://localhost:8080/"
        },
        "id": "SldOlJHy4qQ8",
        "outputId": "b2e939ba-6b09-4186-e5f0-7e0ed85c31d0"
      },
      "execution_count": 58,
      "outputs": [
        {
          "output_type": "stream",
          "name": "stdout",
          "text": [
            "1.0\n",
            "-----------------------------------------------------------\n",
            "[1.         0.8660254  0.70710678 0.58778525]\n",
            "-----------------------------------------------------------\n",
            "[1.57079633 3.14159265 4.71238898 6.28318531]\n",
            "-----------------------------------------------------------\n",
            "[ 90. 180. 270. 360.]\n"
          ]
        }
      ]
    },
    {
      "cell_type": "markdown",
      "source": [
        "## 2.20.6 Perkalian Matrik pada Numpy\n",
        "Pada contoh sebelumnya, perkalian matriks dilakukan dengan mengoperasikan elemen yang baris dan kolomnya sama. Hal ini tentunya akan memberikan hasil berbeda jika yang kita kehendaki adalah perkalian dua matriks. Perkalian matrik pada Numpy dapat menggunakan perintah matmul. Perlu dijadikan perhatian tentang ukuran matrik yang akan dikalikan harus sesuai dengan persyaratan. Misalnya matrik ukuran (1x2) dapat dikalikan dengan matrik ukuran (2x3)"
      ],
      "metadata": {
        "id": "RT47kd0z7jl5"
      }
    },
    {
      "cell_type": "code",
      "source": [
        "print('Ini adalah matriks yang akan dioperasikan :')\n",
        "print('b')\n",
        "b_36 = np.array([[8,9,10,11],[12,13,14,15]])           #menginisialisasi array b => 2 x 4\n",
        "print(b_36)\n",
        "print('-------------------------------------------------')\n",
        "print('c')\n",
        "c_36 = np.array([[16,17,18,19],[20,21,22,23]])         #menginisialisasi array c => 2 x 4\n",
        "print(c_36)\n",
        "print('-------------------------------------------------')\n",
        "\n",
        "#perkalian matriks b dan c tidak sesuai kaidah, karena memiliki ukuran yang tidak sesuai, output yang dihasilkan tentu tidak sesuai juga\n",
        "print('Berikut ini hasil operasi perkalian matriks b dan c :')\n",
        "d_36 = b_36*c_36\n",
        "print(d_36)        #namun, output yang dihasilkan tidak sesuai dengan kaidah perkalian 2 matriks\n",
        "#output yang dikasilkan seperti perkalian skalar karena kedua matriks memiliki ukuran yang sama\n",
        "\n",
        "#kita coba gunakan matmul\n",
        "# e_36 = np.matmul(b_36,c_36)\n",
        "# print(t_36)\n",
        "\n",
        "#outputnya yaitu\n",
        "#  ValueError: matmul: Input operand 1 has a mismatch in its core dimension 0,\n",
        "  # with gufunc signature (n?,k),(k,m?)->(n?,m?) (size 2 is different from 4)"
      ],
      "metadata": {
        "colab": {
          "base_uri": "https://localhost:8080/"
        },
        "id": "RWj4kZQ07Bke",
        "outputId": "17fa3cff-5df3-4138-c7d3-86910b7f1222"
      },
      "execution_count": 59,
      "outputs": [
        {
          "output_type": "stream",
          "name": "stdout",
          "text": [
            "Ini adalah matriks yang akan dioperasikan :\n",
            "b\n",
            "[[ 8  9 10 11]\n",
            " [12 13 14 15]]\n",
            "-------------------------------------------------\n",
            "c\n",
            "[[16 17 18 19]\n",
            " [20 21 22 23]]\n",
            "-------------------------------------------------\n",
            "Berikut ini hasil operasi perkalian matriks b dan c :\n",
            "[[128 153 180 209]\n",
            " [240 273 308 345]]\n"
          ]
        }
      ]
    },
    {
      "cell_type": "code",
      "source": [
        "#Contoh yang benar sesuai kaidah\n",
        "print('Berikut adalah matriks yang akan dioperasikan :')\n",
        "print('b')\n",
        "b_36 = np.array([[8,9,10,11],[12,13,14,15]])          #menginisialisasi array b => 2 x 4\n",
        "print(b_36)\n",
        "print('-------------------------------------------------')\n",
        "print('c')\n",
        "e_36 = np.array([[16,17],[18,19],[20,21],[22,23]])    #menginisialisasi array e => 4 x 2\n",
        "print(e_36)\n",
        "print('-------------------------------------------------')\n",
        "print('Berikut hasil operasi perkalian matriks b dan e :')\n",
        "f_36 = np.matmul(b_36,e_36)\n",
        "print(f_36)\n",
        "\n",
        "# g_36 = a_36*e_36\n",
        "# print(g_36)\n",
        "#output error karena kedua matriks memiliki ukuran yang berbeda, sehingga perkalian skalar tidak terjadi"
      ],
      "metadata": {
        "colab": {
          "base_uri": "https://localhost:8080/"
        },
        "id": "976isx4x9pd4",
        "outputId": "9364316c-9793-4c8d-cd26-ee9e51d49b96"
      },
      "execution_count": 60,
      "outputs": [
        {
          "output_type": "stream",
          "name": "stdout",
          "text": [
            "Berikut adalah matriks yang akan dioperasikan :\n",
            "b\n",
            "[[ 8  9 10 11]\n",
            " [12 13 14 15]]\n",
            "-------------------------------------------------\n",
            "c\n",
            "[[16 17]\n",
            " [18 19]\n",
            " [20 21]\n",
            " [22 23]]\n",
            "-------------------------------------------------\n",
            "Berikut hasil operasi perkalian matriks b dan e :\n",
            "[[ 732  770]\n",
            " [1036 1090]]\n"
          ]
        }
      ]
    },
    {
      "cell_type": "markdown",
      "source": [
        "# 2.20.7 min,max dan sum pada Numpy"
      ],
      "metadata": {
        "id": "zVMRp927A6tE"
      }
    },
    {
      "cell_type": "code",
      "source": [
        "#menginisialisasi array\n",
        "print('Berikut adalah matriks c :')\n",
        "c_36 = np.array([[1,3,5,7],\n",
        "            [9,11,13,15],\n",
        "            [17,19,21,23]])\n",
        "print (c_36)\n",
        "\n",
        "print('Berikut adalah nilai minimum elemen pada matriks c :')\n",
        "d_36 = np.min(c_36)\n",
        "print(d_36)\n",
        "\n",
        "print('Berikut adalah nilai minimum elemen baris pada masing-masing baris matriks c :')\n",
        "e_36 = np.min(c_36, axis=1)\n",
        "print(e_36)\n",
        "\n",
        "print('Berikut adalah nilai minimum elemen kolom pada masing-masing baris matriks c :')\n",
        "f_36 = np.min(c_36, axis=0)\n",
        "print(f_36)\n",
        "\n",
        "print('Berikut adalah nilai maksimum elemen pada matriks c :')\n",
        "g_36 = np.max(c_36)\n",
        "print(g_36)\n",
        "\n",
        "print('Berikut adalah nilai maksimum elemen baris pada masing-masing baris matriks c :')\n",
        "h_36 = np.max(c_36, axis=1)\n",
        "print(h_36)\n",
        "\n",
        "print('Berikut adalah nilai maksimum elemen kolom pada masing-masing baris matriks c :')\n",
        "i_36 = np.max(c_36, axis=0)\n",
        "print(i_36)\n",
        "\n",
        "print('Berikut adalah jumlah nilai semua elemen pada matriks c :')\n",
        "j_36 = np.sum(c_36)\n",
        "print(j_36)\n",
        "\n",
        "print('Berikut adalah jumlah nilai elemen pada masing-masing kolom matriks c :')\n",
        "j_36=np.sum(c_36,axis=0)\n",
        "print(j_36)\n",
        "\n",
        "print('Berikut adalah jumlah nilai elemen pada masing-masing baris matriks c :')\n",
        "k_36 = np.sum(c_36,axis=1)\n",
        "print(k_36)"
      ],
      "metadata": {
        "colab": {
          "base_uri": "https://localhost:8080/"
        },
        "id": "EfPdkGe7_EI0",
        "outputId": "ff6bf2ee-eec9-4fec-e3a9-d3c221245e99"
      },
      "execution_count": 61,
      "outputs": [
        {
          "output_type": "stream",
          "name": "stdout",
          "text": [
            "Berikut adalah matriks c :\n",
            "[[ 1  3  5  7]\n",
            " [ 9 11 13 15]\n",
            " [17 19 21 23]]\n",
            "Berikut adalah nilai minimum elemen pada matriks c :\n",
            "1\n",
            "Berikut adalah nilai minimum elemen baris pada masing-masing baris matriks c :\n",
            "[ 1  9 17]\n",
            "Berikut adalah nilai minimum elemen kolom pada masing-masing baris matriks c :\n",
            "[1 3 5 7]\n",
            "Berikut adalah nilai maksimum elemen pada matriks c :\n",
            "23\n",
            "Berikut adalah nilai maksimum elemen baris pada masing-masing baris matriks c :\n",
            "[ 7 15 23]\n",
            "Berikut adalah nilai maksimum elemen kolom pada masing-masing baris matriks c :\n",
            "[17 19 21 23]\n",
            "Berikut adalah jumlah nilai semua elemen pada matriks c :\n",
            "144\n",
            "Berikut adalah jumlah nilai elemen pada masing-masing kolom matriks c :\n",
            "[27 33 39 45]\n",
            "Berikut adalah jumlah nilai elemen pada masing-masing baris matriks c :\n",
            "[16 48 80]\n"
          ]
        }
      ]
    },
    {
      "cell_type": "code",
      "source": [
        "print('Berikut adalah matriks m :')\n",
        "m_36 = np.array([[12,14,16,18],\n",
        "            [20,22,24,26],\n",
        "            [28,30,32,34]])\n",
        "print (m_36)\n",
        "\n",
        "print('Berikut adalah nilai minimum elemen pada matriks m :')\n",
        "n_36 = np.min(m_36)\n",
        "print(n_36)\n",
        "\n",
        "print('Berikut adalah nilai minimum elemen baris pada masing-masing baris matriks m :')\n",
        "o_36 = np.min(m_36, axis=1)\n",
        "print(o_36)\n",
        "\n",
        "print('Berikut adalah nilai minimum elemen kolom pada masing-masing baris matriks m :')\n",
        "p_36 = np.min(m_36, axis=0)\n",
        "print(p_36)\n",
        "\n",
        "print('Berikut adalah nilai maksimum elemen pada matriks m :')\n",
        "q_36 = np.max(m_36)\n",
        "print(q_36)\n",
        "\n",
        "print('Berikut adalah nilai maksimum elemen baris pada masing-masing baris matriks m :')\n",
        "r_36 = np.max(m_36, axis=1)\n",
        "print(r_36)\n",
        "\n",
        "print('Berikut adalah nilai maksimum elemen kolom pada masing-masing baris matriks m :')\n",
        "s_36 = np.max(m_36, axis=0)\n",
        "print(s_36)\n",
        "\n",
        "print('Berikut adalah jumlah nilai semua elemen pada matriks m :')\n",
        "t_36 = np.sum(m_36)\n",
        "print(t_36)\n",
        "\n",
        "print('Berikut adalah jumlah nilai elemen pada masing-masing kolom matriks m :')\n",
        "t_36=np.sum(m_36,axis=0)\n",
        "print(t_36)\n",
        "\n",
        "print('Berikut adalah jumlah nilai elemen pada masing-masing baris matriks m :')\n",
        "u_36 = np.sum(m_36,axis=1)\n",
        "print(u_36)"
      ],
      "metadata": {
        "id": "2_Gn2c1sEGHT",
        "colab": {
          "base_uri": "https://localhost:8080/"
        },
        "outputId": "23703ac1-1ce6-46bd-ad55-2e25b6263db0"
      },
      "execution_count": 62,
      "outputs": [
        {
          "output_type": "stream",
          "name": "stdout",
          "text": [
            "Berikut adalah matriks m :\n",
            "[[12 14 16 18]\n",
            " [20 22 24 26]\n",
            " [28 30 32 34]]\n",
            "Berikut adalah nilai minimum elemen pada matriks m :\n",
            "12\n",
            "Berikut adalah nilai minimum elemen baris pada masing-masing baris matriks m :\n",
            "[12 20 28]\n",
            "Berikut adalah nilai minimum elemen kolom pada masing-masing baris matriks m :\n",
            "[12 14 16 18]\n",
            "Berikut adalah nilai maksimum elemen pada matriks m :\n",
            "34\n",
            "Berikut adalah nilai maksimum elemen baris pada masing-masing baris matriks m :\n",
            "[18 26 34]\n",
            "Berikut adalah nilai maksimum elemen kolom pada masing-masing baris matriks m :\n",
            "[28 30 32 34]\n",
            "Berikut adalah jumlah nilai semua elemen pada matriks m :\n",
            "276\n",
            "Berikut adalah jumlah nilai elemen pada masing-masing kolom matriks m :\n",
            "[60 66 72 78]\n",
            "Berikut adalah jumlah nilai elemen pada masing-masing baris matriks m :\n",
            "[ 60  92 124]\n"
          ]
        }
      ]
    }
  ]
}