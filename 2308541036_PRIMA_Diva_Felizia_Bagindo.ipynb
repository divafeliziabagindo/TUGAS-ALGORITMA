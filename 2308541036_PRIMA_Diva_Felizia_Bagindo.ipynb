{
  "nbformat": 4,
  "nbformat_minor": 0,
  "metadata": {
    "colab": {
      "provenance": []
    },
    "kernelspec": {
      "name": "python3",
      "display_name": "Python 3"
    },
    "language_info": {
      "name": "python"
    }
  },
  "cells": [
    {
      "cell_type": "markdown",
      "source": [
        "Soal Tentang Bilangan Prima"
      ],
      "metadata": {
        "id": "cEU59gEIxR8H"
      }
    },
    {
      "cell_type": "code",
      "source": [
        "print(\"=====Selamat datang di program Diva! Program ini untuk menentukan semua bilangan prima yang ada dalam rentang soal!=====\")\n",
        "print(\"Jika diketahui bahwa n adalah 36, maka tentukan bilangan prima antara 1000n dan 1000(n+1)!\")\n",
        "\n",
        "# Loop untuk Meminta Input Pengguna\n",
        "cek_prima_36 = True # Mendefinisikan variabel cek_prima_36 sebagai True untuk mengontrol loop\n",
        "while cek_prima_36:\n",
        "    n_36 = int(input(\"Yuk masukkan nilai n nya: \")) # Memasukkan nilai n sesuai perintah, Jika pengguna memasukkan nilai n selain 36, maka pesan kesalahan dicetak dan loop meminta input lagi.\n",
        "    if n_36 == 36:\n",
        "        cek_prima_36 = False\n",
        "        mulai_36 = 1000 * n_36\n",
        "        selesai_36 = 1000 * (n_36 + 1)\n",
        "\n",
        "        # Memeriksa apakah sebuah angka adalah bilangan prima\n",
        "        def adalah_prima_36(bilangan_36):\n",
        "            if bilangan_36 <= 1: # Bilangan yang kurang dari atau sama dengan 1 bukan prima, karena bilangan prima harus lebih besar dari 1\n",
        "                return False\n",
        "            for d_36 in range(2, int(bilangan_36 ** 0.5) + 1):  #Jika terdapat sebuah bilangan yang habis dibagi antara 2 sampai akar dari input suatu bilangan, maka bilangan tsb bukan bilangan prima\n",
        "                if bilangan_36 % d_36 == 0:\n",
        "                    return False\n",
        "            return True\n",
        "\n",
        "        # Menemukan semua bilangan prima dalam rentang yang diberikan\n",
        "        def temukan_prima_dalam_range_36(mulai_36, selesai_36):\n",
        "            prima_list_36 = []\n",
        "            for bilangan_36 in range(mulai_36, selesai_36):\n",
        "                if adalah_prima_36(bilangan_36):\n",
        "                    prima_list_36.append(bilangan_36)\n",
        "            return prima_list_36\n",
        "\n",
        "        # Menemukan bilangan prima dalam kisaran tersebut\n",
        "        daftar_prima_36 = temukan_prima_dalam_range_36(mulai_36, selesai_36)\n",
        "\n",
        "        # Cetak bilangan prima yang ditemukan\n",
        "        print(f\"Bilangan prima di antara {mulai_36} dan {selesai_36}:\")\n",
        "        print(daftar_prima_36)\n",
        "\n",
        "        # Cetak jumlah bilangan prima yang ditemukan\n",
        "        print(f\"Jumlah bilangan prima di antara {mulai_36} dan {selesai_36} adalah sebanyak {len(daftar_prima_36)} loh!\")\n",
        "\n",
        "    else: # Jika pengguna memasukkan nilai n selain 36, maka pesan kesalahan dicetak dan loop meminta input lagi.\n",
        "        print(\"Maaf dua digit terakhir dari NIM yang kamu masukkan salah!!!\")\n",
        "        print(\"Dua digit terakhir NIM Diva adalah 36, silahkan input kembali ya!\")\n",
        "        print(\" \")\n",
        "print(\"==================================================================TERIMA KASIH!==================================================================\")"
      ],
      "metadata": {
        "colab": {
          "base_uri": "https://localhost:8080/"
        },
        "id": "3gBO7NV_cVka",
        "outputId": "bf74c9e8-fa49-4ea8-98dc-d99700fb2aac"
      },
      "execution_count": 3,
      "outputs": [
        {
          "output_type": "stream",
          "name": "stdout",
          "text": [
            "=====Selamat datang di program Diva! Program ini untuk menentukan semua bilangan prima yang ada dalam rentang soal!=====\n",
            "Jika diketahui bahwa n adalah 36, maka tentukan bilangan prima antara 1000n dan 1000(n+1)!\n",
            "Yuk masukkan nilai n nya: 36\n",
            "Bilangan prima di antara 36000 dan 37000:\n",
            "[36007, 36011, 36013, 36017, 36037, 36061, 36067, 36073, 36083, 36097, 36107, 36109, 36131, 36137, 36151, 36161, 36187, 36191, 36209, 36217, 36229, 36241, 36251, 36263, 36269, 36277, 36293, 36299, 36307, 36313, 36319, 36341, 36343, 36353, 36373, 36383, 36389, 36433, 36451, 36457, 36467, 36469, 36473, 36479, 36493, 36497, 36523, 36527, 36529, 36541, 36551, 36559, 36563, 36571, 36583, 36587, 36599, 36607, 36629, 36637, 36643, 36653, 36671, 36677, 36683, 36691, 36697, 36709, 36713, 36721, 36739, 36749, 36761, 36767, 36779, 36781, 36787, 36791, 36793, 36809, 36821, 36833, 36847, 36857, 36871, 36877, 36887, 36899, 36901, 36913, 36919, 36923, 36929, 36931, 36943, 36947, 36973, 36979, 36997]\n",
            "Jumlah bilangan prima di antara 36000 dan 37000 adalah sebanyak 99 loh!\n",
            "==================================================================TERIMA KASIH!==================================================================\n"
          ]
        }
      ]
    }
  ]
}