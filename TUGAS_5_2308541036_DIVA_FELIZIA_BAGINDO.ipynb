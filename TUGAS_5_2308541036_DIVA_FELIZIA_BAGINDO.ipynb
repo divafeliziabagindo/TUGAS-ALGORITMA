{
  "nbformat": 4,
  "nbformat_minor": 0,
  "metadata": {
    "colab": {
      "provenance": []
    },
    "kernelspec": {
      "name": "python3",
      "display_name": "Python 3"
    },
    "language_info": {
      "name": "python"
    }
  },
  "cells": [
    {
      "cell_type": "markdown",
      "source": [
        "# 2.15 Fungsi Range\n",
        "Fungsi range digunakan untuk membangkitkan bilangan berurutan atau berpola seperti yang kita inginkan."
      ],
      "metadata": {
        "id": "OyRkBJYhXvw1"
      }
    },
    {
      "cell_type": "markdown",
      "source": [
        "Contoh 1."
      ],
      "metadata": {
        "id": "PG7top0o16zn"
      }
    },
    {
      "cell_type": "code",
      "execution_count": 1,
      "metadata": {
        "colab": {
          "base_uri": "https://localhost:8080/"
        },
        "id": "kESOf4tNOFNl",
        "outputId": "e0e0ecc9-3d03-4c34-ba85-360b00874cd3"
      },
      "outputs": [
        {
          "output_type": "stream",
          "name": "stdout",
          "text": [
            "range(0, 10)\n"
          ]
        }
      ],
      "source": [
        "\n",
        "bilangan_36 = range(10)\n",
        "print(bilangan_36)"
      ]
    },
    {
      "cell_type": "code",
      "source": [
        "for isi in bilangan_36:\n",
        "  print(isi)"
      ],
      "metadata": {
        "colab": {
          "base_uri": "https://localhost:8080/"
        },
        "id": "JLDWhozMPXTQ",
        "outputId": "a986ab4f-aa37-445a-842e-8f0348ce55a5"
      },
      "execution_count": 2,
      "outputs": [
        {
          "output_type": "stream",
          "name": "stdout",
          "text": [
            "0\n",
            "1\n",
            "2\n",
            "3\n",
            "4\n",
            "5\n",
            "6\n",
            "7\n",
            "8\n",
            "9\n"
          ]
        }
      ]
    },
    {
      "cell_type": "code",
      "source": [
        "for isi in range (9,15):\n",
        "    print(isi)\n",
        "## Menampilkan bilangan berurutan dari 9 sampai kurang dari 15 ##"
      ],
      "metadata": {
        "colab": {
          "base_uri": "https://localhost:8080/"
        },
        "id": "gXsscMwaQIAJ",
        "outputId": "f0a445ff-9620-4652-f963-a14ca3edda17"
      },
      "execution_count": 3,
      "outputs": [
        {
          "output_type": "stream",
          "name": "stdout",
          "text": [
            "9\n",
            "10\n",
            "11\n",
            "12\n",
            "13\n",
            "14\n"
          ]
        }
      ]
    },
    {
      "cell_type": "code",
      "source": [
        "for isi in range(0,10,2):\n",
        "    print(isi)\n",
        "## Menampilkan bilangan berrutan dari 0 sampai kurang dari 10 dengan loncatan 2 ##"
      ],
      "metadata": {
        "colab": {
          "base_uri": "https://localhost:8080/"
        },
        "id": "AzXk1eOQQT5B",
        "outputId": "612526f3-a8a7-46b8-a882-02ca9a9698f5"
      },
      "execution_count": 4,
      "outputs": [
        {
          "output_type": "stream",
          "name": "stdout",
          "text": [
            "0\n",
            "2\n",
            "4\n",
            "6\n",
            "8\n"
          ]
        }
      ]
    },
    {
      "cell_type": "markdown",
      "source": [
        "Contoh 2."
      ],
      "metadata": {
        "id": "EzXYEQbX2BGd"
      }
    },
    {
      "cell_type": "code",
      "source": [
        "meteran_36 = range(8)\n",
        "print(meteran_36)"
      ],
      "metadata": {
        "colab": {
          "base_uri": "https://localhost:8080/"
        },
        "id": "08ian5guQxww",
        "outputId": "2feb117d-3d10-4c8c-b69a-238a180f2cf9"
      },
      "execution_count": 5,
      "outputs": [
        {
          "output_type": "stream",
          "name": "stdout",
          "text": [
            "range(0, 8)\n"
          ]
        }
      ]
    },
    {
      "cell_type": "code",
      "source": [
        "for isi in meteran_36:\n",
        "    print(isi)"
      ],
      "metadata": {
        "colab": {
          "base_uri": "https://localhost:8080/"
        },
        "id": "7zxPfNfXR-YE",
        "outputId": "c4a66de7-dfc4-4ebf-cb4b-687fc40aecda"
      },
      "execution_count": 6,
      "outputs": [
        {
          "output_type": "stream",
          "name": "stdout",
          "text": [
            "0\n",
            "1\n",
            "2\n",
            "3\n",
            "4\n",
            "5\n",
            "6\n",
            "7\n"
          ]
        }
      ]
    },
    {
      "cell_type": "code",
      "source": [
        "for isi in range (7,20):\n",
        "    print(isi)"
      ],
      "metadata": {
        "colab": {
          "base_uri": "https://localhost:8080/"
        },
        "id": "Ib6W8KyGSwZ6",
        "outputId": "922e614d-2d03-4cc6-c044-12e3f8048120"
      },
      "execution_count": 7,
      "outputs": [
        {
          "output_type": "stream",
          "name": "stdout",
          "text": [
            "7\n",
            "8\n",
            "9\n",
            "10\n",
            "11\n",
            "12\n",
            "13\n",
            "14\n",
            "15\n",
            "16\n",
            "17\n",
            "18\n",
            "19\n"
          ]
        }
      ]
    },
    {
      "cell_type": "code",
      "source": [
        "for isi in range (1,21,3):\n",
        "    print(isi)\n",
        "print('===================')\n",
        "for isi in range (0,15,1):\n",
        "    print(isi)\n",
        "print('===================')\n",
        "for isi in range (3,15,4):\n",
        "    print(isi)\n",
        "print('===================')\n",
        "for isi in range (7,20,2):\n",
        "    print(isi)"
      ],
      "metadata": {
        "colab": {
          "base_uri": "https://localhost:8080/"
        },
        "id": "DkhZ9isbS8Hf",
        "outputId": "b5ddc5d7-15b3-4485-87b2-24f7d7dea22c"
      },
      "execution_count": 8,
      "outputs": [
        {
          "output_type": "stream",
          "name": "stdout",
          "text": [
            "1\n",
            "4\n",
            "7\n",
            "10\n",
            "13\n",
            "16\n",
            "19\n",
            "===================\n",
            "0\n",
            "1\n",
            "2\n",
            "3\n",
            "4\n",
            "5\n",
            "6\n",
            "7\n",
            "8\n",
            "9\n",
            "10\n",
            "11\n",
            "12\n",
            "13\n",
            "14\n",
            "===================\n",
            "3\n",
            "7\n",
            "11\n",
            "===================\n",
            "7\n",
            "9\n",
            "11\n",
            "13\n",
            "15\n",
            "17\n",
            "19\n"
          ]
        }
      ]
    },
    {
      "cell_type": "markdown",
      "source": [
        "Latihan mencari bilangan terbesar di dalam suatu list"
      ],
      "metadata": {
        "id": "XAxEzNa1MCQH"
      }
    },
    {
      "cell_type": "code",
      "source": [
        "angka_36 = [5,60,7,8,9,10]\n",
        "terbesar = angka_36[0]\n",
        "for i in range(len(angka_36)):\n",
        "  if angka_36[i] > terbesar:\n",
        "    terbesar = angka_36[i]\n",
        "print(terbesar)"
      ],
      "metadata": {
        "colab": {
          "base_uri": "https://localhost:8080/"
        },
        "id": "MZqJXRU-MBp2",
        "outputId": "2fc1c3be-b512-47f8-e626-5fc447b826ca"
      },
      "execution_count": 9,
      "outputs": [
        {
          "output_type": "stream",
          "name": "stdout",
          "text": [
            "60\n"
          ]
        }
      ]
    },
    {
      "cell_type": "code",
      "source": [
        "bil_genap_36 = [2,4,6,8,10,14,24,22,28,30,34,50,42,16,18]\n",
        "terbesar = bil_genap_36[0]\n",
        "for i in range(len(bil_genap_36)):\n",
        "  if bil_genap_36[i] > terbesar:\n",
        "    terbesar = bil_genap_36[i]\n",
        "print(terbesar)"
      ],
      "metadata": {
        "colab": {
          "base_uri": "https://localhost:8080/"
        },
        "id": "9xSTXqBBNEWY",
        "outputId": "402ea35f-4f0b-4809-8b85-989881416534"
      },
      "execution_count": 10,
      "outputs": [
        {
          "output_type": "stream",
          "name": "stdout",
          "text": [
            "50\n"
          ]
        }
      ]
    },
    {
      "cell_type": "markdown",
      "source": [
        "Latihan membuat anggota list menjadi unik"
      ],
      "metadata": {
        "id": "f9kJ7L5uNrxp"
      }
    },
    {
      "cell_type": "code",
      "source": [
        "angka_36 = [2,4,6,4,2,7,8,6,10,16,6,7,2,4,7,18]\n",
        "angka_unik_36 = []\n",
        "for anggota in angka_36:\n",
        "  if anggota not in angka_unik_36:\n",
        "     angka_unik_36. append (anggota)\n",
        "print (angka_unik_36)"
      ],
      "metadata": {
        "colab": {
          "base_uri": "https://localhost:8080/"
        },
        "id": "OoTm8Xu8NyD-",
        "outputId": "ccc3fdcf-f3ac-4420-bc44-73db4ac24405"
      },
      "execution_count": 11,
      "outputs": [
        {
          "output_type": "stream",
          "name": "stdout",
          "text": [
            "[2, 4, 6, 7, 8, 10, 16, 18]\n"
          ]
        }
      ]
    },
    {
      "cell_type": "markdown",
      "source": [
        "# 2.16 List 2 Dimensi\n",
        "Pada umumnya List 2 Dimensi adalah menempatkan sebuah list di dalam list.\n",
        "List 2 Dimensi biasanya digambarkan seperti sebuah matriks."
      ],
      "metadata": {
        "id": "X1DryD3cbtkK"
      }
    },
    {
      "cell_type": "markdown",
      "source": [
        "Contoh 1."
      ],
      "metadata": {
        "id": "5oXKhI1M2FFN"
      }
    },
    {
      "cell_type": "code",
      "source": [
        "\n",
        "matrik_36 = [\n",
        "    [15,16,17,18],\n",
        "    [19,20,21,22],\n",
        "    [23,24,25,26],\n",
        "    [27,28,29,30]\n",
        "]\n",
        "print('matrik yang saya miliki adalah: ')\n",
        "print(matrik_36)\n",
        "\n",
        "# List 2 Dimensi terlihat seperti terdapat sebuah list di dalam list.\n",
        "# Indeksnya selalu dimulai dari 0\n",
        "# Matriks diatas terdapat kolom 0, kolom 1, sampai kolom 4\n",
        "# Matriks diatas terdapat baris 0, baris 1, sampai baris 4\n"
      ],
      "metadata": {
        "colab": {
          "base_uri": "https://localhost:8080/"
        },
        "id": "k3eK3wGsTIb_",
        "outputId": "8c67812b-7c50-4b02-a31d-cca5942b755f"
      },
      "execution_count": 12,
      "outputs": [
        {
          "output_type": "stream",
          "name": "stdout",
          "text": [
            "matrik yang saya miliki adalah: \n",
            "[[15, 16, 17, 18], [19, 20, 21, 22], [23, 24, 25, 26], [27, 28, 29, 30]]\n"
          ]
        }
      ]
    },
    {
      "cell_type": "code",
      "source": [
        "# Contoh, saya ingin mencetak semua data yang ada pada baris ke 1\n",
        "# Karena indeksnya dimulai dari nol, maka baris ke 1 memiliki indeks 0\n",
        "# Hanya terdapat satu kurung siku yang menandakan indeks tersebut untuk baris\n",
        "matrik_36[0]"
      ],
      "metadata": {
        "colab": {
          "base_uri": "https://localhost:8080/"
        },
        "id": "9UOmPPynUaw2",
        "outputId": "432eae26-86a7-44c4-9714-8a15b3e24ec1"
      },
      "execution_count": 13,
      "outputs": [
        {
          "output_type": "execute_result",
          "data": {
            "text/plain": [
              "[15, 16, 17, 18]"
            ]
          },
          "metadata": {},
          "execution_count": 13
        }
      ]
    },
    {
      "cell_type": "code",
      "source": [
        "# Contoh lain, saya ingin mencetak semua data yang ada pada baris ke 2\n",
        "# Karena indeksnya dimulai dari nol, maka baris ke 2 memiliki indeks 1\n",
        "# Hanya terdapat satu kurung siku yang menandakan indeks tersebut untuk baris\n",
        "matrik_36[1]"
      ],
      "metadata": {
        "id": "pBzjfCRVUkYj",
        "colab": {
          "base_uri": "https://localhost:8080/"
        },
        "outputId": "cebafca4-da59-4940-840f-b37dd3a17a4d"
      },
      "execution_count": 14,
      "outputs": [
        {
          "output_type": "execute_result",
          "data": {
            "text/plain": [
              "[19, 20, 21, 22]"
            ]
          },
          "metadata": {},
          "execution_count": 14
        }
      ]
    },
    {
      "cell_type": "code",
      "source": [
        "## Menampilkan data dengan menunjukkan indeksnya ##\n",
        "# Contoh, saya ingin mencetak data 29, data 29 terletak pada baris keempat dan kolom ketiga\n",
        "# Karena indeks dimulai dari nol, maka data 29 terletak pada indeks 3 dan 2\n",
        "# Kurung siku pertama menandakan indeks untuk baris dan kurung siku kedua menandakan indeks untuk kolom\n",
        "matrik_36[3][2]"
      ],
      "metadata": {
        "id": "xEqSYZhCUpir",
        "colab": {
          "base_uri": "https://localhost:8080/"
        },
        "outputId": "397f9b7b-5dfb-4c66-9a65-91bcfe2aef49"
      },
      "execution_count": 15,
      "outputs": [
        {
          "output_type": "execute_result",
          "data": {
            "text/plain": [
              "29"
            ]
          },
          "metadata": {},
          "execution_count": 15
        }
      ]
    },
    {
      "cell_type": "code",
      "source": [
        "# Contoh lain, saya ingin mencetak data 17, data 17 terletak pada baris kesatu dan kolom ketiga\n",
        "# Karena indeks dimulai dari nol, maka data 17 terletak pada indeks 0 dan 2\n",
        "# Kurung siku pertama menandakan indeks untuk baris dan kurung siku kedua menandakan indeks untuk kolom\n",
        "matrik_36[0][2]"
      ],
      "metadata": {
        "id": "hVQyitGiU-Mh",
        "colab": {
          "base_uri": "https://localhost:8080/"
        },
        "outputId": "afbf9306-9505-4e40-de2f-faa2a078c09f"
      },
      "execution_count": 16,
      "outputs": [
        {
          "output_type": "execute_result",
          "data": {
            "text/plain": [
              "17"
            ]
          },
          "metadata": {},
          "execution_count": 16
        }
      ]
    },
    {
      "cell_type": "code",
      "source": [
        "# Mengganti elemen matriks pada baris ketiga kolom kesatu\n",
        "matrik_36[2][0]=70\n",
        "print(matrik_36[2][0])"
      ],
      "metadata": {
        "id": "HpdmWDlnVMUI",
        "colab": {
          "base_uri": "https://localhost:8080/"
        },
        "outputId": "d56f7a16-7518-4bc7-c202-702ccb2b98d5"
      },
      "execution_count": 17,
      "outputs": [
        {
          "output_type": "stream",
          "name": "stdout",
          "text": [
            "70\n"
          ]
        }
      ]
    },
    {
      "cell_type": "code",
      "source": [
        "# Matriksnya menjadi:\n",
        "matrik_36"
      ],
      "metadata": {
        "id": "_fQSCt3QVurT",
        "colab": {
          "base_uri": "https://localhost:8080/"
        },
        "outputId": "8b140b8b-4b22-4cfc-d030-5f21b8953699"
      },
      "execution_count": 18,
      "outputs": [
        {
          "output_type": "execute_result",
          "data": {
            "text/plain": [
              "[[15, 16, 17, 18], [19, 20, 21, 22], [70, 24, 25, 26], [27, 28, 29, 30]]"
            ]
          },
          "metadata": {},
          "execution_count": 18
        }
      ]
    },
    {
      "cell_type": "code",
      "source": [
        "## Mencetak data Matriks dengan rapi ##\n",
        "# Kita dapat mencetak data matriks dengan rapi menggunakan perulangan for\n",
        "# Posisi entri-entrinya tidak akan mendatar untuk semuanya, namun akan tercetak sama seperti bentuk matriks yang biasa kita lihat\n",
        "for baris in matrik_36:\n",
        "    print(baris)\n",
        "    for kolom in baris:\n",
        "        print(kolom)"
      ],
      "metadata": {
        "colab": {
          "base_uri": "https://localhost:8080/"
        },
        "id": "4rjR_fxf0qiW",
        "outputId": "6903d877-1f02-4ad8-810b-2ba146e1581f"
      },
      "execution_count": 19,
      "outputs": [
        {
          "output_type": "stream",
          "name": "stdout",
          "text": [
            "[15, 16, 17, 18]\n",
            "15\n",
            "16\n",
            "17\n",
            "18\n",
            "[19, 20, 21, 22]\n",
            "19\n",
            "20\n",
            "21\n",
            "22\n",
            "[70, 24, 25, 26]\n",
            "70\n",
            "24\n",
            "25\n",
            "26\n",
            "[27, 28, 29, 30]\n",
            "27\n",
            "28\n",
            "29\n",
            "30\n"
          ]
        }
      ]
    },
    {
      "cell_type": "markdown",
      "source": [
        "Contoh 2."
      ],
      "metadata": {
        "id": "tntxm8zR2Ird"
      }
    },
    {
      "cell_type": "code",
      "source": [
        "matriks_B_36 = [\n",
        "    [2,4,6,8,10],\n",
        "    [12,14,16,18,20],\n",
        "    [22,24,26,28,30],\n",
        "    [32,34,36,38,40],\n",
        "    [42,44,46,48,50]\n",
        "]\n",
        "print('matriks yang saya miliki adalah: ')\n",
        "print(matriks_B_36)"
      ],
      "metadata": {
        "id": "ESsHM1_LXvzL",
        "colab": {
          "base_uri": "https://localhost:8080/"
        },
        "outputId": "9dcdc92d-85f0-4058-8b16-6d1e41fa0e23"
      },
      "execution_count": 20,
      "outputs": [
        {
          "output_type": "stream",
          "name": "stdout",
          "text": [
            "matriks yang saya miliki adalah: \n",
            "[[2, 4, 6, 8, 10], [12, 14, 16, 18, 20], [22, 24, 26, 28, 30], [32, 34, 36, 38, 40], [42, 44, 46, 48, 50]]\n"
          ]
        }
      ]
    },
    {
      "cell_type": "code",
      "source": [
        "matriks_B_36[3]"
      ],
      "metadata": {
        "id": "G63FJCXZZC19",
        "colab": {
          "base_uri": "https://localhost:8080/"
        },
        "outputId": "d9ec1d60-dff5-4d55-eb0d-573e9692c526"
      },
      "execution_count": 21,
      "outputs": [
        {
          "output_type": "execute_result",
          "data": {
            "text/plain": [
              "[32, 34, 36, 38, 40]"
            ]
          },
          "metadata": {},
          "execution_count": 21
        }
      ]
    },
    {
      "cell_type": "code",
      "source": [
        "matriks_B_36[3][3]"
      ],
      "metadata": {
        "id": "pmlEQ-2NZL15",
        "colab": {
          "base_uri": "https://localhost:8080/"
        },
        "outputId": "f41b525b-e4eb-4738-b6e5-466a56a4fead"
      },
      "execution_count": 22,
      "outputs": [
        {
          "output_type": "execute_result",
          "data": {
            "text/plain": [
              "38"
            ]
          },
          "metadata": {},
          "execution_count": 22
        }
      ]
    },
    {
      "cell_type": "code",
      "source": [
        "matriks_B_36[0][3]=60\n",
        "print(matriks_B_36[0][3])"
      ],
      "metadata": {
        "id": "JTSckoCkaGTR",
        "colab": {
          "base_uri": "https://localhost:8080/"
        },
        "outputId": "7d050ffc-3a64-4378-fd2a-d06850b73b26"
      },
      "execution_count": 23,
      "outputs": [
        {
          "output_type": "stream",
          "name": "stdout",
          "text": [
            "60\n"
          ]
        }
      ]
    },
    {
      "cell_type": "code",
      "source": [
        "matriks_B_36"
      ],
      "metadata": {
        "id": "Zr9vdHMRaPHy",
        "colab": {
          "base_uri": "https://localhost:8080/"
        },
        "outputId": "898ca5a9-8328-46fb-b5b0-6f1a4ee3f64b"
      },
      "execution_count": 24,
      "outputs": [
        {
          "output_type": "execute_result",
          "data": {
            "text/plain": [
              "[[2, 4, 6, 60, 10],\n",
              " [12, 14, 16, 18, 20],\n",
              " [22, 24, 26, 28, 30],\n",
              " [32, 34, 36, 38, 40],\n",
              " [42, 44, 46, 48, 50]]"
            ]
          },
          "metadata": {},
          "execution_count": 24
        }
      ]
    },
    {
      "cell_type": "code",
      "source": [
        "for baris in matriks_B_36:\n",
        "    print(baris)\n",
        "    for kolom in baris:\n",
        "        print(kolom)"
      ],
      "metadata": {
        "id": "WrB9enpqaQzJ",
        "colab": {
          "base_uri": "https://localhost:8080/"
        },
        "outputId": "eb7b73c5-f777-487f-e68f-024c84c71d0d"
      },
      "execution_count": 25,
      "outputs": [
        {
          "output_type": "stream",
          "name": "stdout",
          "text": [
            "[2, 4, 6, 60, 10]\n",
            "2\n",
            "4\n",
            "6\n",
            "60\n",
            "10\n",
            "[12, 14, 16, 18, 20]\n",
            "12\n",
            "14\n",
            "16\n",
            "18\n",
            "20\n",
            "[22, 24, 26, 28, 30]\n",
            "22\n",
            "24\n",
            "26\n",
            "28\n",
            "30\n",
            "[32, 34, 36, 38, 40]\n",
            "32\n",
            "34\n",
            "36\n",
            "38\n",
            "40\n",
            "[42, 44, 46, 48, 50]\n",
            "42\n",
            "44\n",
            "46\n",
            "48\n",
            "50\n"
          ]
        }
      ]
    },
    {
      "cell_type": "markdown",
      "source": [
        "# 2.17 Tuples\n",
        "Tuples merupakan collection data type, artinya tuple dapat digunakan untuk menampung sekumpulan nilai/data. Tuples merupakan sequence data type, artinya nilai/data yang tersimpan di dalam tuples dapat diakses berdasarkan urutan penyimpanannya. Tuples merupakan immutable data type, artinya kita tidak dapat mengubah, menambah, ataupun menghapus nilai/data yang ditampung di dalam sebuah tuples."
      ],
      "metadata": {
        "id": "2l5Jzw5n3eKZ"
      }
    },
    {
      "cell_type": "markdown",
      "source": [
        "Contoh 1."
      ],
      "metadata": {
        "id": "SEaZMm8y3_Yp"
      }
    },
    {
      "cell_type": "code",
      "source": [
        "bil_fibonacci_36 = (1,1,2,3,5,8)\n",
        "print(bil_fibonacci_36[2])"
      ],
      "metadata": {
        "id": "RXdGQnJnadj4",
        "colab": {
          "base_uri": "https://localhost:8080/"
        },
        "outputId": "f3d7b71c-b93c-4d8d-af05-aba325a00973"
      },
      "execution_count": 26,
      "outputs": [
        {
          "output_type": "stream",
          "name": "stdout",
          "text": [
            "2\n"
          ]
        }
      ]
    },
    {
      "cell_type": "code",
      "source": [
        "print(bil_fibonacci_36[0:3])\n",
        "print('----------------------')\n",
        "print(bil_fibonacci_36[1:4])\n",
        "print('----------------------')\n",
        "print(bil_fibonacci_36[2:3])"
      ],
      "metadata": {
        "id": "fcFHxcPgbvPy",
        "colab": {
          "base_uri": "https://localhost:8080/"
        },
        "outputId": "dc273d17-a8b7-40fa-c796-866ba7c5c9ef"
      },
      "execution_count": 27,
      "outputs": [
        {
          "output_type": "stream",
          "name": "stdout",
          "text": [
            "(1, 1, 2)\n",
            "----------------------\n",
            "(1, 2, 3)\n",
            "----------------------\n",
            "(2,)\n"
          ]
        }
      ]
    },
    {
      "cell_type": "code",
      "source": [
        "for isi in bil_fibonacci_36[0:3]:\n",
        "    print(isi)\n",
        "print('==========================')\n",
        "for isi in bil_fibonacci_36[1:4]:\n",
        "    print(isi)"
      ],
      "metadata": {
        "id": "YcTw3gmdciOx",
        "colab": {
          "base_uri": "https://localhost:8080/"
        },
        "outputId": "c80e947c-1fa3-451e-cf08-c2c3136d821f"
      },
      "execution_count": 28,
      "outputs": [
        {
          "output_type": "stream",
          "name": "stdout",
          "text": [
            "1\n",
            "1\n",
            "2\n",
            "==========================\n",
            "1\n",
            "2\n",
            "3\n"
          ]
        }
      ]
    },
    {
      "cell_type": "code",
      "source": [
        "# Untuk menghitung frekuensi nilai yang kita miliki dalam Tuple\n",
        "# kita dapat menggunakan fungsi count\n",
        "bil_fibonacci_36.count(1)"
      ],
      "metadata": {
        "id": "4-twIINGeXey",
        "colab": {
          "base_uri": "https://localhost:8080/"
        },
        "outputId": "c4b58e5c-732f-4b5c-926a-cb79d8bad1f9"
      },
      "execution_count": 29,
      "outputs": [
        {
          "output_type": "execute_result",
          "data": {
            "text/plain": [
              "2"
            ]
          },
          "metadata": {},
          "execution_count": 29
        }
      ]
    },
    {
      "cell_type": "code",
      "source": [
        "# Untuk mengetahui urutan nilai dalam Tuple\n",
        "# kita dapat menggunakan fungsi index\n",
        "bil_fibonacci_36.index(3)"
      ],
      "metadata": {
        "id": "TLqtMq57eh0I",
        "colab": {
          "base_uri": "https://localhost:8080/"
        },
        "outputId": "9f2bde7c-d89b-4e93-d4ef-0fe88dc25094"
      },
      "execution_count": 30,
      "outputs": [
        {
          "output_type": "execute_result",
          "data": {
            "text/plain": [
              "3"
            ]
          },
          "metadata": {},
          "execution_count": 30
        }
      ]
    },
    {
      "cell_type": "markdown",
      "source": [
        "Contoh 2."
      ],
      "metadata": {
        "id": "X8raxD4fDpNt"
      }
    },
    {
      "cell_type": "code",
      "source": [
        "bil_prima_36 = (2,3,5,7,11,13,17,19,23,29)\n",
        "print(bil_prima_36[3])"
      ],
      "metadata": {
        "colab": {
          "base_uri": "https://localhost:8080/"
        },
        "id": "d56IyyhLDvAK",
        "outputId": "726406b5-f050-4432-8884-ed222b5a915c"
      },
      "execution_count": 31,
      "outputs": [
        {
          "output_type": "stream",
          "name": "stdout",
          "text": [
            "7\n"
          ]
        }
      ]
    },
    {
      "cell_type": "code",
      "source": [
        "print(bil_prima_36[0:4])\n",
        "print('----------------------')\n",
        "print(bil_prima_36[1:5])\n",
        "print('----------------------')\n",
        "print(bil_prima_36[2:4])"
      ],
      "metadata": {
        "colab": {
          "base_uri": "https://localhost:8080/"
        },
        "id": "eo42jD0ZDs7v",
        "outputId": "76642e19-155f-4fac-910e-7c9cd7fe92e7"
      },
      "execution_count": 32,
      "outputs": [
        {
          "output_type": "stream",
          "name": "stdout",
          "text": [
            "(2, 3, 5, 7)\n",
            "----------------------\n",
            "(3, 5, 7, 11)\n",
            "----------------------\n",
            "(5, 7)\n"
          ]
        }
      ]
    },
    {
      "cell_type": "code",
      "source": [
        "for isi in bil_prima_36[0:4]:\n",
        "    print(isi)\n",
        "print('==========================')\n",
        "for isi in bil_prima_36[1:5]:\n",
        "    print(isi)"
      ],
      "metadata": {
        "colab": {
          "base_uri": "https://localhost:8080/"
        },
        "id": "1E3RlJIxFh9-",
        "outputId": "92582790-9ff9-4e67-dbb7-6a13447801e8"
      },
      "execution_count": 33,
      "outputs": [
        {
          "output_type": "stream",
          "name": "stdout",
          "text": [
            "2\n",
            "3\n",
            "5\n",
            "7\n",
            "==========================\n",
            "3\n",
            "5\n",
            "7\n",
            "11\n"
          ]
        }
      ]
    },
    {
      "cell_type": "code",
      "source": [
        "bil_prima_36.count(2)"
      ],
      "metadata": {
        "colab": {
          "base_uri": "https://localhost:8080/"
        },
        "id": "Rd8B_rwyF0x4",
        "outputId": "5bad3f3a-b283-4edd-d686-fc3fd33d96d2"
      },
      "execution_count": 34,
      "outputs": [
        {
          "output_type": "execute_result",
          "data": {
            "text/plain": [
              "1"
            ]
          },
          "metadata": {},
          "execution_count": 34
        }
      ]
    },
    {
      "cell_type": "code",
      "source": [
        "bil_prima_36.index(3)"
      ],
      "metadata": {
        "colab": {
          "base_uri": "https://localhost:8080/"
        },
        "id": "dPZn-SaAF_tY",
        "outputId": "3d0b4ed1-c70c-4621-9ff0-428c40e4be0b"
      },
      "execution_count": 35,
      "outputs": [
        {
          "output_type": "execute_result",
          "data": {
            "text/plain": [
              "1"
            ]
          },
          "metadata": {},
          "execution_count": 35
        }
      ]
    },
    {
      "cell_type": "markdown",
      "source": [
        "Contoh 3."
      ],
      "metadata": {
        "id": "DNwtOjHC9zur"
      }
    },
    {
      "cell_type": "code",
      "source": [
        "bil_genap_36 = (2,4,6,8,10,12,14,16,18,20)\n",
        "print(bil_genap_36[5])\n",
        "print('----------------------')\n",
        "print(bil_genap_36[0:5])\n",
        "print('----------------------')\n",
        "print(bil_genap_36[1:4])\n",
        "print('----------------------')\n",
        "print(bil_genap_36[2:5])"
      ],
      "metadata": {
        "colab": {
          "base_uri": "https://localhost:8080/"
        },
        "id": "91FKKsSXvmma",
        "outputId": "dbc6a2a6-a5e8-4371-bc20-1382bd719529"
      },
      "execution_count": 36,
      "outputs": [
        {
          "output_type": "stream",
          "name": "stdout",
          "text": [
            "12\n",
            "----------------------\n",
            "(2, 4, 6, 8, 10)\n",
            "----------------------\n",
            "(4, 6, 8)\n",
            "----------------------\n",
            "(6, 8, 10)\n"
          ]
        }
      ]
    },
    {
      "cell_type": "code",
      "source": [
        "for isi in bil_genap_36[0:5]:\n",
        "    print(isi)\n",
        "print('==========================')\n",
        "for isi in bil_genap_36[1:4]:\n",
        "    print(isi)"
      ],
      "metadata": {
        "colab": {
          "base_uri": "https://localhost:8080/"
        },
        "id": "3IHoYXR7woWT",
        "outputId": "72fe7343-aa88-48ca-d93a-1bdff78cbb71"
      },
      "execution_count": 37,
      "outputs": [
        {
          "output_type": "stream",
          "name": "stdout",
          "text": [
            "2\n",
            "4\n",
            "6\n",
            "8\n",
            "10\n",
            "==========================\n",
            "4\n",
            "6\n",
            "8\n"
          ]
        }
      ]
    },
    {
      "cell_type": "code",
      "source": [
        "bil_genap_36.count(2)"
      ],
      "metadata": {
        "colab": {
          "base_uri": "https://localhost:8080/"
        },
        "id": "NfH3vnBuw0jX",
        "outputId": "187b68ae-49cf-474d-b000-7a9bdb8ffd3f"
      },
      "execution_count": 38,
      "outputs": [
        {
          "output_type": "execute_result",
          "data": {
            "text/plain": [
              "1"
            ]
          },
          "metadata": {},
          "execution_count": 38
        }
      ]
    },
    {
      "cell_type": "code",
      "source": [
        "bil_genap_36.index(2)"
      ],
      "metadata": {
        "colab": {
          "base_uri": "https://localhost:8080/"
        },
        "id": "v4LN9rd7xKNI",
        "outputId": "730bbc3c-8b5d-4dca-b6b1-f3b70d8d9ad4"
      },
      "execution_count": 39,
      "outputs": [
        {
          "output_type": "execute_result",
          "data": {
            "text/plain": [
              "0"
            ]
          },
          "metadata": {},
          "execution_count": 39
        }
      ]
    },
    {
      "cell_type": "markdown",
      "source": [
        "Contoh 4."
      ],
      "metadata": {
        "id": "aN5iFbiSvnqa"
      }
    },
    {
      "cell_type": "code",
      "source": [
        "bangun_ruang_36 = ('kubus', 'balok', 'prisma', 'tabung', 'kerucut')\n",
        "print(bangun_ruang_36[0])"
      ],
      "metadata": {
        "id": "lYE7oxHOeyhu",
        "colab": {
          "base_uri": "https://localhost:8080/"
        },
        "outputId": "4ee2f6f1-5330-430c-a9f2-ba192f9967c5"
      },
      "execution_count": 40,
      "outputs": [
        {
          "output_type": "stream",
          "name": "stdout",
          "text": [
            "kubus\n"
          ]
        }
      ]
    },
    {
      "cell_type": "code",
      "source": [
        "print(bangun_ruang_36[0:3])\n",
        "print('--------------------')\n",
        "print(bangun_ruang_36[1:4])\n",
        "print('--------------------')\n",
        "print(bangun_ruang_36[2:3])\n",
        "print('--------------------')\n",
        "print(bangun_ruang_36[3:4])"
      ],
      "metadata": {
        "id": "hkB64oEiemKk",
        "colab": {
          "base_uri": "https://localhost:8080/"
        },
        "outputId": "5897311f-93a2-4282-864a-67ce3fd0a94c"
      },
      "execution_count": 41,
      "outputs": [
        {
          "output_type": "stream",
          "name": "stdout",
          "text": [
            "('kubus', 'balok', 'prisma')\n",
            "--------------------\n",
            "('balok', 'prisma', 'tabung')\n",
            "--------------------\n",
            "('prisma',)\n",
            "--------------------\n",
            "('tabung',)\n"
          ]
        }
      ]
    },
    {
      "cell_type": "code",
      "source": [
        "for isi in bangun_ruang_36[0:3]:\n",
        "    print(isi)\n",
        "print('==========================')\n",
        "for isi in bangun_ruang_36[1:4]:\n",
        "    print(isi)\n",
        "print('==========================')\n",
        "for isi in bangun_ruang_36[2:3]:\n",
        "    print(isi)\n",
        "print('==========================')\n",
        "for isi in bangun_ruang_36[3:4]:\n",
        "    print(isi)"
      ],
      "metadata": {
        "id": "XRp-y0I6gEqs",
        "colab": {
          "base_uri": "https://localhost:8080/"
        },
        "outputId": "2dc0fec9-2860-4450-d873-4bf7d8579820"
      },
      "execution_count": 42,
      "outputs": [
        {
          "output_type": "stream",
          "name": "stdout",
          "text": [
            "kubus\n",
            "balok\n",
            "prisma\n",
            "==========================\n",
            "balok\n",
            "prisma\n",
            "tabung\n",
            "==========================\n",
            "prisma\n",
            "==========================\n",
            "tabung\n"
          ]
        }
      ]
    },
    {
      "cell_type": "markdown",
      "source": [
        "# 2.18 Dictionaries\n",
        " Dictionaries digunakan jika data nya terkait satu sama lain. Misalnya data seseorang yang terdiri dari umur, nama, tanggal lahir merupakan satu kesatuan data yang bersumber dari orang tersebut."
      ],
      "metadata": {
        "id": "i0bJ-YRDCeBV"
      }
    },
    {
      "cell_type": "markdown",
      "source": [
        "Contoh 1."
      ],
      "metadata": {
        "id": "N1hjWLvmKaAj"
      }
    },
    {
      "cell_type": "code",
      "source": [
        "biodata_36 ={\n",
        "    'nama' : \"Diva Felizia Bagindo\",\n",
        "    'umur' : 20,\n",
        "    'apakah_cantik?' : True\n",
        "}\n",
        "print(biodata_36['nama'])"
      ],
      "metadata": {
        "id": "FY_GTEt1gOm_",
        "colab": {
          "base_uri": "https://localhost:8080/"
        },
        "outputId": "06bb9eb8-dbb5-4e00-f4a6-5918c6cea2ba"
      },
      "execution_count": 43,
      "outputs": [
        {
          "output_type": "stream",
          "name": "stdout",
          "text": [
            "Diva Felizia Bagindo\n"
          ]
        }
      ]
    },
    {
      "cell_type": "code",
      "source": [
        "print(biodata_36.get('nama'))"
      ],
      "metadata": {
        "id": "ZJ3LPesThHVO",
        "colab": {
          "base_uri": "https://localhost:8080/"
        },
        "outputId": "eb6fd735-dc60-4dfb-ff8f-2c27e7797603"
      },
      "execution_count": 44,
      "outputs": [
        {
          "output_type": "stream",
          "name": "stdout",
          "text": [
            "Diva Felizia Bagindo\n"
          ]
        }
      ]
    },
    {
      "cell_type": "code",
      "source": [
        "print(biodata_36.get('tanggal_lahir'))"
      ],
      "metadata": {
        "id": "EV8BchrGhZ1U",
        "colab": {
          "base_uri": "https://localhost:8080/"
        },
        "outputId": "58ca3e90-fd6f-4bbe-cef5-178473881e66"
      },
      "execution_count": 45,
      "outputs": [
        {
          "output_type": "stream",
          "name": "stdout",
          "text": [
            "None\n"
          ]
        }
      ]
    },
    {
      "cell_type": "code",
      "source": [
        "print(biodata_36.get('tanggal_lahir', '18-11-2004'))"
      ],
      "metadata": {
        "id": "WAOs9XyzhubM",
        "colab": {
          "base_uri": "https://localhost:8080/"
        },
        "outputId": "d1f78d48-9695-4a04-d1b7-da69ccc58509"
      },
      "execution_count": 46,
      "outputs": [
        {
          "output_type": "stream",
          "name": "stdout",
          "text": [
            "18-11-2004\n"
          ]
        }
      ]
    },
    {
      "cell_type": "code",
      "source": [
        "print(biodata_36)"
      ],
      "metadata": {
        "id": "-ChXD9aZh5yx",
        "colab": {
          "base_uri": "https://localhost:8080/"
        },
        "outputId": "b461ad4e-431a-43d9-b9d7-34aab21c75ca"
      },
      "execution_count": 47,
      "outputs": [
        {
          "output_type": "stream",
          "name": "stdout",
          "text": [
            "{'nama': 'Diva Felizia Bagindo', 'umur': 20, 'apakah_cantik?': True}\n"
          ]
        }
      ]
    },
    {
      "cell_type": "code",
      "source": [
        "biodata_36['HP'] = '089685742339'\n",
        "print(biodata_36['HP'])"
      ],
      "metadata": {
        "colab": {
          "base_uri": "https://localhost:8080/"
        },
        "id": "EieqC6upHdb7",
        "outputId": "1988c0e6-433a-4376-b3f0-d121f4ddd0d8"
      },
      "execution_count": 48,
      "outputs": [
        {
          "output_type": "stream",
          "name": "stdout",
          "text": [
            "089685742339\n"
          ]
        }
      ]
    },
    {
      "cell_type": "code",
      "source": [
        "print(biodata_36)"
      ],
      "metadata": {
        "colab": {
          "base_uri": "https://localhost:8080/"
        },
        "id": "T1r4giT_GrLo",
        "outputId": "3e83fa67-3421-45f5-ed39-16e88cf627a0"
      },
      "execution_count": 49,
      "outputs": [
        {
          "output_type": "stream",
          "name": "stdout",
          "text": [
            "{'nama': 'Diva Felizia Bagindo', 'umur': 20, 'apakah_cantik?': True, 'HP': '089685742339'}\n"
          ]
        }
      ]
    },
    {
      "cell_type": "markdown",
      "source": [
        "Program untuk merubah nomor HP yang awalnya berupa angka menjadi sebutan bilangan."
      ],
      "metadata": {
        "id": "VF3pUw9EPsnc"
      }
    },
    {
      "cell_type": "code",
      "source": [
        "angka_36 = {\n",
        "    \"0\" : \"nol\",\n",
        "    \"1\" : \"satu\",\n",
        "    \"2\" : \"dua\",\n",
        "    \"3\" : \"tiga\",\n",
        "    \"4\" : \"empat\",\n",
        "    \"5\" : \"lima\",\n",
        "    \"6\" : \"enam\",\n",
        "    \"7\" : \"tujuh\",\n",
        "    \"8\" : \"delapan\",\n",
        "    \"9\" : \"sembilan\"\n",
        "}\n",
        "nomor_HP_36 = input(\"Masukkan nomor HP kamu \")\n",
        "nomor_angka_36 = \"\"\n",
        "for isi in nomor_HP_36:\n",
        "    nomor_angka_36 += angka_36.get(isi) + \" \"\n",
        "print(nomor_angka_36)"
      ],
      "metadata": {
        "colab": {
          "base_uri": "https://localhost:8080/"
        },
        "id": "WfR-IjcsPsEj",
        "outputId": "947b0af0-3df7-49ef-a63a-306f505092d8"
      },
      "execution_count": 50,
      "outputs": [
        {
          "output_type": "stream",
          "name": "stdout",
          "text": [
            "Masukkan nomor HP kamu 089685742339\n",
            "nol delapan sembilan enam delapan lima tujuh empat dua tiga tiga sembilan \n"
          ]
        }
      ]
    },
    {
      "cell_type": "markdown",
      "source": [
        "Contoh lain."
      ],
      "metadata": {
        "id": "Jdf3uywo2DYt"
      }
    },
    {
      "cell_type": "code",
      "source": [
        "kosa_kata_36= {\n",
        "    'a': 'apel',\n",
        "    'b': 'bola',\n",
        "    'c': 'cinta',\n",
        "    'd': 'dadu',\n",
        "    'e': 'emas',\n",
        "    'f': 'fajar',\n",
        "    'g': 'gula',\n",
        "    'h': 'hari',\n",
        "    'i': 'ikan'\n",
        "}\n",
        "print('========================================================================')\n",
        "kata_kunci_36 = input('Silahkan masukkan kata kunci yang ingin Anda buat: ')\n",
        "kata_kunci_huruf_36 = ''\n",
        "for isi in kata_kunci_36:\n",
        "    kata_kunci_huruf_36 += kosa_kata_36.get(isi) + ' '\n",
        "print(kata_kunci_huruf_36)"
      ],
      "metadata": {
        "colab": {
          "base_uri": "https://localhost:8080/"
        },
        "id": "OoQhYApEyvPN",
        "outputId": "cd02a844-14fe-4d6c-c299-8f6a779b9754"
      },
      "execution_count": 51,
      "outputs": [
        {
          "output_type": "stream",
          "name": "stdout",
          "text": [
            "========================================================================\n",
            "Silahkan masukkan kata kunci yang ingin Anda buat: fei\n",
            "fajar emas ikan \n"
          ]
        }
      ]
    },
    {
      "cell_type": "markdown",
      "source": [
        "Contoh 2."
      ],
      "metadata": {
        "id": "A4EnU20WMiiH"
      }
    },
    {
      "cell_type": "code",
      "source": [
        "buku_36 = {\n",
        "    'judul': \"Harry Potter and the Philosopher's Stone\",\n",
        "    'penulis': \"J.K. Rowling\",\n",
        "    'halaman': 223,\n",
        "    'bahasa': \"Inggris\",\n",
        "    'rating': 4.7\n",
        "}\n",
        "print(buku_36['judul'])\n",
        "print('==============================================================================')\n",
        "print(buku_36.get('judul'))\n",
        "print('==============================================================================')\n",
        "print(buku_36.get('tanggal_terbit'))\n",
        "print('==============================================================================')\n",
        "print(buku_36.get('tanggal_terbit', '26-06-1997'))\n",
        "print('==============================================================================')\n",
        "print(buku_36)\n",
        "print('==============================================================================')\n",
        "buku_36['ISBN'] = '0747532699'\n",
        "print(buku_36['ISBN'])\n",
        "print('==============================================================================')\n",
        "print(buku_36)"
      ],
      "metadata": {
        "colab": {
          "base_uri": "https://localhost:8080/"
        },
        "id": "l3BIm6a9MhM2",
        "outputId": "5d883f6c-2977-4024-cd8f-0ae323c89b3a"
      },
      "execution_count": 52,
      "outputs": [
        {
          "output_type": "stream",
          "name": "stdout",
          "text": [
            "Harry Potter and the Philosopher's Stone\n",
            "==============================================================================\n",
            "Harry Potter and the Philosopher's Stone\n",
            "==============================================================================\n",
            "None\n",
            "==============================================================================\n",
            "26-06-1997\n",
            "==============================================================================\n",
            "{'judul': \"Harry Potter and the Philosopher's Stone\", 'penulis': 'J.K. Rowling', 'halaman': 223, 'bahasa': 'Inggris', 'rating': 4.7}\n",
            "==============================================================================\n",
            "0747532699\n",
            "==============================================================================\n",
            "{'judul': \"Harry Potter and the Philosopher's Stone\", 'penulis': 'J.K. Rowling', 'halaman': 223, 'bahasa': 'Inggris', 'rating': 4.7, 'ISBN': '0747532699'}\n"
          ]
        }
      ]
    },
    {
      "cell_type": "markdown",
      "source": [
        "Contoh 3."
      ],
      "metadata": {
        "id": "oR2Q3MW2R-ES"
      }
    },
    {
      "cell_type": "code",
      "source": [
        "data_mahasiswa_36 = {\n",
        "    'nama': \"Ahmad Fadilah\",\n",
        "    'jurusan': \"Teknik Informatika\",\n",
        "    'semester': 5,\n",
        "    'ipk': 3.75,\n",
        "    'alamat': \"Jl. Pahlawan No. 123, Kota Bandung\"\n",
        "}\n",
        "print(data_mahasiswa_36['nama'])\n",
        "print('==============================================================================')\n",
        "print(data_mahasiswa_36.get('nama'))\n",
        "print('==============================================================================')\n",
        "print(data_mahasiswa_36.get('nim'))\n",
        "print('==============================================================================')\n",
        "print(data_mahasiswa_36.get('nim', '1234567891'))\n",
        "print('==============================================================================')\n",
        "print(data_mahasiswa_36)\n",
        "print('==============================================================================')\n",
        "data_mahasiswa_36['nik'] = '5103016754321345'\n",
        "print(data_mahasiswa_36['nik'])\n",
        "print('==============================================================================')\n",
        "print(data_mahasiswa_36)"
      ],
      "metadata": {
        "id": "5otXjPPZJ6FM",
        "colab": {
          "base_uri": "https://localhost:8080/"
        },
        "outputId": "99d60456-ef5c-495d-c31f-46b1eacf8dec"
      },
      "execution_count": 53,
      "outputs": [
        {
          "output_type": "stream",
          "name": "stdout",
          "text": [
            "Ahmad Fadilah\n",
            "==============================================================================\n",
            "Ahmad Fadilah\n",
            "==============================================================================\n",
            "None\n",
            "==============================================================================\n",
            "1234567891\n",
            "==============================================================================\n",
            "{'nama': 'Ahmad Fadilah', 'jurusan': 'Teknik Informatika', 'semester': 5, 'ipk': 3.75, 'alamat': 'Jl. Pahlawan No. 123, Kota Bandung'}\n",
            "==============================================================================\n",
            "5103016754321345\n",
            "==============================================================================\n",
            "{'nama': 'Ahmad Fadilah', 'jurusan': 'Teknik Informatika', 'semester': 5, 'ipk': 3.75, 'alamat': 'Jl. Pahlawan No. 123, Kota Bandung', 'nik': '5103016754321345'}\n"
          ]
        }
      ]
    },
    {
      "cell_type": "code",
      "source": [
        "print('Selamat datang di toko Elektronik ZIZI!')\n",
        "produk_36 = {\n",
        "    'kode_barang': \"B123\",\n",
        "    'nama_barang': \"Laptop ASUS ROG Strix\",\n",
        "    'kategori': \"Elektronik\",\n",
        "    'lokasi': \"Gudang 1\"\n",
        "}\n",
        "print(produk_36['kode_barang'])\n",
        "print('==============================================================================')\n",
        "print(produk_36.get('kode_barang'))\n",
        "print('==============================================================================')\n",
        "print(produk_36.get('harga'))\n",
        "print('==============================================================================')\n",
        "print(produk_36.get('harga', '15000000'))\n",
        "print('==============================================================================')\n",
        "print(produk_36)\n",
        "print('==============================================================================')\n",
        "produk_36['stok'] = '15'\n",
        "print(produk_36['stok'])\n",
        "print('==============================================================================')\n",
        "print(produk_36)"
      ],
      "metadata": {
        "colab": {
          "base_uri": "https://localhost:8080/"
        },
        "id": "4tGeuTXS1Ehb",
        "outputId": "0377c19f-8205-4cb2-ceeb-3ea116b8c9f9"
      },
      "execution_count": 54,
      "outputs": [
        {
          "output_type": "stream",
          "name": "stdout",
          "text": [
            "Selamat datang di toko Elektronik ZIZI!\n",
            "B123\n",
            "==============================================================================\n",
            "B123\n",
            "==============================================================================\n",
            "None\n",
            "==============================================================================\n",
            "15000000\n",
            "==============================================================================\n",
            "{'kode_barang': 'B123', 'nama_barang': 'Laptop ASUS ROG Strix', 'kategori': 'Elektronik', 'lokasi': 'Gudang 1'}\n",
            "==============================================================================\n",
            "15\n",
            "==============================================================================\n",
            "{'kode_barang': 'B123', 'nama_barang': 'Laptop ASUS ROG Strix', 'kategori': 'Elektronik', 'lokasi': 'Gudang 1', 'stok': '15'}\n"
          ]
        }
      ]
    },
    {
      "cell_type": "markdown",
      "source": [
        "# 2.19 Fungsi dalam Python\n",
        "Fungsi dibentuk untuk menghindari pengulangan pembuatan program secara manual. Fungsi juga berguna untuk mempermudah dan meringkas suatu program.\n"
      ],
      "metadata": {
        "id": "AONJ2uns4Ry7"
      }
    },
    {
      "cell_type": "markdown",
      "source": [
        "Contoh 1."
      ],
      "metadata": {
        "id": "5dUu63o0_8zl"
      }
    },
    {
      "cell_type": "code",
      "source": [
        "# Fungsi Nama Lengkap menerima input nama depan, tengah, dan belakang\n",
        "def full_name_36(first_name,middle_name,last_name):                                    #pendefinisian fungsi\n",
        "    print(f\"Nama lengkap saya adalah {first_name_36} {middle_name_36} {last_name_36}\")\n",
        "first_name_36 = input(\"Nama depan saya adalah \")\n",
        "middle_name_36 = input(\"Nama tengah saya adalah \")\n",
        "last_name_36 = input(\"Nama belakang saya adalah \")\n",
        "full_name_36(first_name_36,middle_name_36,last_name_36)"
      ],
      "metadata": {
        "colab": {
          "base_uri": "https://localhost:8080/"
        },
        "id": "Rhjg8Hpc3jhK",
        "outputId": "9f312126-afb6-47bc-c1f9-79584b56ab56"
      },
      "execution_count": 55,
      "outputs": [
        {
          "output_type": "stream",
          "name": "stdout",
          "text": [
            "Nama depan saya adalah Diva\n",
            "Nama tengah saya adalah Felizia\n",
            "Nama belakang saya adalah Bagindo\n",
            "Nama lengkap saya adalah Diva Felizia Bagindo\n"
          ]
        }
      ]
    },
    {
      "cell_type": "markdown",
      "source": [
        "Contoh 2."
      ],
      "metadata": {
        "id": "-XxV4Q6JAAGp"
      }
    },
    {
      "cell_type": "code",
      "source": [
        "def kalimat_SPOK_36(subjek,predikat,objek,keterangan):                                                                 #pendefinisian fungsi\n",
        "    print(f\"Contoh kalimat yang mengandung SPOK adalah {subjek_36} {predikat_36} {objek_36} {keterangan_36}\")\n",
        "subjek_36 = input(\"Subjeknya adalah \")\n",
        "predikat_36 = input(\"Predikatnya adalah \")\n",
        "objek_36 = input(\"Objeknya adalah \")\n",
        "keterangan_36 = input(\"Keterangannya adalah \")\n",
        "kalimat_SPOK_36(subjek_36,predikat_36,objek_36,keterangan_36)"
      ],
      "metadata": {
        "colab": {
          "base_uri": "https://localhost:8080/"
        },
        "id": "3V8NZyfs6E4z",
        "outputId": "8dc106c5-4065-4b3f-c06f-fcacb8365858"
      },
      "execution_count": 56,
      "outputs": [
        {
          "output_type": "stream",
          "name": "stdout",
          "text": [
            "Subjeknya adalah Dina\n",
            "Predikatnya adalah membeli\n",
            "Objeknya adalah obat\n",
            "Keterangannya adalah di Apotek\n",
            "Contoh kalimat yang mengandung SPOK adalah Dina membeli obat di Apotek\n"
          ]
        }
      ]
    },
    {
      "cell_type": "markdown",
      "source": [
        "Contoh 3."
      ],
      "metadata": {
        "id": "BVMR3WLL6a_U"
      }
    },
    {
      "cell_type": "code",
      "source": [
        "def bakteri_36(nama_bakteri,nama_ilmiah):                                                                 #pendefinisian fungsi\n",
        "    print(f\"Contoh nama bakteri yaitu {nama_bakteri_36} , sedangkan nama ilmiahnya {nama_ilmiah_36}\")\n",
        "nama_bakteri_36 = input(\"Nama bakterinya yaitu:  \")\n",
        "nama_ilmiah_36 = input(\"Sedangkan, nama ilmiahnya adalah:  \")\n",
        "bakteri_36(nama_bakteri_36,nama_ilmiah_36)"
      ],
      "metadata": {
        "colab": {
          "base_uri": "https://localhost:8080/"
        },
        "id": "5yQO8Xo16dUG",
        "outputId": "3cca38df-c22d-4206-d9be-56f5377cd39d"
      },
      "execution_count": 57,
      "outputs": [
        {
          "output_type": "stream",
          "name": "stdout",
          "text": [
            "Nama bakterinya yaitu:  Bakteri TBC\n",
            "Sedangkan, nama ilmiahnya adalah:  Mycobacterium Tubrculosis\n",
            "Contoh nama bakteri yaitu Bakteri TBC , sedangkan nama ilmiahnya Mycobacterium Tubrculosis\n"
          ]
        }
      ]
    },
    {
      "cell_type": "markdown",
      "source": [
        "# 2.19.1 Tugas Fungsi pada Python"
      ],
      "metadata": {
        "id": "pe3DQe32APbK"
      }
    },
    {
      "cell_type": "markdown",
      "source": [
        "Contoh 1."
      ],
      "metadata": {
        "id": "kKJsaAXrAeOS"
      }
    },
    {
      "cell_type": "code",
      "source": [
        "# Fungsi Waktu Sampai dan Waktu Tempuh\n",
        "def waktu_sampai_36(jarak,kecepatan):\n",
        "    waktu_36 = jarak/kecepatan\n",
        "    print(waktu_36)\n",
        "waktu_sampai_36(80,60)\n",
        "x_36 = waktu_sampai_36(80,60)\n",
        "print(x_36)\n",
        "\n",
        "print('-------------------------------------------')\n",
        "def waktu_tempuh_36(jarak,kecepatan):\n",
        "    waktu_36 = jarak/kecepatan\n",
        "    return(waktu_36)\n",
        "waktu_tempuh_36(80,60)\n",
        "y_36 = waktu_tempuh_36(80,60)\n",
        "print(y_36)"
      ],
      "metadata": {
        "colab": {
          "base_uri": "https://localhost:8080/"
        },
        "id": "CG-MzmdX_Xow",
        "outputId": "13dd48eb-f879-42c4-a1cc-45b19493fb2d"
      },
      "execution_count": 58,
      "outputs": [
        {
          "output_type": "stream",
          "name": "stdout",
          "text": [
            "1.3333333333333333\n",
            "1.3333333333333333\n",
            "None\n",
            "-------------------------------------------\n",
            "1.3333333333333333\n"
          ]
        }
      ]
    },
    {
      "cell_type": "markdown",
      "source": [
        "Contoh 2."
      ],
      "metadata": {
        "id": "klC2Ej94MIPY"
      }
    },
    {
      "cell_type": "code",
      "source": [
        "# Fungsi Luas Segitiga\n",
        "def luas_segitiga_36(alas, tinggi):\n",
        "    luas = 0.5*alas*tinggi\n",
        "    return luas\n",
        "\n",
        "# Fungsi Luas Lingkaran\n",
        "def luas_lingkaran_36(jari_jari):\n",
        "    luas = 3.14*(jari_jari**2)\n",
        "    return luas\n",
        "\n",
        "# Fungsi Luas Persegi\n",
        "def luas_persegi_36(sisi):\n",
        "    luas = sisi**2\n",
        "    return luas\n",
        "\n",
        "# Fungsi Luas Persegi Panjang\n",
        "def luas_persegi_panjang_36(panjang, lebar):\n",
        "    luas = panjang*lebar\n",
        "    return luas"
      ],
      "metadata": {
        "id": "v8dSFW7DBZJ-"
      },
      "execution_count": 59,
      "outputs": []
    },
    {
      "cell_type": "code",
      "source": [
        "# Contoh Penggunaan dengan IF dan ELIF Statement\n",
        "def header():\n",
        "    print('=======Selamat datang di program sederhana mencari Luas suatu bidang=======')\n",
        "\n",
        "while True:                                                                                                  #menggunakan while agar fungsi bisa diberhentikan\n",
        "    header()\n",
        "    jenis_bidang_36 = input('Silahkan masukkan bidang yang ingin kamu hitung : ')\n",
        "    if jenis_bidang_36.upper() == 'SEGITIGA':\n",
        "        alas = float(input('Berapakah alasnya? (dalam cm) '))\n",
        "        tinggi = float(input('Berapakah tingginya? (dalam cm) '))\n",
        "        luas = luas_segitiga_36(alas, tinggi)\n",
        "        print(F'Luas {jenis_bidang_36} adalah {luas}')\n",
        "    elif jenis_bidang_36.upper() == 'LINGKARAN':\n",
        "        jari_jari = float(input('Berapakah jari-jarinya? (dalam cm) '))\n",
        "        luas = luas_lingkaran_36(jari_jari)\n",
        "        print(F'Luas {jenis_bidang_36} adalah {luas}')\n",
        "    elif jenis_bidang_36.upper() == 'PERSEGI':\n",
        "        sisi = float(input('Berapakah panjang sisinya? (dalam cm) '))\n",
        "        luas = luas_persegi_36 (sisi)\n",
        "        print(F'Luas {jenis_bidang_36} adalah {luas}')\n",
        "    elif jenis_bidang_36.upper() == 'PERSEGI PANJANG':\n",
        "        lebar = float(input('Berapakah lebarnya? (dalam cm) '))\n",
        "        panjang = float(input('Berapakah panjangnya? (dalam cm) '))\n",
        "        luas = luas_persegi_panjang_36 (panjang, lebar)\n",
        "        print(F'Luas {jenis_bidang_36} adalah {luas}')\n",
        "    else:\n",
        "        print(F'Mohon coba kembali, bidang {jenis_bidang_36} yang anda input tidak tersedia untuk saat ini')\n",
        "    lanjut = input('Apakah ingin menginput lagi? (yes/no)')                                                     #karena while tidak akan berhenti tanpa ada cancel,\n",
        "    if lanjut == 'no':                                                                                          #maka kita buatkan looping for untuk menyelesaikan input ketika input ingin diselesaikan\n",
        "        break\n",
        "print('----Program Berakhir Terimakasih----')"
      ],
      "metadata": {
        "colab": {
          "base_uri": "https://localhost:8080/"
        },
        "id": "K_CPvrh-EasU",
        "outputId": "26933cca-4a9d-4126-9722-efd99c055b20"
      },
      "execution_count": 60,
      "outputs": [
        {
          "output_type": "stream",
          "name": "stdout",
          "text": [
            "=======Selamat datang di program sederhana mencari Luas suatu bidang=======\n",
            "Silahkan masukkan bidang yang ingin kamu hitung : persegi panjang\n",
            "Berapakah lebarnya? (dalam cm) 10\n",
            "Berapakah panjangnya? (dalam cm) 15\n",
            "Luas persegi panjang adalah 150.0\n",
            "Apakah ingin menginput lagi? (yes/no)yes\n",
            "=======Selamat datang di program sederhana mencari Luas suatu bidang=======\n",
            "Silahkan masukkan bidang yang ingin kamu hitung : limas\n",
            "Mohon coba kembali, bidang limas yang anda input tidak tersedia untuk saat ini\n",
            "Apakah ingin menginput lagi? (yes/no)no\n",
            "----Program Berakhir Terimakasih----\n"
          ]
        }
      ]
    },
    {
      "cell_type": "markdown",
      "source": [
        "Contoh 3."
      ],
      "metadata": {
        "id": "u-vRB7IZMK6O"
      }
    },
    {
      "cell_type": "code",
      "source": [
        "# Contoh Fungsi\n",
        "def kuadrat_36(input):\n",
        "    output_kuadrat_36 = input**2\n",
        "    return output_kuadrat_36\n",
        "\n",
        "a_36 = kuadrat_36(5)\n",
        "print(a_36)"
      ],
      "metadata": {
        "colab": {
          "base_uri": "https://localhost:8080/"
        },
        "id": "niO6v69WImd2",
        "outputId": "1e863a1a-9412-4659-e8c9-a03a62a2eab3"
      },
      "execution_count": 61,
      "outputs": [
        {
          "output_type": "stream",
          "name": "stdout",
          "text": [
            "25\n"
          ]
        }
      ]
    },
    {
      "cell_type": "markdown",
      "source": [
        "Contoh.4"
      ],
      "metadata": {
        "id": "lzJSmmVgMNnh"
      }
    },
    {
      "cell_type": "code",
      "source": [
        "# Contoh memunculkan deret Fibonacci\n",
        "def deret_fibonacci_36 (n):\n",
        "    if n < 1:\n",
        "        return [n]\n",
        "\n",
        "    list_sebelum_N_36 = deret_fibonacci_36(n - 1)\n",
        "    angka_1_36 = list_sebelum_N_36[-2] if len(list_sebelum_N_36) > 2 else 0\n",
        "    angka_2_36 = list_sebelum_N_36[-1] if len(list_sebelum_N_36) > 2 else 1\n",
        "\n",
        "    return list_sebelum_N_36 + [angka_1_36 + angka_2_36]\n",
        "\n",
        "panjang_36 = int(input('Masukkan panjang deret yang kamu inginkan :'))\n",
        "\n",
        "# dikurangin satu agar tidak kelebihan\n",
        "print(deret_fibonacci_36(panjang_36 - 1))"
      ],
      "metadata": {
        "colab": {
          "base_uri": "https://localhost:8080/"
        },
        "id": "V5KWqP8kLA8h",
        "outputId": "836e5d06-8a13-4174-afca-eedb04b87cad"
      },
      "execution_count": 62,
      "outputs": [
        {
          "output_type": "stream",
          "name": "stdout",
          "text": [
            "Masukkan panjang deret yang kamu inginkan :25\n",
            "[0, 1, 1, 2, 3, 5, 8, 13, 21, 34, 55, 89, 144, 233, 377, 610, 987, 1597, 2584, 4181, 6765, 10946, 17711, 28657, 46368]\n"
          ]
        }
      ]
    }
  ]
}