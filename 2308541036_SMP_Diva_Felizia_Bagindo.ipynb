{
  "nbformat": 4,
  "nbformat_minor": 0,
  "metadata": {
    "colab": {
      "provenance": []
    },
    "kernelspec": {
      "name": "python3",
      "display_name": "Python 3"
    },
    "language_info": {
      "name": "python"
    }
  },
  "cells": [
    {
      "cell_type": "markdown",
      "source": [
        "Latihan ketika di kelas"
      ],
      "metadata": {
        "id": "S40z_3pb9D6Y"
      }
    },
    {
      "cell_type": "code",
      "source": [
        "# Diketahui x memenuhi x^2+x-11-x = 0. Tentukan nilai yang memenuhui x^2024-x^2025 = (x(1-x))^n\n",
        "# Penyelesaian :\n",
        "import math\n",
        "x1_36 = 0.61803398875\n",
        "hasil_log_36 = math.log(x1_36**2024-x1_36**2025)/math.log(x1_36(1-x1_36))\n",
        "print (\"hasil_log_36\")"
      ],
      "metadata": {
        "id": "HfPROOb06tQj"
      },
      "execution_count": null,
      "outputs": []
    },
    {
      "cell_type": "code",
      "source": [
        "# Diketahui x memenuhi x^2+x-11-x = 0. Tentukan nilai yang memenuhui x^2024-x^2025 = (x(1-x))^n\n",
        "# Penyelesaian :\n",
        "import math\n",
        "x2_36 = -1.618033988749895\n",
        "hasil_log_36 = math.log(x2_36**2024-x2_36**2025)/math.log(x2_36(1-x2_36))\n",
        "print (\"hasil_log_36\")"
      ],
      "metadata": {
        "id": "ivDQGtGo8EDj"
      },
      "execution_count": null,
      "outputs": []
    },
    {
      "cell_type": "code",
      "source": [
        "x_1 = 0.61803398875\n",
        "x_2 = 1.61803398875\n",
        "print(x_2**2024)"
      ],
      "metadata": {
        "id": "vmuMYdwa88a9"
      },
      "execution_count": null,
      "outputs": []
    },
    {
      "cell_type": "markdown",
      "source": [
        "Tugas di rumah"
      ],
      "metadata": {
        "id": "r_tzspU69VHk"
      }
    },
    {
      "cell_type": "markdown",
      "source": [
        "1. Nilai x akar positif"
      ],
      "metadata": {
        "id": "CiBlmlRna2m4"
      }
    },
    {
      "cell_type": "code",
      "source": [
        "# Memanggil cmath\n",
        "import cmath\n",
        "# Nilai x1 dan x2\n",
        "x1 = 0.6180339887498949\n",
        "x2 = -1.618033988749895\n",
        "\n",
        "print(\"-*-*-*-*-*-*-*-*Ini untuk nilai x, jika akar positif-*-*-*-*-*-*-*-*\")\n",
        "# Menghitung x sebagai bilangan kompleks\n",
        "x1_36 = (-1 + cmath.sqrt(5)) / 2\n",
        "print(f\"Dengan nilai x1 yaitu {x1_36.real}\")\n",
        "\n",
        "# Menggunakan sifat-sifat logaritma untuk menyederhanakan perhitungan eksponensial\n",
        "# 1. log(a^b) = b * log(a)\n",
        "# 2. log(a)/log(b) = log_b(a)\n",
        "\n",
        "# Menetapkan bilangan pokok (basis) yang akan digunakan untuk logaritma\n",
        "bil_pokok_36 = x1_36*(1-x1_36)\n",
        "\n",
        "# Fungsi untuk menghitung logaritma dengan basis tertentu\n",
        "def log_b36(nilai_36, pembagi_36):       #definisi fungsi 'log_b36' untuk menghitung logaritma dengan basis yang diinginkan\n",
        "    return cmath.log(nilai_36) / cmath.log(pembagi_36)\n",
        "\n",
        "# Mencari nilai dari x^2024 - x^2025 = x^2024(1 - x)\n",
        "# Menggunakan sifat logaritma: log(ab) = log(a) + log(b)\n",
        "hasil_log_36 = 2024 * log_b36(x1_36, bil_pokok_36) + log_b36(1-x1_36, bil_pokok_36)\n",
        "nilai_n_36 = hasil_log_36.real\n",
        "\n",
        "# Menampilkan hasil akhir\n",
        "print(\"Maka di dapat hasil akhir dari nilai n adalah = {:.4f}\".format(nilai_n_36))\n",
        "print(\"-*-*-*-*-*-*-*-*TERIMA KASIH-*-*-*-*-*-*-*-*\")"
      ],
      "metadata": {
        "colab": {
          "base_uri": "https://localhost:8080/"
        },
        "id": "cF0U0d9a8PzM",
        "outputId": "7097ded4-2105-4c48-fb3d-e87da78c33a4"
      },
      "execution_count": null,
      "outputs": [
        {
          "output_type": "stream",
          "name": "stdout",
          "text": [
            "-*-*-*-*-*-*-*-*Ini untuk nilai x, jika akar positif-*-*-*-*-*-*-*-*\n",
            "Dengan nilai x1 yaitu 0.6180339887498949\n",
            "Maka di dapat hasil akhir dari nilai n adalah = 675.3333\n",
            "-*-*-*-*-*-*-*-*TERIMA KASIH-*-*-*-*-*-*-*-*\n"
          ]
        }
      ]
    },
    {
      "cell_type": "markdown",
      "source": [
        "2. Nilai x negatif akar negatif"
      ],
      "metadata": {
        "id": "kuUhRahCa46V"
      }
    },
    {
      "cell_type": "code",
      "source": [
        "# Memanggil cmath\n",
        "import cmath\n",
        "# Nilai x1 dan x2\n",
        "x1 = 0.6180339887498949\n",
        "x2 = -1.618033988749895\n",
        "\n",
        "print(\"-*-*-*-*-*-*-*-*Ini untuk nilai x, jika akar negatif-*-*-*-*-*-*-*-*\")\n",
        "# Menghitung x sebagai bilangan kompleks agar dapat menangani x negatif\n",
        "x2_36 = (-1 - cmath.sqrt(5)) / 2\n",
        "print(f\"Dengan nilai x2 yaitu {x2_36.real}\")\n",
        "\n",
        "# Menyimpan nilai x2_36\n",
        "x2_36_saved = x2_36\n",
        "\n",
        "# Menggunakan sifat-sifat logaritma untuk menyederhanakan perhitungan eksponensial\n",
        "# 1. log(a^b) = b * log(a)\n",
        "# 2. log(a)/log(b) = log_b(a)\n",
        "\n",
        "# Menetapkan bilangan pokok (basis) yang akan digunakan untuk logaritma\n",
        "bil_pokok_36 = x2_36 * (1 - x2_36)\n",
        "\n",
        "# Fungsi untuk menghitung logaritma dengan basis tertentu\n",
        "def log_b36(nilai_36, pembagi_36):       #definisi fungsi 'log_b36' untuk menghitung logaritma dengan basis yang diinginkan\n",
        "    return cmath.log(abs(nilai_36)) / cmath.log(abs(pembagi_36))\n",
        "    # Fungsi abs() dalam Python digunakan untuk mengembalikan nilai absolut dari suatu bilangan.\n",
        "    # Nilai absolut dari suatu bilangan adalah jaraknya dari nol pada garis bilangan tanpa memperhatikan arahnya (positif atau negatif)\n",
        "\n",
        "# Mencari nilai dari x^2024 - x^2025 = x^2024(1 - x)\n",
        "# Menggunakan sifat logaritma: log(ab) = log(a) + log(b)\n",
        "hasil_log_36 = 2024 * log_b36(x2_36, bil_pokok_36) + log_b36(1 - x2_36, bil_pokok_36)\n",
        "nilai_n_36 = hasil_log_36.real\n",
        "\n",
        "# Menampilkan hasil akhir\n",
        "print(\"Maka di dapat hasil akhir dari nilai n adalah = {:.4f}\".format(nilai_n_36))\n",
        "print(\"-*-*-*-*-*-*-*-*TERIMA KASIH-*-*-*-*-*-*-*-*\")"
      ],
      "metadata": {
        "colab": {
          "base_uri": "https://localhost:8080/"
        },
        "id": "9ZUJq4M0SkT_",
        "outputId": "ca565982-6e56-4178-b4b2-d9818ab715e2"
      },
      "execution_count": null,
      "outputs": [
        {
          "output_type": "stream",
          "name": "stdout",
          "text": [
            "-*-*-*-*-*-*-*-*Ini untuk nilai x, jika akar negatif-*-*-*-*-*-*-*-*\n",
            "Dengan nilai x2 yaitu -1.618033988749895\n",
            "Maka di dapat hasil akhir dari nilai n adalah = 675.3333\n",
            "-*-*-*-*-*-*-*-*TERIMA KASIH-*-*-*-*-*-*-*-*\n"
          ]
        }
      ]
    },
    {
      "cell_type": "markdown",
      "source": [
        "3. Jika Digabung"
      ],
      "metadata": {
        "id": "22HMbIqJ8cZc"
      }
    },
    {
      "cell_type": "code",
      "source": [
        "# Memanggil cmath\n",
        "import cmath\n",
        "# Nilai x1 dan x2\n",
        "x1 = 0.6180339887498949\n",
        "x2 = -1.618033988749895\n",
        "\n",
        "print(\"------------------------------------------------Selamat datang di program Diva------------------------------------------------\")\n",
        "print(\"-----------------------------Program ini untuk mencari nilai n dari suatu persamaan yang diberikan-----------------------------\")\n",
        "print(\"Diberikan x yang memenuhi : x^2 + x-1 = 0, dimana x^2 = 1-x \")\n",
        "print(\"Ayo tentukan nilai dari n yang memenuhi persamaan berikut x^2024-x^2025 = (x(1-x))^n!!!\")\n",
        "print(\" \")\n",
        "\n",
        "start_perhitungan_36 = True\n",
        "while start_perhitungan_36 :\n",
        "    print (\"Diberikan pilihan di bawah ini!\")\n",
        "    print (\" 1 : x1 = 0.6180339887498949\")\n",
        "    print (\" 2 : x2 = -1.618033988749895\")\n",
        "    print (\" 3 : Keluar\")\n",
        "\n",
        "    print(\" \")\n",
        "\n",
        "    pilih_36 = input(\"Ayo masukkan nilai x! Agar kamu mengetahui nilai n dari nilai x yang kamu pilih: \")\n",
        "\n",
        "    print (\" \")\n",
        "\n",
        "    if pilih_36 == \"1\" :\n",
        "        print (\"A. Nilai x yang ingin saya gunakan terdapat pada pilihan 1\")\n",
        "        # Menghitung x sebagai bilangan kompleks\n",
        "        x1_36 = (-1 + cmath.sqrt(5)) / 2\n",
        "        print(f\"Dengan nilai x1 yaitu {x1_36.real}\")\n",
        "\n",
        "        # Menggunakan sifat-sifat logaritma untuk menyederhanakan perhitungan eksponensial\n",
        "        # 1. log(a^b) = b * log(a)\n",
        "        # 2. log(a)/log(b) = log_b(a)\n",
        "\n",
        "        # Menetapkan bilangan pokok (basis) yang akan digunakan untuk logaritma\n",
        "        bil_pokok_36 = x1_36*(1-x1_36)\n",
        "\n",
        "        # Fungsi untuk menghitung logaritma dengan basis tertentu\n",
        "        def log_b36(nilai_36, pembagi_36):               #definisi fungsi 'log_b36' untuk menghitung logaritma dengan basis yang diinginkan\n",
        "            return cmath.log(nilai_36) / cmath.log(pembagi_36)\n",
        "\n",
        "        # Mencari nilai dari x^2024 - x^2025 = x^2024(1 - x)\n",
        "        # Menggunakan sifat logaritma: log(ab) = log(a) + log(b)\n",
        "        hasil_log_36 = 2024 * log_b36(x1_36, bil_pokok_36) + log_b36(1-x1_36, bil_pokok_36)\n",
        "        nilai_n_36 = hasil_log_36.real\n",
        "\n",
        "        # Menampilkan hasil akhir\n",
        "        print(\"Maka di dapat hasil akhir dari nilai n adalah = {:.4f}\".format(nilai_n_36))\n",
        "        print(\"================================================================================================================================\")\n",
        "\n",
        "    elif pilih_36 == \"2\" :\n",
        "        print (\"B. Nilai x yang ingin saya gunakan terdapat pada pilihan 2\")\n",
        "        # Menghitung x sebagai bilangan kompleks agar dapat menangani x negatif\n",
        "        x2_36 = (-1 - cmath.sqrt(5)) / 2\n",
        "        print(f\"Dengan nilai x2 yaitu {x2_36.real}\")\n",
        "\n",
        "        # Menyimpan nilai x2_36\n",
        "        x2_36_saved = x2_36\n",
        "\n",
        "        # Menggunakan sifat-sifat logaritma untuk menyederhanakan perhitungan eksponensial\n",
        "        # 1. log(a^b) = b * log(a)\n",
        "        # 2. log(a)/log(b) = log_b(a)\n",
        "\n",
        "        # Menetapkan bilangan pokok (basis) yang akan digunakan untuk logaritma\n",
        "        bil_pokok_36 = x2_36 * (1 - x2_36)\n",
        "\n",
        "        # Fungsi untuk menghitung logaritma dengan basis tertentu\n",
        "        def log_b36(nilai_36, pembagi_36):       #definisi fungsi 'log_b36' untuk menghitung logaritma dengan basis yang diinginkan\n",
        "            return cmath.log(abs(nilai_36)) / cmath.log(abs(pembagi_36))\n",
        "            # Fungsi abs() dalam Python digunakan untuk mengembalikan nilai absolut dari suatu bilangan.\n",
        "            # Nilai absolut dari suatu bilangan adalah jaraknya dari nol pada garis bilangan tanpa memperhatikan arahnya (positif atau negatif)\n",
        "\n",
        "        # Mencari nilai dari x^2024 - x^2025 = x^2024(1 - x)\n",
        "        # Menggunakan sifat logaritma: log(ab) = log(a) + log(b)\n",
        "        hasil_log_36 = 2024 * log_b36(x2_36, bil_pokok_36) + log_b36(1 - x2_36, bil_pokok_36)\n",
        "        nilai_n_36 = hasil_log_36.real\n",
        "\n",
        "        # Menampilkan hasil akhir\n",
        "        print(\"Maka di dapat hasil akhir dari nilai n adalah = {:.4f}\".format(nilai_n_36))\n",
        "        print(\"================================================================================================================================\")\n",
        "\n",
        "    elif pilih_36 == \"3\" :\n",
        "        # Menampilkan hasil akhir\n",
        "        print (\"C. Terima Kasih dan Jumpa Lagi!\")\n",
        "        start_perhitungan_36 = False\n",
        "        print(\"================================================================================================================================\")\n",
        "\n",
        "    else :\n",
        "        # Menampilkan hasil akhir\n",
        "        print (\"D. Nilai x yang kamu masukkan tidak valid. Harap input yang benar!!!!\")\n",
        "        print(\"================================================================================================================================\")\n",
        "\n",
        "print(\"****************************************************************SELESAI****************************************************************\")"
      ],
      "metadata": {
        "colab": {
          "base_uri": "https://localhost:8080/"
        },
        "id": "_RfIE3_kqR2X",
        "outputId": "a59f0213-3101-46b6-d284-fa3b1f74eba9"
      },
      "execution_count": 2,
      "outputs": [
        {
          "output_type": "stream",
          "name": "stdout",
          "text": [
            "------------------------------------------------Selamat datang di program Diva------------------------------------------------\n",
            "-----------------------------Program ini untuk mencari nilai n dari suatu persamaan yang diberikan-----------------------------\n",
            "Diberikan x yang memenuhi : x^2 + x-1 = 0, dimana x^2 = 1-x \n",
            "Ayo tentukan nilai dari n yang memenuhi persamaan berikut x^2024-x^2025 = (x(1-x))^n!!!\n",
            " \n",
            "Diberikan pilihan di bawah ini!\n",
            " 1 : x1 = 0.6180339887498949\n",
            " 2 : x2 = -1.618033988749895\n",
            " 3 : Keluar\n",
            " \n",
            "Ayo masukkan nilai x! Agar kamu mengetahui nilai n dari nilai x yang kamu pilih: 1\n",
            " \n",
            "A. Nilai x yang ingin saya gunakan terdapat pada pilihan 1\n",
            "Dengan nilai x1 yaitu 0.6180339887498949\n",
            "Maka di dapat hasil akhir dari nilai n adalah = 675.3333\n",
            "================================================================================================================================\n",
            "Diberikan pilihan di bawah ini!\n",
            " 1 : x1 = 0.6180339887498949\n",
            " 2 : x2 = -1.618033988749895\n",
            " 3 : Keluar\n",
            " \n",
            "Ayo masukkan nilai x! Agar kamu mengetahui nilai n dari nilai x yang kamu pilih: 2\n",
            " \n",
            "B. Nilai x yang ingin saya gunakan terdapat pada pilihan 2\n",
            "Dengan nilai x2 yaitu -1.618033988749895\n",
            "Maka di dapat hasil akhir dari nilai n adalah = 675.3333\n",
            "================================================================================================================================\n",
            "Diberikan pilihan di bawah ini!\n",
            " 1 : x1 = 0.6180339887498949\n",
            " 2 : x2 = -1.618033988749895\n",
            " 3 : Keluar\n",
            " \n",
            "Ayo masukkan nilai x! Agar kamu mengetahui nilai n dari nilai x yang kamu pilih: 0\n",
            " \n",
            "D. Nilai x yang kamu masukkan tidak valid. Harap input yang benar!!!!\n",
            "================================================================================================================================\n",
            "Diberikan pilihan di bawah ini!\n",
            " 1 : x1 = 0.6180339887498949\n",
            " 2 : x2 = -1.618033988749895\n",
            " 3 : Keluar\n",
            " \n",
            "Ayo masukkan nilai x! Agar kamu mengetahui nilai n dari nilai x yang kamu pilih: 3\n",
            " \n",
            "C. Terima Kasih dan Jumpa Lagi!\n",
            "================================================================================================================================\n",
            "****************************************************************SELESAI****************************************************************\n"
          ]
        }
      ]
    },
    {
      "cell_type": "code",
      "source": [
        "nilai_n_36 = 2026/3\n",
        "print(\"Maka di dapat hasil akhir dari nilai n adalah {:.4f}\".format(nilai_n_36))"
      ],
      "metadata": {
        "colab": {
          "base_uri": "https://localhost:8080/"
        },
        "id": "bR4C-6c6oVoD",
        "outputId": "0f758bd3-26f9-469c-f32e-387fe674baa9"
      },
      "execution_count": null,
      "outputs": [
        {
          "output_type": "stream",
          "name": "stdout",
          "text": [
            "Maka di dapat hasil akhir dari nilai n adalah 675.3333\n"
          ]
        }
      ]
    }
  ]
}